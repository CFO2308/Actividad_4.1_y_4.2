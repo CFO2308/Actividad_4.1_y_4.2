{
 "cells": [
  {
   "cell_type": "code",
   "execution_count": 2,
   "id": "807d7536",
   "metadata": {},
   "outputs": [],
   "source": [
    "import numpy as np\n",
    "import matplotlib.pyplot as plt\n",
    "import scipy.special as special\n",
    "from scipy.optimize import curve_fit\n",
    "import seaborn as sns\n",
    "from sklearn.metrics import r2_score\n",
    "import pandas as pd\n",
    "from sklearn.model_selection import train_test_split\n",
    "from sklearn.linear_model import LogisticRegression\n",
    "from sklearn.metrics import confusion_matrix, classification_report\n",
    "from sklearn.preprocessing import StandardScaler\n",
    "from sklearn.metrics import precision_score, accuracy_score, recall_score\n"
   ]
  },
  {
   "cell_type": "code",
   "execution_count": 3,
   "id": "4a14800d",
   "metadata": {},
   "outputs": [
    {
     "data": {
      "text/html": [
       "<div>\n",
       "<style scoped>\n",
       "    .dataframe tbody tr th:only-of-type {\n",
       "        vertical-align: middle;\n",
       "    }\n",
       "\n",
       "    .dataframe tbody tr th {\n",
       "        vertical-align: top;\n",
       "    }\n",
       "\n",
       "    .dataframe thead th {\n",
       "        text-align: right;\n",
       "    }\n",
       "</style>\n",
       "<table border=\"1\" class=\"dataframe\">\n",
       "  <thead>\n",
       "    <tr style=\"text-align: right;\">\n",
       "      <th></th>\n",
       "      <th>Administrador</th>\n",
       "      <th>Usuario</th>\n",
       "      <th>botón correcto</th>\n",
       "      <th>tiempo de interacción</th>\n",
       "      <th>mini juego</th>\n",
       "      <th>número de interacción</th>\n",
       "      <th>color presionado</th>\n",
       "      <th>dificultad</th>\n",
       "      <th>fecha</th>\n",
       "      <th>Juego</th>\n",
       "      <th>auto push</th>\n",
       "      <th>tiempo de lección</th>\n",
       "      <th>tiempo de sesión</th>\n",
       "    </tr>\n",
       "  </thead>\n",
       "  <tbody>\n",
       "    <tr>\n",
       "      <th>0</th>\n",
       "      <td>nicolas</td>\n",
       "      <td>nicolas</td>\n",
       "      <td>1.0</td>\n",
       "      <td>5.399169</td>\n",
       "      <td>Despegue</td>\n",
       "      <td>1.0</td>\n",
       "      <td>blue</td>\n",
       "      <td>Episodio 1</td>\n",
       "      <td>25/01/2024 09:26:42 a. m.</td>\n",
       "      <td>Astro</td>\n",
       "      <td>0.0</td>\n",
       "      <td>0.0</td>\n",
       "      <td>0.0</td>\n",
       "    </tr>\n",
       "    <tr>\n",
       "      <th>1</th>\n",
       "      <td>nicolas</td>\n",
       "      <td>nicolas</td>\n",
       "      <td>0.0</td>\n",
       "      <td>1.283400</td>\n",
       "      <td>Despegue</td>\n",
       "      <td>2.0</td>\n",
       "      <td>violet</td>\n",
       "      <td>Episodio 1</td>\n",
       "      <td>25/01/2024 09:26:46 a. m.</td>\n",
       "      <td>Astro</td>\n",
       "      <td>0.0</td>\n",
       "      <td>0.0</td>\n",
       "      <td>0.0</td>\n",
       "    </tr>\n",
       "    <tr>\n",
       "      <th>2</th>\n",
       "      <td>nicolas</td>\n",
       "      <td>nicolas</td>\n",
       "      <td>1.0</td>\n",
       "      <td>2.700226</td>\n",
       "      <td>Despegue</td>\n",
       "      <td>3.0</td>\n",
       "      <td>green</td>\n",
       "      <td>Episodio 1</td>\n",
       "      <td>25/01/2024 09:26:48 a. m.</td>\n",
       "      <td>Astro</td>\n",
       "      <td>0.0</td>\n",
       "      <td>0.0</td>\n",
       "      <td>0.0</td>\n",
       "    </tr>\n",
       "    <tr>\n",
       "      <th>3</th>\n",
       "      <td>nicolas</td>\n",
       "      <td>nicolas</td>\n",
       "      <td>0.0</td>\n",
       "      <td>3.050262</td>\n",
       "      <td>Despegue</td>\n",
       "      <td>4.0</td>\n",
       "      <td>green</td>\n",
       "      <td>Episodio 1</td>\n",
       "      <td>25/01/2024 09:26:57 a. m.</td>\n",
       "      <td>Astro</td>\n",
       "      <td>0.0</td>\n",
       "      <td>0.0</td>\n",
       "      <td>0.0</td>\n",
       "    </tr>\n",
       "    <tr>\n",
       "      <th>4</th>\n",
       "      <td>nicolas</td>\n",
       "      <td>nicolas</td>\n",
       "      <td>0.0</td>\n",
       "      <td>4.750256</td>\n",
       "      <td>Despegue</td>\n",
       "      <td>5.0</td>\n",
       "      <td>green</td>\n",
       "      <td>Episodio 1</td>\n",
       "      <td>25/01/2024 09:26:58 a. m.</td>\n",
       "      <td>Astro</td>\n",
       "      <td>0.0</td>\n",
       "      <td>0.0</td>\n",
       "      <td>0.0</td>\n",
       "    </tr>\n",
       "  </tbody>\n",
       "</table>\n",
       "</div>"
      ],
      "text/plain": [
       "  Administrador  Usuario  botón correcto  tiempo de interacción mini juego  \\\n",
       "0       nicolas  nicolas             1.0               5.399169   Despegue   \n",
       "1       nicolas  nicolas             0.0               1.283400   Despegue   \n",
       "2       nicolas  nicolas             1.0               2.700226   Despegue   \n",
       "3       nicolas  nicolas             0.0               3.050262   Despegue   \n",
       "4       nicolas  nicolas             0.0               4.750256   Despegue   \n",
       "\n",
       "   número de interacción color presionado  dificultad  \\\n",
       "0                    1.0             blue  Episodio 1   \n",
       "1                    2.0           violet  Episodio 1   \n",
       "2                    3.0            green  Episodio 1   \n",
       "3                    4.0            green  Episodio 1   \n",
       "4                    5.0            green  Episodio 1   \n",
       "\n",
       "                       fecha  Juego  auto push  tiempo de lección  \\\n",
       "0  25/01/2024 09:26:42 a. m.  Astro        0.0                0.0   \n",
       "1  25/01/2024 09:26:46 a. m.  Astro        0.0                0.0   \n",
       "2  25/01/2024 09:26:48 a. m.  Astro        0.0                0.0   \n",
       "3  25/01/2024 09:26:57 a. m.  Astro        0.0                0.0   \n",
       "4  25/01/2024 09:26:58 a. m.  Astro        0.0                0.0   \n",
       "\n",
       "   tiempo de sesión  \n",
       "0               0.0  \n",
       "1               0.0  \n",
       "2               0.0  \n",
       "3               0.0  \n",
       "4               0.0  "
      ]
     },
     "execution_count": 3,
     "metadata": {},
     "output_type": "execute_result"
    }
   ],
   "source": [
    "data_sucio = pd.read_csv('DataAnalytics.csv')\n",
    "data_sucio.head(5)"
   ]
  },
  {
   "cell_type": "code",
   "execution_count": 4,
   "id": "75a872c7",
   "metadata": {},
   "outputs": [
    {
     "name": "stdout",
     "output_type": "stream",
     "text": [
      "<class 'pandas.core.frame.DataFrame'>\n",
      "RangeIndex: 5865 entries, 0 to 5864\n",
      "Data columns (total 13 columns):\n",
      " #   Column                 Non-Null Count  Dtype  \n",
      "---  ------                 --------------  -----  \n",
      " 0   Administrador          5865 non-null   object \n",
      " 1   Usuario                5865 non-null   object \n",
      " 2   botón correcto         5103 non-null   float64\n",
      " 3   tiempo de interacción  5103 non-null   float64\n",
      " 4   mini juego             5709 non-null   object \n",
      " 5   número de interacción  5103 non-null   float64\n",
      " 6   color presionado       5103 non-null   object \n",
      " 7   dificultad             5865 non-null   object \n",
      " 8   fecha                  5865 non-null   object \n",
      " 9   Juego                  5865 non-null   object \n",
      " 10  auto push              5103 non-null   float64\n",
      " 11  tiempo de lección      5688 non-null   float64\n",
      " 12  tiempo de sesión       5259 non-null   float64\n",
      "dtypes: float64(6), object(7)\n",
      "memory usage: 595.8+ KB\n"
     ]
    }
   ],
   "source": [
    "data_sucio.info()"
   ]
  },
  {
   "cell_type": "markdown",
   "id": "f12fddbe",
   "metadata": {},
   "source": [
    "## Limpieza de Nulos "
   ]
  },
  {
   "cell_type": "code",
   "execution_count": 5,
   "id": "0c47a703",
   "metadata": {},
   "outputs": [
    {
     "name": "stdout",
     "output_type": "stream",
     "text": [
      "<class 'pandas.core.frame.DataFrame'>\n",
      "RangeIndex: 5865 entries, 0 to 5864\n",
      "Data columns (total 7 columns):\n",
      " #   Column            Non-Null Count  Dtype \n",
      "---  ------            --------------  ----- \n",
      " 0   Administrador     5865 non-null   object\n",
      " 1   Usuario           5865 non-null   object\n",
      " 2   mini juego        5709 non-null   object\n",
      " 3   color presionado  5103 non-null   object\n",
      " 4   dificultad        5865 non-null   object\n",
      " 5   fecha             5865 non-null   object\n",
      " 6   Juego             5865 non-null   object\n",
      "dtypes: object(7)\n",
      "memory usage: 320.9+ KB\n",
      "<class 'pandas.core.frame.DataFrame'>\n",
      "RangeIndex: 5865 entries, 0 to 5864\n",
      "Data columns (total 6 columns):\n",
      " #   Column                 Non-Null Count  Dtype  \n",
      "---  ------                 --------------  -----  \n",
      " 0   botón correcto         5103 non-null   float64\n",
      " 1   tiempo de interacción  5103 non-null   float64\n",
      " 2   número de interacción  5103 non-null   float64\n",
      " 3   auto push              5103 non-null   float64\n",
      " 4   tiempo de lección      5688 non-null   float64\n",
      " 5   tiempo de sesión       5259 non-null   float64\n",
      "dtypes: float64(6)\n",
      "memory usage: 275.1 KB\n"
     ]
    }
   ],
   "source": [
    "data_cuanti=data_sucio.select_dtypes(include=[\"float64\",\"int64\",\"float\",\"int\"])\n",
    "data_cuali=data_sucio.select_dtypes(include=[\"object\",\"datetime\",\"category\",\"datetime64[ns]\"])\n",
    "data_cuali.info()\n",
    "data_cuanti.info(5)"
   ]
  },
  {
   "cell_type": "code",
   "execution_count": 6,
   "id": "1c3546da",
   "metadata": {},
   "outputs": [
    {
     "name": "stderr",
     "output_type": "stream",
     "text": [
      "/var/folders/cr/23ck8vtn1kd8mbhg9wssxh440000gn/T/ipykernel_2271/3586926086.py:1: FutureWarning: DataFrame.fillna with 'method' is deprecated and will raise in a future version. Use obj.ffill() or obj.bfill() instead.\n",
      "  cualis_bfill=data_cuali.fillna(method=\"bfill\")\n",
      "/var/folders/cr/23ck8vtn1kd8mbhg9wssxh440000gn/T/ipykernel_2271/3586926086.py:2: FutureWarning: DataFrame.fillna with 'method' is deprecated and will raise in a future version. Use obj.ffill() or obj.bfill() instead.\n",
      "  cualis_ffill=data_cuali.fillna(method=\"ffill\")\n"
     ]
    },
    {
     "data": {
      "text/html": [
       "<div>\n",
       "<style scoped>\n",
       "    .dataframe tbody tr th:only-of-type {\n",
       "        vertical-align: middle;\n",
       "    }\n",
       "\n",
       "    .dataframe tbody tr th {\n",
       "        vertical-align: top;\n",
       "    }\n",
       "\n",
       "    .dataframe thead th {\n",
       "        text-align: right;\n",
       "    }\n",
       "</style>\n",
       "<table border=\"1\" class=\"dataframe\">\n",
       "  <thead>\n",
       "    <tr style=\"text-align: right;\">\n",
       "      <th></th>\n",
       "      <th>botón correcto</th>\n",
       "      <th>tiempo de interacción</th>\n",
       "      <th>número de interacción</th>\n",
       "      <th>auto push</th>\n",
       "      <th>tiempo de lección</th>\n",
       "      <th>tiempo de sesión</th>\n",
       "      <th>Administrador</th>\n",
       "      <th>Usuario</th>\n",
       "      <th>mini juego</th>\n",
       "      <th>color presionado</th>\n",
       "      <th>dificultad</th>\n",
       "      <th>fecha</th>\n",
       "      <th>Juego</th>\n",
       "    </tr>\n",
       "  </thead>\n",
       "  <tbody>\n",
       "    <tr>\n",
       "      <th>0</th>\n",
       "      <td>1.0</td>\n",
       "      <td>5.399169</td>\n",
       "      <td>1.0</td>\n",
       "      <td>0.0</td>\n",
       "      <td>0.0</td>\n",
       "      <td>0.0</td>\n",
       "      <td>nicolas</td>\n",
       "      <td>nicolas</td>\n",
       "      <td>Despegue</td>\n",
       "      <td>blue</td>\n",
       "      <td>Episodio 1</td>\n",
       "      <td>25/01/2024 09:26:42 a. m.</td>\n",
       "      <td>Astro</td>\n",
       "    </tr>\n",
       "    <tr>\n",
       "      <th>1</th>\n",
       "      <td>0.0</td>\n",
       "      <td>1.283400</td>\n",
       "      <td>2.0</td>\n",
       "      <td>0.0</td>\n",
       "      <td>0.0</td>\n",
       "      <td>0.0</td>\n",
       "      <td>nicolas</td>\n",
       "      <td>nicolas</td>\n",
       "      <td>Despegue</td>\n",
       "      <td>violet</td>\n",
       "      <td>Episodio 1</td>\n",
       "      <td>25/01/2024 09:26:46 a. m.</td>\n",
       "      <td>Astro</td>\n",
       "    </tr>\n",
       "    <tr>\n",
       "      <th>2</th>\n",
       "      <td>1.0</td>\n",
       "      <td>2.700226</td>\n",
       "      <td>3.0</td>\n",
       "      <td>0.0</td>\n",
       "      <td>0.0</td>\n",
       "      <td>0.0</td>\n",
       "      <td>nicolas</td>\n",
       "      <td>nicolas</td>\n",
       "      <td>Despegue</td>\n",
       "      <td>green</td>\n",
       "      <td>Episodio 1</td>\n",
       "      <td>25/01/2024 09:26:48 a. m.</td>\n",
       "      <td>Astro</td>\n",
       "    </tr>\n",
       "    <tr>\n",
       "      <th>3</th>\n",
       "      <td>0.0</td>\n",
       "      <td>3.050262</td>\n",
       "      <td>4.0</td>\n",
       "      <td>0.0</td>\n",
       "      <td>0.0</td>\n",
       "      <td>0.0</td>\n",
       "      <td>nicolas</td>\n",
       "      <td>nicolas</td>\n",
       "      <td>Despegue</td>\n",
       "      <td>green</td>\n",
       "      <td>Episodio 1</td>\n",
       "      <td>25/01/2024 09:26:57 a. m.</td>\n",
       "      <td>Astro</td>\n",
       "    </tr>\n",
       "    <tr>\n",
       "      <th>4</th>\n",
       "      <td>0.0</td>\n",
       "      <td>4.750256</td>\n",
       "      <td>5.0</td>\n",
       "      <td>0.0</td>\n",
       "      <td>0.0</td>\n",
       "      <td>0.0</td>\n",
       "      <td>nicolas</td>\n",
       "      <td>nicolas</td>\n",
       "      <td>Despegue</td>\n",
       "      <td>green</td>\n",
       "      <td>Episodio 1</td>\n",
       "      <td>25/01/2024 09:26:58 a. m.</td>\n",
       "      <td>Astro</td>\n",
       "    </tr>\n",
       "  </tbody>\n",
       "</table>\n",
       "</div>"
      ],
      "text/plain": [
       "   botón correcto  tiempo de interacción  número de interacción  auto push  \\\n",
       "0             1.0               5.399169                    1.0        0.0   \n",
       "1             0.0               1.283400                    2.0        0.0   \n",
       "2             1.0               2.700226                    3.0        0.0   \n",
       "3             0.0               3.050262                    4.0        0.0   \n",
       "4             0.0               4.750256                    5.0        0.0   \n",
       "\n",
       "   tiempo de lección  tiempo de sesión Administrador  Usuario mini juego  \\\n",
       "0                0.0               0.0       nicolas  nicolas   Despegue   \n",
       "1                0.0               0.0       nicolas  nicolas   Despegue   \n",
       "2                0.0               0.0       nicolas  nicolas   Despegue   \n",
       "3                0.0               0.0       nicolas  nicolas   Despegue   \n",
       "4                0.0               0.0       nicolas  nicolas   Despegue   \n",
       "\n",
       "  color presionado  dificultad                      fecha  Juego  \n",
       "0             blue  Episodio 1  25/01/2024 09:26:42 a. m.  Astro  \n",
       "1           violet  Episodio 1  25/01/2024 09:26:46 a. m.  Astro  \n",
       "2            green  Episodio 1  25/01/2024 09:26:48 a. m.  Astro  \n",
       "3            green  Episodio 1  25/01/2024 09:26:57 a. m.  Astro  \n",
       "4            green  Episodio 1  25/01/2024 09:26:58 a. m.  Astro  "
      ]
     },
     "execution_count": 6,
     "metadata": {},
     "output_type": "execute_result"
    }
   ],
   "source": [
    "cualis_bfill=data_cuali.fillna(method=\"bfill\")\n",
    "cualis_ffill=data_cuali.fillna(method=\"ffill\")\n",
    "cuantias_mean=data_cuanti.fillna(round(data_cuanti.mean(),1))\n",
    "\n",
    "data_sin_nulos = pd.concat([cuantias_mean,cualis_ffill],axis=1)\n",
    "\n",
    "data_sin_nulos.head(5)"
   ]
  },
  {
   "cell_type": "code",
   "execution_count": 7,
   "id": "5e5dbf13",
   "metadata": {},
   "outputs": [
    {
     "name": "stdout",
     "output_type": "stream",
     "text": [
      "0\n"
     ]
    }
   ],
   "source": [
    "data=data_sin_nulos.isnull().sum().sum()\n",
    "print(data)"
   ]
  },
  {
   "cell_type": "code",
   "execution_count": 8,
   "id": "c899cb5e",
   "metadata": {},
   "outputs": [],
   "source": [
    "DATA = data"
   ]
  },
  {
   "cell_type": "markdown",
   "id": "5fc1895f",
   "metadata": {},
   "source": [
    "## Limpieza Outliers"
   ]
  },
  {
   "cell_type": "code",
   "execution_count": 9,
   "id": "e7aa9558",
   "metadata": {},
   "outputs": [
    {
     "data": {
      "text/html": [
       "<div>\n",
       "<style scoped>\n",
       "    .dataframe tbody tr th:only-of-type {\n",
       "        vertical-align: middle;\n",
       "    }\n",
       "\n",
       "    .dataframe tbody tr th {\n",
       "        vertical-align: top;\n",
       "    }\n",
       "\n",
       "    .dataframe thead th {\n",
       "        text-align: right;\n",
       "    }\n",
       "</style>\n",
       "<table border=\"1\" class=\"dataframe\">\n",
       "  <thead>\n",
       "    <tr style=\"text-align: right;\">\n",
       "      <th></th>\n",
       "      <th>Administrador</th>\n",
       "      <th>Usuario</th>\n",
       "      <th>mini juego</th>\n",
       "      <th>color presionado</th>\n",
       "      <th>dificultad</th>\n",
       "      <th>fecha</th>\n",
       "      <th>Juego</th>\n",
       "      <th>botón correcto</th>\n",
       "      <th>tiempo de interacción</th>\n",
       "      <th>número de interacción</th>\n",
       "      <th>auto push</th>\n",
       "      <th>tiempo de lección</th>\n",
       "      <th>tiempo de sesión</th>\n",
       "    </tr>\n",
       "  </thead>\n",
       "  <tbody>\n",
       "    <tr>\n",
       "      <th>0</th>\n",
       "      <td>nicolas</td>\n",
       "      <td>nicolas</td>\n",
       "      <td>Despegue</td>\n",
       "      <td>blue</td>\n",
       "      <td>Episodio 1</td>\n",
       "      <td>25/01/2024 09:26:42 a. m.</td>\n",
       "      <td>Astro</td>\n",
       "      <td>1.0</td>\n",
       "      <td>5.399169</td>\n",
       "      <td>1.0</td>\n",
       "      <td>0.0</td>\n",
       "      <td>0.0</td>\n",
       "      <td>0.0</td>\n",
       "    </tr>\n",
       "    <tr>\n",
       "      <th>1</th>\n",
       "      <td>nicolas</td>\n",
       "      <td>nicolas</td>\n",
       "      <td>Despegue</td>\n",
       "      <td>violet</td>\n",
       "      <td>Episodio 1</td>\n",
       "      <td>25/01/2024 09:26:46 a. m.</td>\n",
       "      <td>Astro</td>\n",
       "      <td>0.0</td>\n",
       "      <td>1.283400</td>\n",
       "      <td>2.0</td>\n",
       "      <td>0.0</td>\n",
       "      <td>0.0</td>\n",
       "      <td>0.0</td>\n",
       "    </tr>\n",
       "    <tr>\n",
       "      <th>2</th>\n",
       "      <td>nicolas</td>\n",
       "      <td>nicolas</td>\n",
       "      <td>Despegue</td>\n",
       "      <td>green</td>\n",
       "      <td>Episodio 1</td>\n",
       "      <td>25/01/2024 09:26:48 a. m.</td>\n",
       "      <td>Astro</td>\n",
       "      <td>1.0</td>\n",
       "      <td>2.700226</td>\n",
       "      <td>3.0</td>\n",
       "      <td>0.0</td>\n",
       "      <td>0.0</td>\n",
       "      <td>0.0</td>\n",
       "    </tr>\n",
       "    <tr>\n",
       "      <th>3</th>\n",
       "      <td>nicolas</td>\n",
       "      <td>nicolas</td>\n",
       "      <td>Despegue</td>\n",
       "      <td>green</td>\n",
       "      <td>Episodio 1</td>\n",
       "      <td>25/01/2024 09:26:57 a. m.</td>\n",
       "      <td>Astro</td>\n",
       "      <td>0.0</td>\n",
       "      <td>3.050262</td>\n",
       "      <td>4.0</td>\n",
       "      <td>0.0</td>\n",
       "      <td>0.0</td>\n",
       "      <td>0.0</td>\n",
       "    </tr>\n",
       "    <tr>\n",
       "      <th>4</th>\n",
       "      <td>nicolas</td>\n",
       "      <td>nicolas</td>\n",
       "      <td>Despegue</td>\n",
       "      <td>green</td>\n",
       "      <td>Episodio 1</td>\n",
       "      <td>25/01/2024 09:26:58 a. m.</td>\n",
       "      <td>Astro</td>\n",
       "      <td>0.0</td>\n",
       "      <td>4.750256</td>\n",
       "      <td>5.0</td>\n",
       "      <td>0.0</td>\n",
       "      <td>0.0</td>\n",
       "      <td>0.0</td>\n",
       "    </tr>\n",
       "  </tbody>\n",
       "</table>\n",
       "</div>"
      ],
      "text/plain": [
       "  Administrador  Usuario mini juego color presionado  dificultad  \\\n",
       "0       nicolas  nicolas   Despegue             blue  Episodio 1   \n",
       "1       nicolas  nicolas   Despegue           violet  Episodio 1   \n",
       "2       nicolas  nicolas   Despegue            green  Episodio 1   \n",
       "3       nicolas  nicolas   Despegue            green  Episodio 1   \n",
       "4       nicolas  nicolas   Despegue            green  Episodio 1   \n",
       "\n",
       "                       fecha  Juego  botón correcto  tiempo de interacción  \\\n",
       "0  25/01/2024 09:26:42 a. m.  Astro             1.0               5.399169   \n",
       "1  25/01/2024 09:26:46 a. m.  Astro             0.0               1.283400   \n",
       "2  25/01/2024 09:26:48 a. m.  Astro             1.0               2.700226   \n",
       "3  25/01/2024 09:26:57 a. m.  Astro             0.0               3.050262   \n",
       "4  25/01/2024 09:26:58 a. m.  Astro             0.0               4.750256   \n",
       "\n",
       "   número de interacción  auto push  tiempo de lección  tiempo de sesión  \n",
       "0                    1.0        0.0                0.0               0.0  \n",
       "1                    2.0        0.0                0.0               0.0  \n",
       "2                    3.0        0.0                0.0               0.0  \n",
       "3                    4.0        0.0                0.0               0.0  \n",
       "4                    5.0        0.0                0.0               0.0  "
      ]
     },
     "execution_count": 9,
     "metadata": {},
     "output_type": "execute_result"
    }
   ],
   "source": [
    "cuantitativas=data_sucio.select_dtypes(include=[\"float64\",\"int64\",\"float\",\"int\"])\n",
    "cualitativas=data_sucio.select_dtypes(include=[\"object\",\"datetime\",\"category\"])\n",
    "y=cuantitativas\n",
    "\n",
    "percentile25=y.quantile(0.25)\n",
    "percentile75=y.quantile(0.75)\n",
    "iqr= percentile75-percentile25\n",
    "\n",
    "Limite_Superior_iqr= percentile75+1.5*iqr\n",
    "Limite_Inferior_iqr= percentile25-1.5*iqr\n",
    "iqr=cuantitativas[(y<=Limite_Superior_iqr)&y>=(Limite_Inferior_iqr)]\n",
    "iqr2=iqr.fillna(round(iqr.mean(),1))\n",
    "rango_intercuartilico=pd.concat([cualitativas,iqr2],axis=1)\n",
    "rango_intercuartilico.head(5)"
   ]
  },
  {
   "cell_type": "code",
   "execution_count": 10,
   "id": "6a67fc48",
   "metadata": {},
   "outputs": [
    {
     "name": "stderr",
     "output_type": "stream",
     "text": [
      "/var/folders/cr/23ck8vtn1kd8mbhg9wssxh440000gn/T/ipykernel_2271/3308866133.py:1: FutureWarning: DataFrame.fillna with 'method' is deprecated and will raise in a future version. Use obj.ffill() or obj.bfill() instead.\n",
      "  cualis_bfill=data_cuali.fillna(method=\"bfill\")\n",
      "/var/folders/cr/23ck8vtn1kd8mbhg9wssxh440000gn/T/ipykernel_2271/3308866133.py:2: FutureWarning: DataFrame.fillna with 'method' is deprecated and will raise in a future version. Use obj.ffill() or obj.bfill() instead.\n",
      "  cualis_ffill=data_cuali.fillna(method=\"ffill\")\n"
     ]
    },
    {
     "data": {
      "text/html": [
       "<div>\n",
       "<style scoped>\n",
       "    .dataframe tbody tr th:only-of-type {\n",
       "        vertical-align: middle;\n",
       "    }\n",
       "\n",
       "    .dataframe tbody tr th {\n",
       "        vertical-align: top;\n",
       "    }\n",
       "\n",
       "    .dataframe thead th {\n",
       "        text-align: right;\n",
       "    }\n",
       "</style>\n",
       "<table border=\"1\" class=\"dataframe\">\n",
       "  <thead>\n",
       "    <tr style=\"text-align: right;\">\n",
       "      <th></th>\n",
       "      <th>botón correcto</th>\n",
       "      <th>tiempo de interacción</th>\n",
       "      <th>número de interacción</th>\n",
       "      <th>auto push</th>\n",
       "      <th>tiempo de lección</th>\n",
       "      <th>tiempo de sesión</th>\n",
       "      <th>Administrador</th>\n",
       "      <th>Usuario</th>\n",
       "      <th>mini juego</th>\n",
       "      <th>color presionado</th>\n",
       "      <th>dificultad</th>\n",
       "      <th>fecha</th>\n",
       "      <th>Juego</th>\n",
       "    </tr>\n",
       "  </thead>\n",
       "  <tbody>\n",
       "    <tr>\n",
       "      <th>0</th>\n",
       "      <td>1.0</td>\n",
       "      <td>5.399169</td>\n",
       "      <td>1.0</td>\n",
       "      <td>0.0</td>\n",
       "      <td>0.0</td>\n",
       "      <td>0.0</td>\n",
       "      <td>nicolas</td>\n",
       "      <td>nicolas</td>\n",
       "      <td>Despegue</td>\n",
       "      <td>blue</td>\n",
       "      <td>Episodio 1</td>\n",
       "      <td>25/01/2024 09:26:42 a. m.</td>\n",
       "      <td>Astro</td>\n",
       "    </tr>\n",
       "    <tr>\n",
       "      <th>1</th>\n",
       "      <td>0.0</td>\n",
       "      <td>1.283400</td>\n",
       "      <td>2.0</td>\n",
       "      <td>0.0</td>\n",
       "      <td>0.0</td>\n",
       "      <td>0.0</td>\n",
       "      <td>nicolas</td>\n",
       "      <td>nicolas</td>\n",
       "      <td>Despegue</td>\n",
       "      <td>violet</td>\n",
       "      <td>Episodio 1</td>\n",
       "      <td>25/01/2024 09:26:46 a. m.</td>\n",
       "      <td>Astro</td>\n",
       "    </tr>\n",
       "    <tr>\n",
       "      <th>2</th>\n",
       "      <td>1.0</td>\n",
       "      <td>2.700226</td>\n",
       "      <td>3.0</td>\n",
       "      <td>0.0</td>\n",
       "      <td>0.0</td>\n",
       "      <td>0.0</td>\n",
       "      <td>nicolas</td>\n",
       "      <td>nicolas</td>\n",
       "      <td>Despegue</td>\n",
       "      <td>green</td>\n",
       "      <td>Episodio 1</td>\n",
       "      <td>25/01/2024 09:26:48 a. m.</td>\n",
       "      <td>Astro</td>\n",
       "    </tr>\n",
       "    <tr>\n",
       "      <th>3</th>\n",
       "      <td>0.0</td>\n",
       "      <td>3.050262</td>\n",
       "      <td>4.0</td>\n",
       "      <td>0.0</td>\n",
       "      <td>0.0</td>\n",
       "      <td>0.0</td>\n",
       "      <td>nicolas</td>\n",
       "      <td>nicolas</td>\n",
       "      <td>Despegue</td>\n",
       "      <td>green</td>\n",
       "      <td>Episodio 1</td>\n",
       "      <td>25/01/2024 09:26:57 a. m.</td>\n",
       "      <td>Astro</td>\n",
       "    </tr>\n",
       "    <tr>\n",
       "      <th>4</th>\n",
       "      <td>0.0</td>\n",
       "      <td>4.750256</td>\n",
       "      <td>5.0</td>\n",
       "      <td>0.0</td>\n",
       "      <td>0.0</td>\n",
       "      <td>0.0</td>\n",
       "      <td>nicolas</td>\n",
       "      <td>nicolas</td>\n",
       "      <td>Despegue</td>\n",
       "      <td>green</td>\n",
       "      <td>Episodio 1</td>\n",
       "      <td>25/01/2024 09:26:58 a. m.</td>\n",
       "      <td>Astro</td>\n",
       "    </tr>\n",
       "  </tbody>\n",
       "</table>\n",
       "</div>"
      ],
      "text/plain": [
       "   botón correcto  tiempo de interacción  número de interacción  auto push  \\\n",
       "0             1.0               5.399169                    1.0        0.0   \n",
       "1             0.0               1.283400                    2.0        0.0   \n",
       "2             1.0               2.700226                    3.0        0.0   \n",
       "3             0.0               3.050262                    4.0        0.0   \n",
       "4             0.0               4.750256                    5.0        0.0   \n",
       "\n",
       "   tiempo de lección  tiempo de sesión Administrador  Usuario mini juego  \\\n",
       "0                0.0               0.0       nicolas  nicolas   Despegue   \n",
       "1                0.0               0.0       nicolas  nicolas   Despegue   \n",
       "2                0.0               0.0       nicolas  nicolas   Despegue   \n",
       "3                0.0               0.0       nicolas  nicolas   Despegue   \n",
       "4                0.0               0.0       nicolas  nicolas   Despegue   \n",
       "\n",
       "  color presionado  dificultad                      fecha  Juego  \n",
       "0             blue  Episodio 1  25/01/2024 09:26:42 a. m.  Astro  \n",
       "1           violet  Episodio 1  25/01/2024 09:26:46 a. m.  Astro  \n",
       "2            green  Episodio 1  25/01/2024 09:26:48 a. m.  Astro  \n",
       "3            green  Episodio 1  25/01/2024 09:26:57 a. m.  Astro  \n",
       "4            green  Episodio 1  25/01/2024 09:26:58 a. m.  Astro  "
      ]
     },
     "execution_count": 10,
     "metadata": {},
     "output_type": "execute_result"
    }
   ],
   "source": [
    "cualis_bfill=data_cuali.fillna(method=\"bfill\")\n",
    "cualis_ffill=data_cuali.fillna(method=\"ffill\")\n",
    "cuantias_mean=data_cuanti.fillna(round(data_cuanti.mean(),1))\n",
    "\n",
    "data = pd.concat([cuantias_mean,cualis_ffill],axis=1)\n",
    "\n",
    "data.head(5)"
   ]
  },
  {
   "cell_type": "code",
   "execution_count": 11,
   "id": "0b810b04",
   "metadata": {},
   "outputs": [
    {
     "name": "stdout",
     "output_type": "stream",
     "text": [
      "0\n"
     ]
    }
   ],
   "source": [
    "outliers_limpios=data.isnull().sum().sum()\n",
    "print(outliers_limpios)"
   ]
  },
  {
   "cell_type": "markdown",
   "id": "06b9e3f2",
   "metadata": {},
   "source": [
    "## Analizar la correlación logística (botón correcto, juego, auto push)"
   ]
  },
  {
   "cell_type": "code",
   "execution_count": 12,
   "id": "96bb9657",
   "metadata": {},
   "outputs": [
    {
     "data": {
      "text/html": [
       "<div>\n",
       "<style scoped>\n",
       "    .dataframe tbody tr th:only-of-type {\n",
       "        vertical-align: middle;\n",
       "    }\n",
       "\n",
       "    .dataframe tbody tr th {\n",
       "        vertical-align: top;\n",
       "    }\n",
       "\n",
       "    .dataframe thead th {\n",
       "        text-align: right;\n",
       "    }\n",
       "</style>\n",
       "<table border=\"1\" class=\"dataframe\">\n",
       "  <thead>\n",
       "    <tr style=\"text-align: right;\">\n",
       "      <th></th>\n",
       "      <th>Administrador</th>\n",
       "      <th>Usuario</th>\n",
       "      <th>botón correcto</th>\n",
       "      <th>tiempo de interacción</th>\n",
       "      <th>mini juego</th>\n",
       "      <th>número de interacción</th>\n",
       "      <th>color presionado</th>\n",
       "      <th>dificultad</th>\n",
       "      <th>fecha</th>\n",
       "      <th>Juego</th>\n",
       "      <th>auto push</th>\n",
       "      <th>tiempo de lección</th>\n",
       "      <th>tiempo de sesión</th>\n",
       "    </tr>\n",
       "  </thead>\n",
       "  <tbody>\n",
       "    <tr>\n",
       "      <th>0</th>\n",
       "      <td>nicolas</td>\n",
       "      <td>nicolas</td>\n",
       "      <td>1.0</td>\n",
       "      <td>5.399169</td>\n",
       "      <td>Despegue</td>\n",
       "      <td>1.0</td>\n",
       "      <td>blue</td>\n",
       "      <td>Episodio 1</td>\n",
       "      <td>25/01/2024 09:26:42 a. m.</td>\n",
       "      <td>Astro</td>\n",
       "      <td>0.0</td>\n",
       "      <td>0.0</td>\n",
       "      <td>0.0</td>\n",
       "    </tr>\n",
       "    <tr>\n",
       "      <th>1</th>\n",
       "      <td>nicolas</td>\n",
       "      <td>nicolas</td>\n",
       "      <td>0.0</td>\n",
       "      <td>1.283400</td>\n",
       "      <td>Despegue</td>\n",
       "      <td>2.0</td>\n",
       "      <td>violet</td>\n",
       "      <td>Episodio 1</td>\n",
       "      <td>25/01/2024 09:26:46 a. m.</td>\n",
       "      <td>Astro</td>\n",
       "      <td>0.0</td>\n",
       "      <td>0.0</td>\n",
       "      <td>0.0</td>\n",
       "    </tr>\n",
       "    <tr>\n",
       "      <th>2</th>\n",
       "      <td>nicolas</td>\n",
       "      <td>nicolas</td>\n",
       "      <td>1.0</td>\n",
       "      <td>2.700226</td>\n",
       "      <td>Despegue</td>\n",
       "      <td>3.0</td>\n",
       "      <td>green</td>\n",
       "      <td>Episodio 1</td>\n",
       "      <td>25/01/2024 09:26:48 a. m.</td>\n",
       "      <td>Astro</td>\n",
       "      <td>0.0</td>\n",
       "      <td>0.0</td>\n",
       "      <td>0.0</td>\n",
       "    </tr>\n",
       "    <tr>\n",
       "      <th>3</th>\n",
       "      <td>nicolas</td>\n",
       "      <td>nicolas</td>\n",
       "      <td>0.0</td>\n",
       "      <td>3.050262</td>\n",
       "      <td>Despegue</td>\n",
       "      <td>4.0</td>\n",
       "      <td>green</td>\n",
       "      <td>Episodio 1</td>\n",
       "      <td>25/01/2024 09:26:57 a. m.</td>\n",
       "      <td>Astro</td>\n",
       "      <td>0.0</td>\n",
       "      <td>0.0</td>\n",
       "      <td>0.0</td>\n",
       "    </tr>\n",
       "    <tr>\n",
       "      <th>4</th>\n",
       "      <td>nicolas</td>\n",
       "      <td>nicolas</td>\n",
       "      <td>0.0</td>\n",
       "      <td>4.750256</td>\n",
       "      <td>Despegue</td>\n",
       "      <td>5.0</td>\n",
       "      <td>green</td>\n",
       "      <td>Episodio 1</td>\n",
       "      <td>25/01/2024 09:26:58 a. m.</td>\n",
       "      <td>Astro</td>\n",
       "      <td>0.0</td>\n",
       "      <td>0.0</td>\n",
       "      <td>0.0</td>\n",
       "    </tr>\n",
       "  </tbody>\n",
       "</table>\n",
       "</div>"
      ],
      "text/plain": [
       "  Administrador  Usuario  botón correcto  tiempo de interacción mini juego  \\\n",
       "0       nicolas  nicolas             1.0               5.399169   Despegue   \n",
       "1       nicolas  nicolas             0.0               1.283400   Despegue   \n",
       "2       nicolas  nicolas             1.0               2.700226   Despegue   \n",
       "3       nicolas  nicolas             0.0               3.050262   Despegue   \n",
       "4       nicolas  nicolas             0.0               4.750256   Despegue   \n",
       "\n",
       "   número de interacción color presionado  dificultad  \\\n",
       "0                    1.0             blue  Episodio 1   \n",
       "1                    2.0           violet  Episodio 1   \n",
       "2                    3.0            green  Episodio 1   \n",
       "3                    4.0            green  Episodio 1   \n",
       "4                    5.0            green  Episodio 1   \n",
       "\n",
       "                       fecha  Juego  auto push  tiempo de lección  \\\n",
       "0  25/01/2024 09:26:42 a. m.  Astro        0.0                0.0   \n",
       "1  25/01/2024 09:26:46 a. m.  Astro        0.0                0.0   \n",
       "2  25/01/2024 09:26:48 a. m.  Astro        0.0                0.0   \n",
       "3  25/01/2024 09:26:57 a. m.  Astro        0.0                0.0   \n",
       "4  25/01/2024 09:26:58 a. m.  Astro        0.0                0.0   \n",
       "\n",
       "   tiempo de sesión  \n",
       "0               0.0  \n",
       "1               0.0  \n",
       "2               0.0  \n",
       "3               0.0  \n",
       "4               0.0  "
      ]
     },
     "execution_count": 12,
     "metadata": {},
     "output_type": "execute_result"
    }
   ],
   "source": [
    "df = pd.read_csv('DataAnalytics.csv')\n",
    "df.head()"
   ]
  },
  {
   "cell_type": "code",
   "execution_count": 13,
   "id": "8ea135d1",
   "metadata": {},
   "outputs": [],
   "source": [
    "# Crear un diccionario para almacenar los modelos de regresión logística\n",
    "logistic_models = {}"
   ]
  },
  {
   "cell_type": "code",
   "execution_count": 14,
   "id": "cd80c088",
   "metadata": {},
   "outputs": [],
   "source": [
    "# Preparamos los datos, eliminando nulos y codificando 'Juego'\n",
    "df_clean = df[['botón correcto', 'auto push', 'Juego', 'número de interacción', 'tiempo de interacción']].dropna()"
   ]
  },
  {
   "cell_type": "code",
   "execution_count": 15,
   "id": "c85141c6",
   "metadata": {},
   "outputs": [],
   "source": [
    "# Convertir 'Juego' en variable binaria para regresión logística (0 si es el juego más común, 1 si no)\n",
    "juego_mas_comun = df_clean['Juego'].mode()[0]\n",
    "df_clean['Juego_binaria'] = (df_clean['Juego'] != juego_mas_comun).astype(int)"
   ]
  },
  {
   "cell_type": "code",
   "execution_count": 16,
   "id": "432a5a7d",
   "metadata": {},
   "outputs": [
    {
     "data": {
      "text/plain": [
       "0       0\n",
       "1       0\n",
       "2       0\n",
       "3       0\n",
       "4       0\n",
       "       ..\n",
       "5854    0\n",
       "5855    0\n",
       "5856    0\n",
       "5857    0\n",
       "5861    0\n",
       "Name: Juego_binaria, Length: 5103, dtype: int64"
      ]
     },
     "execution_count": 16,
     "metadata": {},
     "output_type": "execute_result"
    }
   ],
   "source": [
    "df_clean['Juego_binaria']"
   ]
  },
  {
   "cell_type": "code",
   "execution_count": 17,
   "id": "022ed2b7",
   "metadata": {},
   "outputs": [
    {
     "data": {
      "text/html": [
       "<div>\n",
       "<style scoped>\n",
       "    .dataframe tbody tr th:only-of-type {\n",
       "        vertical-align: middle;\n",
       "    }\n",
       "\n",
       "    .dataframe tbody tr th {\n",
       "        vertical-align: top;\n",
       "    }\n",
       "\n",
       "    .dataframe thead th {\n",
       "        text-align: right;\n",
       "    }\n",
       "</style>\n",
       "<table border=\"1\" class=\"dataframe\">\n",
       "  <thead>\n",
       "    <tr style=\"text-align: right;\">\n",
       "      <th></th>\n",
       "      <th>botón correcto</th>\n",
       "      <th>auto push</th>\n",
       "      <th>Juego</th>\n",
       "      <th>número de interacción</th>\n",
       "      <th>tiempo de interacción</th>\n",
       "      <th>Juego_binaria</th>\n",
       "    </tr>\n",
       "  </thead>\n",
       "  <tbody>\n",
       "    <tr>\n",
       "      <th>0</th>\n",
       "      <td>1.0</td>\n",
       "      <td>0.0</td>\n",
       "      <td>Astro</td>\n",
       "      <td>1.0</td>\n",
       "      <td>5.399169</td>\n",
       "      <td>0</td>\n",
       "    </tr>\n",
       "    <tr>\n",
       "      <th>1</th>\n",
       "      <td>0.0</td>\n",
       "      <td>0.0</td>\n",
       "      <td>Astro</td>\n",
       "      <td>2.0</td>\n",
       "      <td>1.283400</td>\n",
       "      <td>0</td>\n",
       "    </tr>\n",
       "    <tr>\n",
       "      <th>2</th>\n",
       "      <td>1.0</td>\n",
       "      <td>0.0</td>\n",
       "      <td>Astro</td>\n",
       "      <td>3.0</td>\n",
       "      <td>2.700226</td>\n",
       "      <td>0</td>\n",
       "    </tr>\n",
       "    <tr>\n",
       "      <th>3</th>\n",
       "      <td>0.0</td>\n",
       "      <td>0.0</td>\n",
       "      <td>Astro</td>\n",
       "      <td>4.0</td>\n",
       "      <td>3.050262</td>\n",
       "      <td>0</td>\n",
       "    </tr>\n",
       "    <tr>\n",
       "      <th>4</th>\n",
       "      <td>0.0</td>\n",
       "      <td>0.0</td>\n",
       "      <td>Astro</td>\n",
       "      <td>5.0</td>\n",
       "      <td>4.750256</td>\n",
       "      <td>0</td>\n",
       "    </tr>\n",
       "  </tbody>\n",
       "</table>\n",
       "</div>"
      ],
      "text/plain": [
       "   botón correcto  auto push  Juego  número de interacción  \\\n",
       "0             1.0        0.0  Astro                    1.0   \n",
       "1             0.0        0.0  Astro                    2.0   \n",
       "2             1.0        0.0  Astro                    3.0   \n",
       "3             0.0        0.0  Astro                    4.0   \n",
       "4             0.0        0.0  Astro                    5.0   \n",
       "\n",
       "   tiempo de interacción  Juego_binaria  \n",
       "0               5.399169              0  \n",
       "1               1.283400              0  \n",
       "2               2.700226              0  \n",
       "3               3.050262              0  \n",
       "4               4.750256              0  "
      ]
     },
     "execution_count": 17,
     "metadata": {},
     "output_type": "execute_result"
    }
   ],
   "source": [
    "df_clean.head()"
   ]
  },
  {
   "cell_type": "code",
   "execution_count": 18,
   "id": "b0b68d80",
   "metadata": {},
   "outputs": [],
   "source": [
    "Var_Indepx= df_clean[['número de interacción', 'tiempo de interacción']]\n",
    "Var_Depy1=df_clean['botón correcto']\n",
    "Var_Depy2=df_clean['auto push']\n",
    "Var_Depy3=df_clean['Juego_binaria']"
   ]
  },
  {
   "cell_type": "code",
   "execution_count": 19,
   "id": "3e9a3f39",
   "metadata": {},
   "outputs": [],
   "source": [
    "#Redefinimos las variables \n",
    "X= Var_Indepx\n",
    "y1= Var_Depy1\n",
    "y2= Var_Depy2\n",
    "y3= Var_Depy3"
   ]
  },
  {
   "cell_type": "code",
   "execution_count": 20,
   "id": "6c477411",
   "metadata": {},
   "outputs": [],
   "source": [
    "#Dividimos el conjunto de datos en la parte de entrenamiento y prueba:\n",
    "X_train1, X_test1, y_train1, y_test1 = train_test_split(X, y1, test_size=0.3, random_state =None)\n",
    "X_train2, X_test2, y_train2, y_test2 = train_test_split(X, y1, test_size=0.3, random_state =None)\n",
    "X_train3, X_test3, y_train3, y_test3 = train_test_split(X, y1, test_size=0.3, random_state =None)"
   ]
  },
  {
   "cell_type": "code",
   "execution_count": 21,
   "id": "a8ec5039",
   "metadata": {},
   "outputs": [],
   "source": [
    "#Se escalan todos los datos\n",
    "escalar = StandardScaler()"
   ]
  },
  {
   "cell_type": "code",
   "execution_count": 22,
   "id": "2937bf81",
   "metadata": {},
   "outputs": [],
   "source": [
    "#Para realizar el escalamiento de las variables “X” tanto de entrenamiento como de prueba, utilizaremos fit_transform\n",
    "X_train1 = escalar.fit_transform(X_train1)\n",
    "X_test1 = escalar.transform(X_test1)\n",
    "\n",
    "X_train2 = escalar.fit_transform(X_train2)\n",
    "X_test2 = escalar.transform(X_test2)\n",
    "\n",
    "X_train3 = escalar.fit_transform(X_train3)\n",
    "X_test3 = escalar.transform(X_test3)"
   ]
  },
  {
   "cell_type": "code",
   "execution_count": 23,
   "id": "94134ee9",
   "metadata": {},
   "outputs": [],
   "source": [
    "#Definimos el algoritmo a utilizar\n",
    "from sklearn.linear_model import LogisticRegression\n",
    "algoritmo = LogisticRegression()"
   ]
  },
  {
   "cell_type": "code",
   "execution_count": 24,
   "id": "4a2c7b64",
   "metadata": {},
   "outputs": [
    {
     "data": {
      "text/html": [
       "<style>#sk-container-id-1 {\n",
       "  /* Definition of color scheme common for light and dark mode */\n",
       "  --sklearn-color-text: #000;\n",
       "  --sklearn-color-text-muted: #666;\n",
       "  --sklearn-color-line: gray;\n",
       "  /* Definition of color scheme for unfitted estimators */\n",
       "  --sklearn-color-unfitted-level-0: #fff5e6;\n",
       "  --sklearn-color-unfitted-level-1: #f6e4d2;\n",
       "  --sklearn-color-unfitted-level-2: #ffe0b3;\n",
       "  --sklearn-color-unfitted-level-3: chocolate;\n",
       "  /* Definition of color scheme for fitted estimators */\n",
       "  --sklearn-color-fitted-level-0: #f0f8ff;\n",
       "  --sklearn-color-fitted-level-1: #d4ebff;\n",
       "  --sklearn-color-fitted-level-2: #b3dbfd;\n",
       "  --sklearn-color-fitted-level-3: cornflowerblue;\n",
       "\n",
       "  /* Specific color for light theme */\n",
       "  --sklearn-color-text-on-default-background: var(--sg-text-color, var(--theme-code-foreground, var(--jp-content-font-color1, black)));\n",
       "  --sklearn-color-background: var(--sg-background-color, var(--theme-background, var(--jp-layout-color0, white)));\n",
       "  --sklearn-color-border-box: var(--sg-text-color, var(--theme-code-foreground, var(--jp-content-font-color1, black)));\n",
       "  --sklearn-color-icon: #696969;\n",
       "\n",
       "  @media (prefers-color-scheme: dark) {\n",
       "    /* Redefinition of color scheme for dark theme */\n",
       "    --sklearn-color-text-on-default-background: var(--sg-text-color, var(--theme-code-foreground, var(--jp-content-font-color1, white)));\n",
       "    --sklearn-color-background: var(--sg-background-color, var(--theme-background, var(--jp-layout-color0, #111)));\n",
       "    --sklearn-color-border-box: var(--sg-text-color, var(--theme-code-foreground, var(--jp-content-font-color1, white)));\n",
       "    --sklearn-color-icon: #878787;\n",
       "  }\n",
       "}\n",
       "\n",
       "#sk-container-id-1 {\n",
       "  color: var(--sklearn-color-text);\n",
       "}\n",
       "\n",
       "#sk-container-id-1 pre {\n",
       "  padding: 0;\n",
       "}\n",
       "\n",
       "#sk-container-id-1 input.sk-hidden--visually {\n",
       "  border: 0;\n",
       "  clip: rect(1px 1px 1px 1px);\n",
       "  clip: rect(1px, 1px, 1px, 1px);\n",
       "  height: 1px;\n",
       "  margin: -1px;\n",
       "  overflow: hidden;\n",
       "  padding: 0;\n",
       "  position: absolute;\n",
       "  width: 1px;\n",
       "}\n",
       "\n",
       "#sk-container-id-1 div.sk-dashed-wrapped {\n",
       "  border: 1px dashed var(--sklearn-color-line);\n",
       "  margin: 0 0.4em 0.5em 0.4em;\n",
       "  box-sizing: border-box;\n",
       "  padding-bottom: 0.4em;\n",
       "  background-color: var(--sklearn-color-background);\n",
       "}\n",
       "\n",
       "#sk-container-id-1 div.sk-container {\n",
       "  /* jupyter's `normalize.less` sets `[hidden] { display: none; }`\n",
       "     but bootstrap.min.css set `[hidden] { display: none !important; }`\n",
       "     so we also need the `!important` here to be able to override the\n",
       "     default hidden behavior on the sphinx rendered scikit-learn.org.\n",
       "     See: https://github.com/scikit-learn/scikit-learn/issues/21755 */\n",
       "  display: inline-block !important;\n",
       "  position: relative;\n",
       "}\n",
       "\n",
       "#sk-container-id-1 div.sk-text-repr-fallback {\n",
       "  display: none;\n",
       "}\n",
       "\n",
       "div.sk-parallel-item,\n",
       "div.sk-serial,\n",
       "div.sk-item {\n",
       "  /* draw centered vertical line to link estimators */\n",
       "  background-image: linear-gradient(var(--sklearn-color-text-on-default-background), var(--sklearn-color-text-on-default-background));\n",
       "  background-size: 2px 100%;\n",
       "  background-repeat: no-repeat;\n",
       "  background-position: center center;\n",
       "}\n",
       "\n",
       "/* Parallel-specific style estimator block */\n",
       "\n",
       "#sk-container-id-1 div.sk-parallel-item::after {\n",
       "  content: \"\";\n",
       "  width: 100%;\n",
       "  border-bottom: 2px solid var(--sklearn-color-text-on-default-background);\n",
       "  flex-grow: 1;\n",
       "}\n",
       "\n",
       "#sk-container-id-1 div.sk-parallel {\n",
       "  display: flex;\n",
       "  align-items: stretch;\n",
       "  justify-content: center;\n",
       "  background-color: var(--sklearn-color-background);\n",
       "  position: relative;\n",
       "}\n",
       "\n",
       "#sk-container-id-1 div.sk-parallel-item {\n",
       "  display: flex;\n",
       "  flex-direction: column;\n",
       "}\n",
       "\n",
       "#sk-container-id-1 div.sk-parallel-item:first-child::after {\n",
       "  align-self: flex-end;\n",
       "  width: 50%;\n",
       "}\n",
       "\n",
       "#sk-container-id-1 div.sk-parallel-item:last-child::after {\n",
       "  align-self: flex-start;\n",
       "  width: 50%;\n",
       "}\n",
       "\n",
       "#sk-container-id-1 div.sk-parallel-item:only-child::after {\n",
       "  width: 0;\n",
       "}\n",
       "\n",
       "/* Serial-specific style estimator block */\n",
       "\n",
       "#sk-container-id-1 div.sk-serial {\n",
       "  display: flex;\n",
       "  flex-direction: column;\n",
       "  align-items: center;\n",
       "  background-color: var(--sklearn-color-background);\n",
       "  padding-right: 1em;\n",
       "  padding-left: 1em;\n",
       "}\n",
       "\n",
       "\n",
       "/* Toggleable style: style used for estimator/Pipeline/ColumnTransformer box that is\n",
       "clickable and can be expanded/collapsed.\n",
       "- Pipeline and ColumnTransformer use this feature and define the default style\n",
       "- Estimators will overwrite some part of the style using the `sk-estimator` class\n",
       "*/\n",
       "\n",
       "/* Pipeline and ColumnTransformer style (default) */\n",
       "\n",
       "#sk-container-id-1 div.sk-toggleable {\n",
       "  /* Default theme specific background. It is overwritten whether we have a\n",
       "  specific estimator or a Pipeline/ColumnTransformer */\n",
       "  background-color: var(--sklearn-color-background);\n",
       "}\n",
       "\n",
       "/* Toggleable label */\n",
       "#sk-container-id-1 label.sk-toggleable__label {\n",
       "  cursor: pointer;\n",
       "  display: flex;\n",
       "  width: 100%;\n",
       "  margin-bottom: 0;\n",
       "  padding: 0.5em;\n",
       "  box-sizing: border-box;\n",
       "  text-align: center;\n",
       "  align-items: start;\n",
       "  justify-content: space-between;\n",
       "  gap: 0.5em;\n",
       "}\n",
       "\n",
       "#sk-container-id-1 label.sk-toggleable__label .caption {\n",
       "  font-size: 0.6rem;\n",
       "  font-weight: lighter;\n",
       "  color: var(--sklearn-color-text-muted);\n",
       "}\n",
       "\n",
       "#sk-container-id-1 label.sk-toggleable__label-arrow:before {\n",
       "  /* Arrow on the left of the label */\n",
       "  content: \"▸\";\n",
       "  float: left;\n",
       "  margin-right: 0.25em;\n",
       "  color: var(--sklearn-color-icon);\n",
       "}\n",
       "\n",
       "#sk-container-id-1 label.sk-toggleable__label-arrow:hover:before {\n",
       "  color: var(--sklearn-color-text);\n",
       "}\n",
       "\n",
       "/* Toggleable content - dropdown */\n",
       "\n",
       "#sk-container-id-1 div.sk-toggleable__content {\n",
       "  max-height: 0;\n",
       "  max-width: 0;\n",
       "  overflow: hidden;\n",
       "  text-align: left;\n",
       "  /* unfitted */\n",
       "  background-color: var(--sklearn-color-unfitted-level-0);\n",
       "}\n",
       "\n",
       "#sk-container-id-1 div.sk-toggleable__content.fitted {\n",
       "  /* fitted */\n",
       "  background-color: var(--sklearn-color-fitted-level-0);\n",
       "}\n",
       "\n",
       "#sk-container-id-1 div.sk-toggleable__content pre {\n",
       "  margin: 0.2em;\n",
       "  border-radius: 0.25em;\n",
       "  color: var(--sklearn-color-text);\n",
       "  /* unfitted */\n",
       "  background-color: var(--sklearn-color-unfitted-level-0);\n",
       "}\n",
       "\n",
       "#sk-container-id-1 div.sk-toggleable__content.fitted pre {\n",
       "  /* unfitted */\n",
       "  background-color: var(--sklearn-color-fitted-level-0);\n",
       "}\n",
       "\n",
       "#sk-container-id-1 input.sk-toggleable__control:checked~div.sk-toggleable__content {\n",
       "  /* Expand drop-down */\n",
       "  max-height: 200px;\n",
       "  max-width: 100%;\n",
       "  overflow: auto;\n",
       "}\n",
       "\n",
       "#sk-container-id-1 input.sk-toggleable__control:checked~label.sk-toggleable__label-arrow:before {\n",
       "  content: \"▾\";\n",
       "}\n",
       "\n",
       "/* Pipeline/ColumnTransformer-specific style */\n",
       "\n",
       "#sk-container-id-1 div.sk-label input.sk-toggleable__control:checked~label.sk-toggleable__label {\n",
       "  color: var(--sklearn-color-text);\n",
       "  background-color: var(--sklearn-color-unfitted-level-2);\n",
       "}\n",
       "\n",
       "#sk-container-id-1 div.sk-label.fitted input.sk-toggleable__control:checked~label.sk-toggleable__label {\n",
       "  background-color: var(--sklearn-color-fitted-level-2);\n",
       "}\n",
       "\n",
       "/* Estimator-specific style */\n",
       "\n",
       "/* Colorize estimator box */\n",
       "#sk-container-id-1 div.sk-estimator input.sk-toggleable__control:checked~label.sk-toggleable__label {\n",
       "  /* unfitted */\n",
       "  background-color: var(--sklearn-color-unfitted-level-2);\n",
       "}\n",
       "\n",
       "#sk-container-id-1 div.sk-estimator.fitted input.sk-toggleable__control:checked~label.sk-toggleable__label {\n",
       "  /* fitted */\n",
       "  background-color: var(--sklearn-color-fitted-level-2);\n",
       "}\n",
       "\n",
       "#sk-container-id-1 div.sk-label label.sk-toggleable__label,\n",
       "#sk-container-id-1 div.sk-label label {\n",
       "  /* The background is the default theme color */\n",
       "  color: var(--sklearn-color-text-on-default-background);\n",
       "}\n",
       "\n",
       "/* On hover, darken the color of the background */\n",
       "#sk-container-id-1 div.sk-label:hover label.sk-toggleable__label {\n",
       "  color: var(--sklearn-color-text);\n",
       "  background-color: var(--sklearn-color-unfitted-level-2);\n",
       "}\n",
       "\n",
       "/* Label box, darken color on hover, fitted */\n",
       "#sk-container-id-1 div.sk-label.fitted:hover label.sk-toggleable__label.fitted {\n",
       "  color: var(--sklearn-color-text);\n",
       "  background-color: var(--sklearn-color-fitted-level-2);\n",
       "}\n",
       "\n",
       "/* Estimator label */\n",
       "\n",
       "#sk-container-id-1 div.sk-label label {\n",
       "  font-family: monospace;\n",
       "  font-weight: bold;\n",
       "  display: inline-block;\n",
       "  line-height: 1.2em;\n",
       "}\n",
       "\n",
       "#sk-container-id-1 div.sk-label-container {\n",
       "  text-align: center;\n",
       "}\n",
       "\n",
       "/* Estimator-specific */\n",
       "#sk-container-id-1 div.sk-estimator {\n",
       "  font-family: monospace;\n",
       "  border: 1px dotted var(--sklearn-color-border-box);\n",
       "  border-radius: 0.25em;\n",
       "  box-sizing: border-box;\n",
       "  margin-bottom: 0.5em;\n",
       "  /* unfitted */\n",
       "  background-color: var(--sklearn-color-unfitted-level-0);\n",
       "}\n",
       "\n",
       "#sk-container-id-1 div.sk-estimator.fitted {\n",
       "  /* fitted */\n",
       "  background-color: var(--sklearn-color-fitted-level-0);\n",
       "}\n",
       "\n",
       "/* on hover */\n",
       "#sk-container-id-1 div.sk-estimator:hover {\n",
       "  /* unfitted */\n",
       "  background-color: var(--sklearn-color-unfitted-level-2);\n",
       "}\n",
       "\n",
       "#sk-container-id-1 div.sk-estimator.fitted:hover {\n",
       "  /* fitted */\n",
       "  background-color: var(--sklearn-color-fitted-level-2);\n",
       "}\n",
       "\n",
       "/* Specification for estimator info (e.g. \"i\" and \"?\") */\n",
       "\n",
       "/* Common style for \"i\" and \"?\" */\n",
       "\n",
       ".sk-estimator-doc-link,\n",
       "a:link.sk-estimator-doc-link,\n",
       "a:visited.sk-estimator-doc-link {\n",
       "  float: right;\n",
       "  font-size: smaller;\n",
       "  line-height: 1em;\n",
       "  font-family: monospace;\n",
       "  background-color: var(--sklearn-color-background);\n",
       "  border-radius: 1em;\n",
       "  height: 1em;\n",
       "  width: 1em;\n",
       "  text-decoration: none !important;\n",
       "  margin-left: 0.5em;\n",
       "  text-align: center;\n",
       "  /* unfitted */\n",
       "  border: var(--sklearn-color-unfitted-level-1) 1pt solid;\n",
       "  color: var(--sklearn-color-unfitted-level-1);\n",
       "}\n",
       "\n",
       ".sk-estimator-doc-link.fitted,\n",
       "a:link.sk-estimator-doc-link.fitted,\n",
       "a:visited.sk-estimator-doc-link.fitted {\n",
       "  /* fitted */\n",
       "  border: var(--sklearn-color-fitted-level-1) 1pt solid;\n",
       "  color: var(--sklearn-color-fitted-level-1);\n",
       "}\n",
       "\n",
       "/* On hover */\n",
       "div.sk-estimator:hover .sk-estimator-doc-link:hover,\n",
       ".sk-estimator-doc-link:hover,\n",
       "div.sk-label-container:hover .sk-estimator-doc-link:hover,\n",
       ".sk-estimator-doc-link:hover {\n",
       "  /* unfitted */\n",
       "  background-color: var(--sklearn-color-unfitted-level-3);\n",
       "  color: var(--sklearn-color-background);\n",
       "  text-decoration: none;\n",
       "}\n",
       "\n",
       "div.sk-estimator.fitted:hover .sk-estimator-doc-link.fitted:hover,\n",
       ".sk-estimator-doc-link.fitted:hover,\n",
       "div.sk-label-container:hover .sk-estimator-doc-link.fitted:hover,\n",
       ".sk-estimator-doc-link.fitted:hover {\n",
       "  /* fitted */\n",
       "  background-color: var(--sklearn-color-fitted-level-3);\n",
       "  color: var(--sklearn-color-background);\n",
       "  text-decoration: none;\n",
       "}\n",
       "\n",
       "/* Span, style for the box shown on hovering the info icon */\n",
       ".sk-estimator-doc-link span {\n",
       "  display: none;\n",
       "  z-index: 9999;\n",
       "  position: relative;\n",
       "  font-weight: normal;\n",
       "  right: .2ex;\n",
       "  padding: .5ex;\n",
       "  margin: .5ex;\n",
       "  width: min-content;\n",
       "  min-width: 20ex;\n",
       "  max-width: 50ex;\n",
       "  color: var(--sklearn-color-text);\n",
       "  box-shadow: 2pt 2pt 4pt #999;\n",
       "  /* unfitted */\n",
       "  background: var(--sklearn-color-unfitted-level-0);\n",
       "  border: .5pt solid var(--sklearn-color-unfitted-level-3);\n",
       "}\n",
       "\n",
       ".sk-estimator-doc-link.fitted span {\n",
       "  /* fitted */\n",
       "  background: var(--sklearn-color-fitted-level-0);\n",
       "  border: var(--sklearn-color-fitted-level-3);\n",
       "}\n",
       "\n",
       ".sk-estimator-doc-link:hover span {\n",
       "  display: block;\n",
       "}\n",
       "\n",
       "/* \"?\"-specific style due to the `<a>` HTML tag */\n",
       "\n",
       "#sk-container-id-1 a.estimator_doc_link {\n",
       "  float: right;\n",
       "  font-size: 1rem;\n",
       "  line-height: 1em;\n",
       "  font-family: monospace;\n",
       "  background-color: var(--sklearn-color-background);\n",
       "  border-radius: 1rem;\n",
       "  height: 1rem;\n",
       "  width: 1rem;\n",
       "  text-decoration: none;\n",
       "  /* unfitted */\n",
       "  color: var(--sklearn-color-unfitted-level-1);\n",
       "  border: var(--sklearn-color-unfitted-level-1) 1pt solid;\n",
       "}\n",
       "\n",
       "#sk-container-id-1 a.estimator_doc_link.fitted {\n",
       "  /* fitted */\n",
       "  border: var(--sklearn-color-fitted-level-1) 1pt solid;\n",
       "  color: var(--sklearn-color-fitted-level-1);\n",
       "}\n",
       "\n",
       "/* On hover */\n",
       "#sk-container-id-1 a.estimator_doc_link:hover {\n",
       "  /* unfitted */\n",
       "  background-color: var(--sklearn-color-unfitted-level-3);\n",
       "  color: var(--sklearn-color-background);\n",
       "  text-decoration: none;\n",
       "}\n",
       "\n",
       "#sk-container-id-1 a.estimator_doc_link.fitted:hover {\n",
       "  /* fitted */\n",
       "  background-color: var(--sklearn-color-fitted-level-3);\n",
       "}\n",
       "</style><div id=\"sk-container-id-1\" class=\"sk-top-container\"><div class=\"sk-text-repr-fallback\"><pre>LogisticRegression()</pre><b>In a Jupyter environment, please rerun this cell to show the HTML representation or trust the notebook. <br />On GitHub, the HTML representation is unable to render, please try loading this page with nbviewer.org.</b></div><div class=\"sk-container\" hidden><div class=\"sk-item\"><div class=\"sk-estimator fitted sk-toggleable\"><input class=\"sk-toggleable__control sk-hidden--visually\" id=\"sk-estimator-id-1\" type=\"checkbox\" checked><label for=\"sk-estimator-id-1\" class=\"sk-toggleable__label fitted sk-toggleable__label-arrow\"><div><div>LogisticRegression</div></div><div><a class=\"sk-estimator-doc-link fitted\" rel=\"noreferrer\" target=\"_blank\" href=\"https://scikit-learn.org/1.6/modules/generated/sklearn.linear_model.LogisticRegression.html\">?<span>Documentation for LogisticRegression</span></a><span class=\"sk-estimator-doc-link fitted\">i<span>Fitted</span></span></div></label><div class=\"sk-toggleable__content fitted\"><pre>LogisticRegression()</pre></div> </div></div></div></div>"
      ],
      "text/plain": [
       "LogisticRegression()"
      ]
     },
     "execution_count": 24,
     "metadata": {},
     "output_type": "execute_result"
    }
   ],
   "source": [
    "#Entrenamos el modelo\n",
    "algoritmo.fit(X_train1, y_train1)\n",
    "algoritmo.fit(X_train2, y_train2)\n",
    "algoritmo.fit(X_train3, y_train3)"
   ]
  },
  {
   "cell_type": "code",
   "execution_count": 25,
   "id": "6f77df44",
   "metadata": {},
   "outputs": [
    {
     "data": {
      "text/plain": [
       "array([1., 1., 0., ..., 1., 1., 1.])"
      ]
     },
     "execution_count": 25,
     "metadata": {},
     "output_type": "execute_result"
    }
   ],
   "source": [
    "#Realizamos una predicción\n",
    "y_pred1 = algoritmo.predict(X_test1) \n",
    "y_pred1\n",
    "\n",
    "y_pred2 = algoritmo.predict(X_test2) \n",
    "y_pred2\n",
    "\n",
    "y_pred3 = algoritmo.predict(X_test3) \n",
    "y_pred3"
   ]
  },
  {
   "cell_type": "code",
   "execution_count": 26,
   "id": "49164805",
   "metadata": {},
   "outputs": [
    {
     "name": "stdout",
     "output_type": "stream",
     "text": [
      "Matriz de Confusión 1: \n",
      "[[381 410]\n",
      " [120 620]]\n",
      "Matriz de Confusión 2: \n",
      "[[389 386]\n",
      " [119 637]]\n",
      "Matriz de Confusión 3: \n",
      "[[376 417]\n",
      " [105 633]]\n"
     ]
    }
   ],
   "source": [
    "#Verifico la matriz de Confusión\n",
    "from sklearn.metrics import confusion_matrix\n",
    "matriz1 = confusion_matrix(y_test1, y_pred1)\n",
    "print('Matriz de Confusión 1: ')\n",
    "print(matriz1)\n",
    "\n",
    "matriz2 = confusion_matrix(y_test2, y_pred2)\n",
    "print('Matriz de Confusión 2: ')\n",
    "print(matriz2)\n",
    "\n",
    "matriz3 = confusion_matrix(y_test3, y_pred3)\n",
    "print('Matriz de Confusión 3: ')\n",
    "print(matriz3)"
   ]
  },
  {
   "cell_type": "code",
   "execution_count": 27,
   "id": "17824e5c",
   "metadata": {},
   "outputs": [
    {
     "name": "stdout",
     "output_type": "stream",
     "text": [
      "Modelo 1: Botón Correcto 0.0\n",
      "Precisión del modelo:  0.7604790419161677\n",
      "Exactitud del modelo:  0.6538210320052253\n",
      "Sensibilidad del modelo:  0.48166877370417194\n",
      "Puntaje F1 del modelo:  0.5897832817337462\n",
      "\n",
      "\n",
      "Modelo 1: Botón correcto 1.0 \n",
      "Precisión del modelo:  0.6019417475728155\n",
      "Exactitud del modelo:  0.6538210320052253\n",
      "Sensibilidad del modelo:  0.8378378378378378\n",
      "Puntaje F1 del modelo:  0.7005649717514124\n"
     ]
    }
   ],
   "source": [
    "# Modelo 1: botón correcto ~ número de interacción + tiempo de interacción\n",
    "from sklearn.metrics import precision_score\n",
    "from sklearn.metrics import accuracy_score\n",
    "from sklearn.metrics import recall_score\n",
    "from sklearn.metrics import f1_score\n",
    "\n",
    "print(\"Modelo 1: Botón Correcto 0.0\")\n",
    "precision1_0= precision_score (y_test1, y_pred1, average=\"binary\", pos_label=0.0)\n",
    "print('Precisión del modelo: ',precision1_0 )\n",
    "exactitud1_0 = accuracy_score(y_test1, y_pred1)\n",
    "print('Exactitud del modelo: ', exactitud1_0)\n",
    "sensibilidad1_0 = recall_score(y_test1, y_pred1, average=\"binary\", pos_label=0.0)\n",
    "print('Sensibilidad del modelo: ', sensibilidad1_0)\n",
    "puntajef1_1_0 = f1_score(y_test1, y_pred1, average=\"binary\", pos_label=0.0)\n",
    "print('Puntaje F1 del modelo: ', puntajef1_1_0)\n",
    "print(\"\\n\")\n",
    "\n",
    "print(\"Modelo 1: Botón correcto 1.0 \")\n",
    "precision1= precision_score (y_test1, y_pred1, average=\"binary\", pos_label=1.0)\n",
    "print('Precisión del modelo: ',precision1 )\n",
    "exactitud1 = accuracy_score(y_test1, y_pred1)\n",
    "print('Exactitud del modelo: ', exactitud1)\n",
    "sensibilidad1 = recall_score(y_test1, y_pred1, average=\"binary\", pos_label=1.0)\n",
    "print('Sensibilidad del modelo: ', sensibilidad1)\n",
    "puntajef1_1 = f1_score(y_test1, y_pred1, average=\"binary\", pos_label=1.0)\n",
    "print('Puntaje F1 del modelo: ', puntajef1_1)"
   ]
  },
  {
   "cell_type": "code",
   "execution_count": 28,
   "id": "7354ac3e",
   "metadata": {},
   "outputs": [
    {
     "name": "stdout",
     "output_type": "stream",
     "text": [
      "Modelo 2: Auto push 0.0\n",
      "Precisión del modelo:  0.765748031496063\n",
      "Exactitud del modelo:  0.6701502286087524\n",
      "Sensibilidad del modelo:  0.5019354838709678\n",
      "Puntaje F1 del modelo:  0.6063912704598597\n",
      "\n",
      "\n",
      "Modelo 2: Auto push 1.0\n",
      "Precisión del modelo:  0.6226783968719453\n",
      "Exactitud del modelo:  0.6701502286087524\n",
      "Sensibilidad del modelo:  0.8425925925925926\n",
      "Puntaje F1 del modelo:  0.716132658797077\n"
     ]
    }
   ],
   "source": [
    "# Modelo 2: Auto Push ~ número de interacción + tiempo de interacción\n",
    "from sklearn.metrics import precision_score\n",
    "from sklearn.metrics import accuracy_score\n",
    "from sklearn.metrics import recall_score\n",
    "from sklearn.metrics import f1_score\n",
    "\n",
    "print(\"Modelo 2: Auto push 0.0\")\n",
    "precision2_0= precision_score (y_test2, y_pred2, average=\"binary\", pos_label=0.0)\n",
    "print('Precisión del modelo: ',precision2_0 )\n",
    "exactitud2_0 = accuracy_score(y_test2, y_pred2)\n",
    "print('Exactitud del modelo: ', exactitud2_0)\n",
    "sensibilidad2_0 = recall_score(y_test2, y_pred2, average=\"binary\", pos_label=0.0)\n",
    "print('Sensibilidad del modelo: ', sensibilidad2_0)\n",
    "puntajef1_2_0 = f1_score(y_test2, y_pred2, average=\"binary\", pos_label=0.0)\n",
    "print('Puntaje F1 del modelo: ', puntajef1_2_0)\n",
    "print(\"\\n\")\n",
    "\n",
    "\n",
    "print(\"Modelo 2: Auto push 1.0\")\n",
    "precision2= precision_score (y_test2, y_pred2, average=\"binary\", pos_label=1.0)\n",
    "print('Precisión del modelo: ',precision2 )\n",
    "exactitud2 = accuracy_score(y_test2, y_pred2)\n",
    "print('Exactitud del modelo: ', exactitud2)\n",
    "sensibilidad2 = recall_score(y_test2, y_pred2, average=\"binary\", pos_label=1.0)\n",
    "print('Sensibilidad del modelo: ', sensibilidad2)\n",
    "puntajef1_2 = f1_score(y_test2, y_pred2, average=\"binary\", pos_label=1.0)\n",
    "print('Puntaje F1 del modelo: ', puntajef1_2)"
   ]
  },
  {
   "cell_type": "code",
   "execution_count": 29,
   "id": "0a825ab9",
   "metadata": {},
   "outputs": [
    {
     "name": "stdout",
     "output_type": "stream",
     "text": [
      "Modelo 3: Juego 0.0\n",
      "Precisión del modelo:  0.7817047817047817\n",
      "Exactitud del modelo:  0.659046374918354\n",
      "Sensibilidad del modelo:  0.47414880201765447\n",
      "Puntaje F1 del modelo:  0.5897832817337462\n",
      "\n",
      "\n",
      "Modelo 3: Juego 1.0\n",
      "Precisión del modelo:  0.6028571428571429\n",
      "Exactitud del modelo:  0.659046374918354\n",
      "Sensibilidad del modelo:  0.8577235772357723\n",
      "Puntaje F1 del modelo:  0.7005649717514124\n"
     ]
    }
   ],
   "source": [
    "# Modelo 3: Juego ~ número de interacción + tiempo de interacción\n",
    "from sklearn.metrics import precision_score\n",
    "from sklearn.metrics import accuracy_score\n",
    "from sklearn.metrics import recall_score\n",
    "from sklearn.metrics import f1_score\n",
    "\n",
    "print(\"Modelo 3: Juego 0.0\")\n",
    "precision3_0= precision_score (y_test3, y_pred3, average=\"binary\", pos_label=0.0)\n",
    "print('Precisión del modelo: ',precision3_0 )\n",
    "exactitud3_0 = accuracy_score(y_test3, y_pred3)\n",
    "print('Exactitud del modelo: ', exactitud3_0)\n",
    "sensibilidad3_0 = recall_score(y_test3, y_pred3, average=\"binary\", pos_label=0.0)\n",
    "print('Sensibilidad del modelo: ', sensibilidad3_0)\n",
    "puntajef1_3_0 = f1_score(y_test1, y_pred1, average=\"binary\", pos_label=0.0)\n",
    "print('Puntaje F1 del modelo: ', puntajef1_3_0)\n",
    "print(\"\\n\")\n",
    "\n",
    "print(\"Modelo 3: Juego 1.0\")\n",
    "precision3= precision_score (y_test3, y_pred3, average=\"binary\", pos_label=1.0)\n",
    "print('Precisión del modelo: ',precision3 )\n",
    "exactitud3 = accuracy_score(y_test3, y_pred3)\n",
    "print('Exactitud del modelo: ', exactitud3)\n",
    "sensibilidad3 = recall_score(y_test3, y_pred3, average=\"binary\", pos_label=1.0)\n",
    "print('Sensibilidad del modelo: ', sensibilidad3)\n",
    "puntajef1_3 = f1_score(y_test1, y_pred1, average=\"binary\", pos_label=1.0)\n",
    "print('Puntaje F1 del modelo: ', puntajef1_3)"
   ]
  },
  {
   "cell_type": "markdown",
   "id": "59ca3bd3",
   "metadata": {},
   "source": [
    "## Convertir las variables en tipo dicotómica y analizarlas"
   ]
  },
  {
   "cell_type": "markdown",
   "id": "90964b73",
   "metadata": {},
   "source": [
    "Función de Regresión Logística"
   ]
  },
  {
   "cell_type": "code",
   "execution_count": 30,
   "id": "b1bbb600",
   "metadata": {},
   "outputs": [],
   "source": [
    "from sklearn.linear_model import LogisticRegression\n",
    "from sklearn.metrics import confusion_matrix\n",
    "from sklearn.metrics import precision_score\n",
    "from sklearn.metrics import accuracy_score\n",
    "from sklearn.metrics import recall_score\n",
    "from sklearn.metrics import f1_score\n",
    "\n",
    "def regresioncion_logistica(dicotomica,si,no):\n",
    "    dicotomica=dicotomica.replace(si,\"0\")\n",
    "    dicotomica=dicotomica.replace(no,\"1\")\n",
    "    dicotomica = dicotomica.apply(pd.to_numeric, errors=\"coerce\")\n",
    "    Var_Indepx= data[['número de interacción', 'tiempo de interacción']]\n",
    "    Var_Depy=dicotomica\n",
    "    X= Var_Indepx\n",
    "    Y= Var_Depy\n",
    "    X_train, X_test, Y_train, Y_test = train_test_split(X, Y, test_size=0.3, random_state =None)\n",
    "    escalar = StandardScaler()\n",
    "    X_train = escalar.fit_transform(X_train)\n",
    "    X_test = escalar.transform(X_test)\n",
    "    algoritmo = LogisticRegression()\n",
    "    algoritmo.fit(X_train, Y_train)\n",
    "    Y_pred = algoritmo.predict(X_test) \n",
    "    matriz = confusion_matrix(Y_test, Y_pred)\n",
    "    print('Matriz de Confusión: ')\n",
    "    print(matriz)\n",
    "    print(\"Modelo 0:\")\n",
    "    precision0= precision_score (Y_test, Y_pred, average=\"binary\", pos_label=0.0)\n",
    "    print('Precisión del modelo: ',precision0 )\n",
    "    exactitud0 = accuracy_score(Y_test, Y_pred)\n",
    "    print('Exactitud del modelo: ', exactitud0)\n",
    "    sensibilidad0 = recall_score(Y_test, Y_pred, average=\"binary\", pos_label=0.0)\n",
    "    print('Sensibilidad del modelo: ', sensibilidad0)\n",
    "    puntajef0 = f1_score(Y_test, Y_pred, average=\"binary\", pos_label=0.0)\n",
    "    print('Puntaje F1 del modelo: ', puntajef0)\n",
    "    print(\"\\n\")\n",
    "    print(\"Modelo 1:\")\n",
    "    precision1= precision_score (Y_test, Y_pred, average=\"binary\", pos_label=1.0)\n",
    "    print('Precisión del modelo: ',precision1 )\n",
    "    exactitud1 = accuracy_score(Y_test, Y_pred)\n",
    "    print('Exactitud del modelo: ', exactitud1)\n",
    "    sensibilidad1 = recall_score(Y_test, Y_pred, average=\"binary\", pos_label=1.0)\n",
    "    print('Sensibilidad del modelo: ', sensibilidad1)\n",
    "    puntajef1_1 = f1_score(Y_test, Y_pred, average=\"binary\", pos_label=1.0)\n",
    "    print('Puntaje F1 del modelo: ', puntajef1_1)"
   ]
  },
  {
   "cell_type": "markdown",
   "id": "9bb3387a",
   "metadata": {},
   "source": [
    "Color Presionado (5)"
   ]
  },
  {
   "cell_type": "code",
   "execution_count": 31,
   "id": "4b86269d",
   "metadata": {},
   "outputs": [
    {
     "data": {
      "text/plain": [
       "array(['blue', 'green', 'red', 'violet', 'yellow'], dtype=object)"
      ]
     },
     "execution_count": 31,
     "metadata": {},
     "output_type": "execute_result"
    }
   ],
   "source": [
    "copr = np.unique(data_sin_nulos['color presionado'])\n",
    "copr"
   ]
  },
  {
   "cell_type": "code",
   "execution_count": 32,
   "id": "6d9f0d2e",
   "metadata": {},
   "outputs": [
    {
     "data": {
      "text/plain": [
       "0          blue\n",
       "1       no blue\n",
       "2       no blue\n",
       "3       no blue\n",
       "4       no blue\n",
       "         ...   \n",
       "5860    no blue\n",
       "5861    no blue\n",
       "5862    no blue\n",
       "5863    no blue\n",
       "5864    no blue\n",
       "Name: color presionado, Length: 5865, dtype: object"
      ]
     },
     "execution_count": 32,
     "metadata": {},
     "output_type": "execute_result"
    }
   ],
   "source": [
    "blue= data_sin_nulos['color presionado'].replace([\"green\", \"red\", \"violet\", \"yellow\"], \"no blue\")\n",
    "blue"
   ]
  },
  {
   "cell_type": "code",
   "execution_count": 33,
   "id": "ff83ccf0",
   "metadata": {},
   "outputs": [
    {
     "name": "stdout",
     "output_type": "stream",
     "text": [
      "Matriz de Confusión: \n",
      "[[   0  405]\n",
      " [   0 1355]]\n",
      "Modelo 0:\n",
      "Precisión del modelo:  0.0\n",
      "Exactitud del modelo:  0.7698863636363636\n",
      "Sensibilidad del modelo:  0.0\n",
      "Puntaje F1 del modelo:  0.0\n",
      "\n",
      "\n",
      "Modelo 1:\n",
      "Precisión del modelo:  0.7698863636363636\n",
      "Exactitud del modelo:  0.7698863636363636\n",
      "Sensibilidad del modelo:  1.0\n",
      "Puntaje F1 del modelo:  0.869983948635634\n"
     ]
    },
    {
     "name": "stderr",
     "output_type": "stream",
     "text": [
      "/Library/Frameworks/Python.framework/Versions/3.12/lib/python3.12/site-packages/sklearn/metrics/_classification.py:1565: UndefinedMetricWarning: Precision is ill-defined and being set to 0.0 due to no predicted samples. Use `zero_division` parameter to control this behavior.\n",
      "  _warn_prf(average, modifier, f\"{metric.capitalize()} is\", len(result))\n"
     ]
    }
   ],
   "source": [
    "blue_relo=regresioncion_logistica(blue,\"blue\",\"no blue\")"
   ]
  },
  {
   "cell_type": "code",
   "execution_count": 34,
   "id": "e657f4f6",
   "metadata": {},
   "outputs": [
    {
     "data": {
      "text/plain": [
       "0       no green\n",
       "1       no green\n",
       "2          green\n",
       "3          green\n",
       "4          green\n",
       "          ...   \n",
       "5860       green\n",
       "5861       green\n",
       "5862       green\n",
       "5863       green\n",
       "5864       green\n",
       "Name: color presionado, Length: 5865, dtype: object"
      ]
     },
     "execution_count": 34,
     "metadata": {},
     "output_type": "execute_result"
    }
   ],
   "source": [
    "green= data_sin_nulos['color presionado'].replace([\"blue\", \"red\", \"violet\", \"yellow\"], \"no green\")\n",
    "green"
   ]
  },
  {
   "cell_type": "code",
   "execution_count": 35,
   "id": "fbd951b9",
   "metadata": {},
   "outputs": [
    {
     "name": "stdout",
     "output_type": "stream",
     "text": [
      "Matriz de Confusión: \n",
      "[[   0  427]\n",
      " [   0 1333]]\n",
      "Modelo 0:\n",
      "Precisión del modelo:  0.0\n",
      "Exactitud del modelo:  0.7573863636363637\n",
      "Sensibilidad del modelo:  0.0\n",
      "Puntaje F1 del modelo:  0.0\n",
      "\n",
      "\n",
      "Modelo 1:\n",
      "Precisión del modelo:  0.7573863636363637\n",
      "Exactitud del modelo:  0.7573863636363637\n",
      "Sensibilidad del modelo:  1.0\n",
      "Puntaje F1 del modelo:  0.861946330423537\n"
     ]
    },
    {
     "name": "stderr",
     "output_type": "stream",
     "text": [
      "/Library/Frameworks/Python.framework/Versions/3.12/lib/python3.12/site-packages/sklearn/metrics/_classification.py:1565: UndefinedMetricWarning: Precision is ill-defined and being set to 0.0 due to no predicted samples. Use `zero_division` parameter to control this behavior.\n",
      "  _warn_prf(average, modifier, f\"{metric.capitalize()} is\", len(result))\n"
     ]
    }
   ],
   "source": [
    "green_relo=regresioncion_logistica(green,\"green\",\"no green\")"
   ]
  },
  {
   "cell_type": "code",
   "execution_count": 36,
   "id": "7adf7213",
   "metadata": {},
   "outputs": [
    {
     "data": {
      "text/plain": [
       "0       no red\n",
       "1       no red\n",
       "2       no red\n",
       "3       no red\n",
       "4       no red\n",
       "         ...  \n",
       "5860    no red\n",
       "5861    no red\n",
       "5862    no red\n",
       "5863    no red\n",
       "5864    no red\n",
       "Name: color presionado, Length: 5865, dtype: object"
      ]
     },
     "execution_count": 36,
     "metadata": {},
     "output_type": "execute_result"
    }
   ],
   "source": [
    "red= data_sin_nulos['color presionado'].replace([\"blue\", \"green\", \"violet\", \"yellow\"], \"no red\")\n",
    "red"
   ]
  },
  {
   "cell_type": "code",
   "execution_count": 37,
   "id": "4f643d70",
   "metadata": {},
   "outputs": [
    {
     "name": "stdout",
     "output_type": "stream",
     "text": [
      "Matriz de Confusión: \n",
      "[[   0   10]\n",
      " [   0 1750]]\n",
      "Modelo 0:\n",
      "Precisión del modelo:  0.0\n",
      "Exactitud del modelo:  0.9943181818181818\n",
      "Sensibilidad del modelo:  0.0\n",
      "Puntaje F1 del modelo:  0.0\n",
      "\n",
      "\n",
      "Modelo 1:\n",
      "Precisión del modelo:  0.9943181818181818\n",
      "Exactitud del modelo:  0.9943181818181818\n",
      "Sensibilidad del modelo:  1.0\n",
      "Puntaje F1 del modelo:  0.9971509971509972\n"
     ]
    },
    {
     "name": "stderr",
     "output_type": "stream",
     "text": [
      "/Library/Frameworks/Python.framework/Versions/3.12/lib/python3.12/site-packages/sklearn/metrics/_classification.py:1565: UndefinedMetricWarning: Precision is ill-defined and being set to 0.0 due to no predicted samples. Use `zero_division` parameter to control this behavior.\n",
      "  _warn_prf(average, modifier, f\"{metric.capitalize()} is\", len(result))\n"
     ]
    }
   ],
   "source": [
    "red_relo=regresioncion_logistica(red,\"red\",\"no red\")"
   ]
  },
  {
   "cell_type": "code",
   "execution_count": 38,
   "id": "a3e5dcab",
   "metadata": {},
   "outputs": [
    {
     "data": {
      "text/plain": [
       "0       no violet\n",
       "1          violet\n",
       "2       no violet\n",
       "3       no violet\n",
       "4       no violet\n",
       "          ...    \n",
       "5860    no violet\n",
       "5861    no violet\n",
       "5862    no violet\n",
       "5863    no violet\n",
       "5864    no violet\n",
       "Name: color presionado, Length: 5865, dtype: object"
      ]
     },
     "execution_count": 38,
     "metadata": {},
     "output_type": "execute_result"
    }
   ],
   "source": [
    "violet= data_sin_nulos['color presionado'].replace([\"blue\", \"green\", \"red\", \"yellow\"], \"no violet\")\n",
    "violet"
   ]
  },
  {
   "cell_type": "code",
   "execution_count": 39,
   "id": "e2ed3bc6",
   "metadata": {},
   "outputs": [
    {
     "name": "stdout",
     "output_type": "stream",
     "text": [
      "Matriz de Confusión: \n",
      "[[  52  405]\n",
      " [   4 1299]]\n",
      "Modelo 0:\n",
      "Precisión del modelo:  0.9285714285714286\n",
      "Exactitud del modelo:  0.7676136363636363\n",
      "Sensibilidad del modelo:  0.1137855579868709\n",
      "Puntaje F1 del modelo:  0.20272904483430798\n",
      "\n",
      "\n",
      "Modelo 1:\n",
      "Precisión del modelo:  0.7623239436619719\n",
      "Exactitud del modelo:  0.7676136363636363\n",
      "Sensibilidad del modelo:  0.9969301611665388\n",
      "Puntaje F1 del modelo:  0.863984037246425\n"
     ]
    }
   ],
   "source": [
    "violet_relo=regresioncion_logistica(violet,\"violet\",\"no violet\")"
   ]
  },
  {
   "cell_type": "code",
   "execution_count": 40,
   "id": "dfdc3a14",
   "metadata": {},
   "outputs": [
    {
     "data": {
      "text/plain": [
       "0       no yellow\n",
       "1       no yellow\n",
       "2       no yellow\n",
       "3       no yellow\n",
       "4       no yellow\n",
       "          ...    \n",
       "5860    no yellow\n",
       "5861    no yellow\n",
       "5862    no yellow\n",
       "5863    no yellow\n",
       "5864    no yellow\n",
       "Name: color presionado, Length: 5865, dtype: object"
      ]
     },
     "execution_count": 40,
     "metadata": {},
     "output_type": "execute_result"
    }
   ],
   "source": [
    "yellow= data_sin_nulos['color presionado'].replace([\"blue\", \"green\", \"red\", \"violet\"], \"no yellow\")\n",
    "yellow"
   ]
  },
  {
   "cell_type": "code",
   "execution_count": 41,
   "id": "135433af",
   "metadata": {},
   "outputs": [
    {
     "name": "stdout",
     "output_type": "stream",
     "text": [
      "Matriz de Confusión: \n",
      "[[   0  413]\n",
      " [   0 1347]]\n",
      "Modelo 0:\n",
      "Precisión del modelo:  0.0\n",
      "Exactitud del modelo:  0.7653409090909091\n",
      "Sensibilidad del modelo:  0.0\n",
      "Puntaje F1 del modelo:  0.0\n",
      "\n",
      "\n",
      "Modelo 1:\n",
      "Precisión del modelo:  0.7653409090909091\n",
      "Exactitud del modelo:  0.7653409090909091\n",
      "Sensibilidad del modelo:  1.0\n",
      "Puntaje F1 del modelo:  0.8670743482458964\n"
     ]
    },
    {
     "name": "stderr",
     "output_type": "stream",
     "text": [
      "/Library/Frameworks/Python.framework/Versions/3.12/lib/python3.12/site-packages/sklearn/metrics/_classification.py:1565: UndefinedMetricWarning: Precision is ill-defined and being set to 0.0 due to no predicted samples. Use `zero_division` parameter to control this behavior.\n",
      "  _warn_prf(average, modifier, f\"{metric.capitalize()} is\", len(result))\n"
     ]
    }
   ],
   "source": [
    "yellow_relo=regresioncion_logistica(yellow,\"yellow\",\"no yellow\")"
   ]
  },
  {
   "cell_type": "markdown",
   "id": "eff83793",
   "metadata": {},
   "source": [
    "Dificultad"
   ]
  },
  {
   "cell_type": "code",
   "execution_count": 42,
   "id": "c0a6c5c2",
   "metadata": {},
   "outputs": [
    {
     "data": {
      "text/plain": [
       "array(['Episodio 1', 'Episodio 2', 'Episodio 3', 'Episodio 4'],\n",
       "      dtype=object)"
      ]
     },
     "execution_count": 42,
     "metadata": {},
     "output_type": "execute_result"
    }
   ],
   "source": [
    "dif = np.unique(data_sin_nulos['dificultad'])\n",
    "dif"
   ]
  },
  {
   "cell_type": "code",
   "execution_count": 43,
   "id": "8ce31874",
   "metadata": {},
   "outputs": [
    {
     "data": {
      "text/plain": [
       "0          Episodio 1\n",
       "1          Episodio 1\n",
       "2          Episodio 1\n",
       "3          Episodio 1\n",
       "4          Episodio 1\n",
       "            ...      \n",
       "5860       Episodio 1\n",
       "5861    NO Episodio 1\n",
       "5862    NO Episodio 1\n",
       "5863    NO Episodio 1\n",
       "5864    NO Episodio 1\n",
       "Name: dificultad, Length: 5865, dtype: object"
      ]
     },
     "execution_count": 43,
     "metadata": {},
     "output_type": "execute_result"
    }
   ],
   "source": [
    "E1= data_sin_nulos['dificultad'].replace([\"Episodio 2\", \"Episodio 3\", \"Episodio 4\"], \"NO Episodio 1\")\n",
    "E1"
   ]
  },
  {
   "cell_type": "code",
   "execution_count": 44,
   "id": "83d2a0a7",
   "metadata": {},
   "outputs": [
    {
     "name": "stdout",
     "output_type": "stream",
     "text": [
      "Matriz de Confusión: \n",
      "[[ 101  599]\n",
      " [  47 1013]]\n",
      "Modelo 0:\n",
      "Precisión del modelo:  0.6824324324324325\n",
      "Exactitud del modelo:  0.6329545454545454\n",
      "Sensibilidad del modelo:  0.1442857142857143\n",
      "Puntaje F1 del modelo:  0.23820754716981132\n",
      "\n",
      "\n",
      "Modelo 1:\n",
      "Precisión del modelo:  0.6284119106699751\n",
      "Exactitud del modelo:  0.6329545454545454\n",
      "Sensibilidad del modelo:  0.9556603773584905\n",
      "Puntaje F1 del modelo:  0.7582335329341318\n"
     ]
    }
   ],
   "source": [
    "E1_relo=regresioncion_logistica(E1,\"Episodio 1\",\"NO Episodio 1\")"
   ]
  },
  {
   "cell_type": "code",
   "execution_count": 45,
   "id": "994deafa",
   "metadata": {},
   "outputs": [
    {
     "data": {
      "text/plain": [
       "0       NO Episodio 2\n",
       "1       NO Episodio 2\n",
       "2       NO Episodio 2\n",
       "3       NO Episodio 2\n",
       "4       NO Episodio 2\n",
       "            ...      \n",
       "5860    NO Episodio 2\n",
       "5861    NO Episodio 2\n",
       "5862    NO Episodio 2\n",
       "5863    NO Episodio 2\n",
       "5864    NO Episodio 2\n",
       "Name: dificultad, Length: 5865, dtype: object"
      ]
     },
     "execution_count": 45,
     "metadata": {},
     "output_type": "execute_result"
    }
   ],
   "source": [
    "E2= data_sin_nulos['dificultad'].replace([\"Episodio 1\", \"Episodio 3\", \"Episodio 4\"], \"NO Episodio 2\")\n",
    "E2"
   ]
  },
  {
   "cell_type": "code",
   "execution_count": 46,
   "id": "518a286e",
   "metadata": {},
   "outputs": [
    {
     "name": "stdout",
     "output_type": "stream",
     "text": [
      "Matriz de Confusión: \n",
      "[[   0  445]\n",
      " [   0 1315]]\n",
      "Modelo 0:\n",
      "Precisión del modelo:  0.0\n",
      "Exactitud del modelo:  0.7471590909090909\n",
      "Sensibilidad del modelo:  0.0\n",
      "Puntaje F1 del modelo:  0.0\n",
      "\n",
      "\n",
      "Modelo 1:\n",
      "Precisión del modelo:  0.7471590909090909\n",
      "Exactitud del modelo:  0.7471590909090909\n",
      "Sensibilidad del modelo:  1.0\n",
      "Puntaje F1 del modelo:  0.8552845528455284\n"
     ]
    },
    {
     "name": "stderr",
     "output_type": "stream",
     "text": [
      "/Library/Frameworks/Python.framework/Versions/3.12/lib/python3.12/site-packages/sklearn/metrics/_classification.py:1565: UndefinedMetricWarning: Precision is ill-defined and being set to 0.0 due to no predicted samples. Use `zero_division` parameter to control this behavior.\n",
      "  _warn_prf(average, modifier, f\"{metric.capitalize()} is\", len(result))\n"
     ]
    }
   ],
   "source": [
    "E2_relo=regresioncion_logistica(E2,\"Episodio 2\",\"NO Episodio 2\")"
   ]
  },
  {
   "cell_type": "code",
   "execution_count": 47,
   "id": "307322bb",
   "metadata": {},
   "outputs": [
    {
     "data": {
      "text/plain": [
       "0       NO Episodio 3\n",
       "1       NO Episodio 3\n",
       "2       NO Episodio 3\n",
       "3       NO Episodio 3\n",
       "4       NO Episodio 3\n",
       "            ...      \n",
       "5860    NO Episodio 3\n",
       "5861       Episodio 3\n",
       "5862       Episodio 3\n",
       "5863       Episodio 3\n",
       "5864       Episodio 3\n",
       "Name: dificultad, Length: 5865, dtype: object"
      ]
     },
     "execution_count": 47,
     "metadata": {},
     "output_type": "execute_result"
    }
   ],
   "source": [
    "E3= data_sin_nulos['dificultad'].replace([\"Episodio 1\", \"Episodio 2\", \"Episodio 4\"], \"NO Episodio 3\")\n",
    "E3"
   ]
  },
  {
   "cell_type": "code",
   "execution_count": 48,
   "id": "30f17822",
   "metadata": {},
   "outputs": [
    {
     "name": "stdout",
     "output_type": "stream",
     "text": [
      "Matriz de Confusión: \n",
      "[[   0  385]\n",
      " [   3 1372]]\n",
      "Modelo 0:\n",
      "Precisión del modelo:  0.0\n",
      "Exactitud del modelo:  0.7795454545454545\n",
      "Sensibilidad del modelo:  0.0\n",
      "Puntaje F1 del modelo:  0.0\n",
      "\n",
      "\n",
      "Modelo 1:\n",
      "Precisión del modelo:  0.7808764940239044\n",
      "Exactitud del modelo:  0.7795454545454545\n",
      "Sensibilidad del modelo:  0.9978181818181818\n",
      "Puntaje F1 del modelo:  0.876117496807152\n"
     ]
    }
   ],
   "source": [
    "E3_relo=regresioncion_logistica(E3,\"Episodio 3\",\"NO Episodio 3\")"
   ]
  },
  {
   "cell_type": "code",
   "execution_count": 49,
   "id": "2d5df186",
   "metadata": {},
   "outputs": [
    {
     "data": {
      "text/plain": [
       "0       NO Episodio 4\n",
       "1       NO Episodio 4\n",
       "2       NO Episodio 4\n",
       "3       NO Episodio 4\n",
       "4       NO Episodio 4\n",
       "            ...      \n",
       "5860    NO Episodio 4\n",
       "5861    NO Episodio 4\n",
       "5862    NO Episodio 4\n",
       "5863    NO Episodio 4\n",
       "5864    NO Episodio 4\n",
       "Name: dificultad, Length: 5865, dtype: object"
      ]
     },
     "execution_count": 49,
     "metadata": {},
     "output_type": "execute_result"
    }
   ],
   "source": [
    "E4= data_sin_nulos['dificultad'].replace([\"Episodio 1\", \"Episodio 2\", \"Episodio 3\"], \"NO Episodio 4\")\n",
    "E4"
   ]
  },
  {
   "cell_type": "code",
   "execution_count": 50,
   "id": "f31bd09f",
   "metadata": {},
   "outputs": [
    {
     "name": "stdout",
     "output_type": "stream",
     "text": [
      "Matriz de Confusión: \n",
      "[[   0  218]\n",
      " [   0 1542]]\n",
      "Modelo 0:\n",
      "Precisión del modelo:  0.0\n",
      "Exactitud del modelo:  0.8761363636363636\n",
      "Sensibilidad del modelo:  0.0\n",
      "Puntaje F1 del modelo:  0.0\n",
      "\n",
      "\n",
      "Modelo 1:\n",
      "Precisión del modelo:  0.8761363636363636\n",
      "Exactitud del modelo:  0.8761363636363636\n",
      "Sensibilidad del modelo:  1.0\n",
      "Puntaje F1 del modelo:  0.9339794064203513\n"
     ]
    },
    {
     "name": "stderr",
     "output_type": "stream",
     "text": [
      "/Library/Frameworks/Python.framework/Versions/3.12/lib/python3.12/site-packages/sklearn/metrics/_classification.py:1565: UndefinedMetricWarning: Precision is ill-defined and being set to 0.0 due to no predicted samples. Use `zero_division` parameter to control this behavior.\n",
      "  _warn_prf(average, modifier, f\"{metric.capitalize()} is\", len(result))\n"
     ]
    }
   ],
   "source": [
    "E4_relo=regresioncion_logistica(E4,\"Episodio 4\",\"NO Episodio 4\")"
   ]
  },
  {
   "cell_type": "markdown",
   "id": "46dd5c3c",
   "metadata": {},
   "source": [
    "Mini Juego(2)"
   ]
  },
  {
   "cell_type": "code",
   "execution_count": 51,
   "id": "17bd32e7",
   "metadata": {},
   "outputs": [
    {
     "data": {
      "text/plain": [
       "array(['Asteroides', 'Despegue', 'Estrellas', 'Gusanos', 'MiniGame_0',\n",
       "       'MiniGame_1', 'MiniGame_2', 'MiniGame_3', 'Restaurante',\n",
       "       'animales y colores', 'figuras y colores', 'partes del cuerpo',\n",
       "       'sonidos y animales'], dtype=object)"
      ]
     },
     "execution_count": 51,
     "metadata": {},
     "output_type": "execute_result"
    }
   ],
   "source": [
    "#numero de interacción, usuario(5))\n",
    "miju = np.unique(data_sin_nulos['mini juego'])\n",
    "miju"
   ]
  },
  {
   "cell_type": "code",
   "execution_count": 52,
   "id": "d7182c04",
   "metadata": {},
   "outputs": [
    {
     "data": {
      "text/plain": [
       "0       NO Asteroides\n",
       "1       NO Asteroides\n",
       "2       NO Asteroides\n",
       "3       NO Asteroides\n",
       "4       NO Asteroides\n",
       "            ...      \n",
       "5860    NO Asteroides\n",
       "5861       Asteroides\n",
       "5862       Asteroides\n",
       "5863       Asteroides\n",
       "5864    NO Asteroides\n",
       "Name: mini juego, Length: 5865, dtype: object"
      ]
     },
     "execution_count": 52,
     "metadata": {},
     "output_type": "execute_result"
    }
   ],
   "source": [
    "Asteroides= data_sin_nulos['mini juego'].replace([\"Despegue\", \"Estrellas\", \"Gusanos\", \"MiniGame_0\", \"MiniGame_1\", \"MiniGame_2\", \"MiniGame_3\", \"Restaurante\", \"animales y colores\", \"figuras y colores\", \"partes del cuerpo\", \"sonidos y animales\"], \"NO Asteroides\")\n",
    "Asteroides"
   ]
  },
  {
   "cell_type": "code",
   "execution_count": 53,
   "id": "f02769fb",
   "metadata": {},
   "outputs": [
    {
     "name": "stdout",
     "output_type": "stream",
     "text": [
      "Matriz de Confusión: \n",
      "[[   0  315]\n",
      " [   1 1444]]\n",
      "Modelo 0:\n",
      "Precisión del modelo:  0.0\n",
      "Exactitud del modelo:  0.8204545454545454\n",
      "Sensibilidad del modelo:  0.0\n",
      "Puntaje F1 del modelo:  0.0\n",
      "\n",
      "\n",
      "Modelo 1:\n",
      "Precisión del modelo:  0.8209209778283115\n",
      "Exactitud del modelo:  0.8204545454545454\n",
      "Sensibilidad del modelo:  0.9993079584775086\n",
      "Puntaje F1 del modelo:  0.9013732833957553\n"
     ]
    }
   ],
   "source": [
    "Asteroides_relo=regresioncion_logistica(Asteroides,\"Asteroides\",\"NO Asteroides\")"
   ]
  },
  {
   "cell_type": "code",
   "execution_count": 54,
   "id": "3f780f56",
   "metadata": {},
   "outputs": [
    {
     "data": {
      "text/plain": [
       "0          Despegue\n",
       "1          Despegue\n",
       "2          Despegue\n",
       "3          Despegue\n",
       "4          Despegue\n",
       "           ...     \n",
       "5860    NO Despegue\n",
       "5861    NO Despegue\n",
       "5862    NO Despegue\n",
       "5863    NO Despegue\n",
       "5864    NO Despegue\n",
       "Name: mini juego, Length: 5865, dtype: object"
      ]
     },
     "execution_count": 54,
     "metadata": {},
     "output_type": "execute_result"
    }
   ],
   "source": [
    "Despegue= data_sin_nulos['mini juego'].replace([\"Asteroides\", \"Estrellas\", \"Gusanos\", \"MiniGame_0\", \"MiniGame_1\", \"MiniGame_2\", \"MiniGame_3\", \"Restaurante\", \"animales y colores\", \"figuras y colores\", \"partes del cuerpo\", \"sonidos y animales\"], \"NO Despegue\")\n",
    "Despegue"
   ]
  },
  {
   "cell_type": "code",
   "execution_count": 55,
   "id": "e1431fcf",
   "metadata": {},
   "outputs": [
    {
     "name": "stdout",
     "output_type": "stream",
     "text": [
      "Matriz de Confusión: \n",
      "[[   0   51]\n",
      " [   0 1709]]\n",
      "Modelo 0:\n",
      "Precisión del modelo:  0.0\n",
      "Exactitud del modelo:  0.9710227272727273\n",
      "Sensibilidad del modelo:  0.0\n",
      "Puntaje F1 del modelo:  0.0\n",
      "\n",
      "\n",
      "Modelo 1:\n",
      "Precisión del modelo:  0.9710227272727273\n",
      "Exactitud del modelo:  0.9710227272727273\n",
      "Sensibilidad del modelo:  1.0\n",
      "Puntaje F1 del modelo:  0.9852983568751802\n"
     ]
    },
    {
     "name": "stderr",
     "output_type": "stream",
     "text": [
      "/Library/Frameworks/Python.framework/Versions/3.12/lib/python3.12/site-packages/sklearn/metrics/_classification.py:1565: UndefinedMetricWarning: Precision is ill-defined and being set to 0.0 due to no predicted samples. Use `zero_division` parameter to control this behavior.\n",
      "  _warn_prf(average, modifier, f\"{metric.capitalize()} is\", len(result))\n"
     ]
    }
   ],
   "source": [
    "Despegue_relo=regresioncion_logistica(Despegue,\"Despegue\",\"NO Despegue\")"
   ]
  },
  {
   "cell_type": "markdown",
   "id": "89902594",
   "metadata": {},
   "source": [
    "Numero de Interacción"
   ]
  },
  {
   "cell_type": "code",
   "execution_count": 56,
   "id": "c818fa97",
   "metadata": {},
   "outputs": [
    {
     "data": {
      "text/plain": [
       "[1.0, 256.0]"
      ]
     },
     "execution_count": 56,
     "metadata": {},
     "output_type": "execute_result"
    }
   ],
   "source": [
    "Max=data_sin_nulos['número de interacción'].max()\n",
    "Min=data_sin_nulos['número de interacción'].min()\n",
    "Limites= [Min, Max]\n",
    "Limites"
   ]
  },
  {
   "cell_type": "code",
   "execution_count": 57,
   "id": "2f460d61",
   "metadata": {},
   "outputs": [
    {
     "name": "stdout",
     "output_type": "stream",
     "text": [
      "[  0.9 128.5 256.1]\n"
     ]
    }
   ],
   "source": [
    "intervalos=np.linspace(0.9, 256.1, 3)\n",
    "print(intervalos)\n",
    "categorias= [\"Interacción Baja\", \"Interacción Alta\"]"
   ]
  },
  {
   "cell_type": "code",
   "execution_count": 58,
   "id": "9f6a967e",
   "metadata": {},
   "outputs": [],
   "source": [
    "pd.options.display.max_rows = None"
   ]
  },
  {
   "cell_type": "code",
   "execution_count": 59,
   "id": "5bdee4f9",
   "metadata": {},
   "outputs": [
    {
     "data": {
      "text/plain": [
       "0    Interacción Baja\n",
       "1    Interacción Baja\n",
       "2    Interacción Baja\n",
       "3    Interacción Baja\n",
       "4    Interacción Baja\n",
       "Name: número de interacción, dtype: category\n",
       "Categories (2, object): ['Interacción Baja' < 'Interacción Alta']"
      ]
     },
     "execution_count": 59,
     "metadata": {},
     "output_type": "execute_result"
    }
   ],
   "source": [
    "internew=pd.cut(x= data_sin_nulos['número de interacción'], bins=intervalos, labels= categorias )\n",
    "internew.head()"
   ]
  },
  {
   "cell_type": "code",
   "execution_count": 60,
   "id": "440aabda",
   "metadata": {},
   "outputs": [
    {
     "name": "stdout",
     "output_type": "stream",
     "text": [
      "Matriz de Confusión: \n",
      "[[  39    0]\n",
      " [   3 1718]]\n",
      "Modelo 0:\n",
      "Precisión del modelo:  0.9285714285714286\n",
      "Exactitud del modelo:  0.9982954545454545\n",
      "Sensibilidad del modelo:  1.0\n",
      "Puntaje F1 del modelo:  0.9629629629629629\n",
      "\n",
      "\n",
      "Modelo 1:\n",
      "Precisión del modelo:  1.0\n",
      "Exactitud del modelo:  0.9982954545454545\n",
      "Sensibilidad del modelo:  0.9982568274259151\n",
      "Puntaje F1 del modelo:  0.9991276533876127\n"
     ]
    },
    {
     "name": "stderr",
     "output_type": "stream",
     "text": [
      "/var/folders/cr/23ck8vtn1kd8mbhg9wssxh440000gn/T/ipykernel_2271/521905368.py:9: FutureWarning: The behavior of Series.replace (and DataFrame.replace) with CategoricalDtype is deprecated. In a future version, replace will only be used for cases that preserve the categories. To change the categories, use ser.cat.rename_categories instead.\n",
      "  dicotomica=dicotomica.replace(si,\"0\")\n",
      "/var/folders/cr/23ck8vtn1kd8mbhg9wssxh440000gn/T/ipykernel_2271/521905368.py:10: FutureWarning: The behavior of Series.replace (and DataFrame.replace) with CategoricalDtype is deprecated. In a future version, replace will only be used for cases that preserve the categories. To change the categories, use ser.cat.rename_categories instead.\n",
      "  dicotomica=dicotomica.replace(no,\"1\")\n"
     ]
    }
   ],
   "source": [
    "internew_relo=regresioncion_logistica(internew,\"Interacción Alta\",\"Interacción Baja\")"
   ]
  },
  {
   "cell_type": "code",
   "execution_count": 61,
   "id": "33ffa436",
   "metadata": {},
   "outputs": [],
   "source": [
    "data = data_sin_nulos.copy()"
   ]
  },
  {
   "cell_type": "markdown",
   "id": "6aa319e0",
   "metadata": {},
   "source": [
    "Usuario (5)"
   ]
  },
  {
   "cell_type": "code",
   "execution_count": 62,
   "id": "b1092aee",
   "metadata": {},
   "outputs": [
    {
     "data": {
      "text/plain": [
       "array(['ADRIAN ', 'ALEIDA', 'ARLETT', 'ASHLEY ', 'AUSTIN', 'BENJAMIN',\n",
       "       'CARLOS ABEL', 'CARLOS ENRIQUE', 'CONCEPCION', 'DENISSE',\n",
       "       'ERICK OSVALDO', 'ESMERALDA', 'IKER BENJAMIN', 'INGRID', 'IRVING ',\n",
       "       'JESUS ALEJANDRO', 'JOSE IAN', 'JOSE IGNACIO TADEO',\n",
       "       'JOSE JAVIER ', 'JOSHUA', 'KYTZIA', 'LEONARDO', 'LEONARDO ',\n",
       "       'MA DEL ROSARIO ', 'NICOLAS |', 'RENE ', 'SERGIO ANGEL',\n",
       "       'VALENTIN', 'YAEL DAVID', 'YEREMI YAZMIN ', 'erick ',\n",
       "       'jesus eduardo', 'nicolas', 'ramiro isai'], dtype=object)"
      ]
     },
     "execution_count": 62,
     "metadata": {},
     "output_type": "execute_result"
    }
   ],
   "source": [
    "us = np.unique(data_sin_nulos['Usuario'])\n",
    "us"
   ]
  },
  {
   "cell_type": "code",
   "execution_count": 63,
   "id": "cfd784ba",
   "metadata": {},
   "outputs": [
    {
     "data": {
      "text/plain": [
       "0    NO ADRIAN\n",
       "1    NO ADRIAN\n",
       "2    NO ADRIAN\n",
       "3    NO ADRIAN\n",
       "4    NO ADRIAN\n",
       "Name: Usuario, dtype: object"
      ]
     },
     "execution_count": 63,
     "metadata": {},
     "output_type": "execute_result"
    }
   ],
   "source": [
    "ADRIAN= data_sin_nulos['Usuario'].replace(['ALEIDA', 'ARLETT', 'ASHLEY ', 'AUSTIN', 'BENJAMIN','CARLOS ABEL', 'CARLOS ENRIQUE', 'CONCEPCION', 'DENISSE','ERICK OSVALDO', 'ESMERALDA', 'IKER BENJAMIN', 'INGRID', 'IRVING ','JESUS ALEJANDRO', 'JOSE IAN', 'JOSE IGNACIO TADEO','JOSE JAVIER ', 'JOSHUA', 'KYTZIA', 'LEONARDO', 'LEONARDO ','MA DEL ROSARIO ', 'NICOLAS |', 'RENE ', 'SERGIO ANGEL','VALENTIN', 'YAEL DAVID', 'YEREMI YAZMIN ', 'erick ','jesus eduardo', 'nicolas', 'ramiro isai'], \"NO ADRIAN\")\n",
    "ADRIAN.head()"
   ]
  },
  {
   "cell_type": "code",
   "execution_count": 64,
   "id": "1b44a51a",
   "metadata": {},
   "outputs": [
    {
     "ename": "ValueError",
     "evalue": "Input y contains NaN.",
     "output_type": "error",
     "traceback": [
      "\u001b[31m---------------------------------------------------------------------------\u001b[39m",
      "\u001b[31mValueError\u001b[39m                                Traceback (most recent call last)",
      "\u001b[36mCell\u001b[39m\u001b[36m \u001b[39m\u001b[32mIn[64]\u001b[39m\u001b[32m, line 1\u001b[39m\n\u001b[32m----> \u001b[39m\u001b[32m1\u001b[39m ADRIAN_relo=\u001b[43mregresioncion_logistica\u001b[49m\u001b[43m(\u001b[49m\u001b[43mADRIAN\u001b[49m\u001b[43m,\u001b[49m\u001b[33;43m\"\u001b[39;49m\u001b[33;43mADRIAN\u001b[39;49m\u001b[33;43m\"\u001b[39;49m\u001b[43m,\u001b[49m\u001b[33;43m\"\u001b[39;49m\u001b[33;43mNO ADRIAN\u001b[39;49m\u001b[33;43m\"\u001b[39;49m\u001b[43m)\u001b[49m\n",
      "\u001b[36mCell\u001b[39m\u001b[36m \u001b[39m\u001b[32mIn[30]\u001b[39m\u001b[32m, line 21\u001b[39m, in \u001b[36mregresioncion_logistica\u001b[39m\u001b[34m(dicotomica, si, no)\u001b[39m\n\u001b[32m     19\u001b[39m X_test = escalar.transform(X_test)\n\u001b[32m     20\u001b[39m algoritmo = LogisticRegression()\n\u001b[32m---> \u001b[39m\u001b[32m21\u001b[39m \u001b[43malgoritmo\u001b[49m\u001b[43m.\u001b[49m\u001b[43mfit\u001b[49m\u001b[43m(\u001b[49m\u001b[43mX_train\u001b[49m\u001b[43m,\u001b[49m\u001b[43m \u001b[49m\u001b[43mY_train\u001b[49m\u001b[43m)\u001b[49m\n\u001b[32m     22\u001b[39m Y_pred = algoritmo.predict(X_test) \n\u001b[32m     23\u001b[39m matriz = confusion_matrix(Y_test, Y_pred)\n",
      "\u001b[36mFile \u001b[39m\u001b[32m/Library/Frameworks/Python.framework/Versions/3.12/lib/python3.12/site-packages/sklearn/base.py:1389\u001b[39m, in \u001b[36m_fit_context.<locals>.decorator.<locals>.wrapper\u001b[39m\u001b[34m(estimator, *args, **kwargs)\u001b[39m\n\u001b[32m   1382\u001b[39m     estimator._validate_params()\n\u001b[32m   1384\u001b[39m \u001b[38;5;28;01mwith\u001b[39;00m config_context(\n\u001b[32m   1385\u001b[39m     skip_parameter_validation=(\n\u001b[32m   1386\u001b[39m         prefer_skip_nested_validation \u001b[38;5;129;01mor\u001b[39;00m global_skip_validation\n\u001b[32m   1387\u001b[39m     )\n\u001b[32m   1388\u001b[39m ):\n\u001b[32m-> \u001b[39m\u001b[32m1389\u001b[39m     \u001b[38;5;28;01mreturn\u001b[39;00m \u001b[43mfit_method\u001b[49m\u001b[43m(\u001b[49m\u001b[43mestimator\u001b[49m\u001b[43m,\u001b[49m\u001b[43m \u001b[49m\u001b[43m*\u001b[49m\u001b[43margs\u001b[49m\u001b[43m,\u001b[49m\u001b[43m \u001b[49m\u001b[43m*\u001b[49m\u001b[43m*\u001b[49m\u001b[43mkwargs\u001b[49m\u001b[43m)\u001b[49m\n",
      "\u001b[36mFile \u001b[39m\u001b[32m/Library/Frameworks/Python.framework/Versions/3.12/lib/python3.12/site-packages/sklearn/linear_model/_logistic.py:1222\u001b[39m, in \u001b[36mLogisticRegression.fit\u001b[39m\u001b[34m(self, X, y, sample_weight)\u001b[39m\n\u001b[32m   1219\u001b[39m \u001b[38;5;28;01melse\u001b[39;00m:\n\u001b[32m   1220\u001b[39m     _dtype = [np.float64, np.float32]\n\u001b[32m-> \u001b[39m\u001b[32m1222\u001b[39m X, y = \u001b[43mvalidate_data\u001b[49m\u001b[43m(\u001b[49m\n\u001b[32m   1223\u001b[39m \u001b[43m    \u001b[49m\u001b[38;5;28;43mself\u001b[39;49m\u001b[43m,\u001b[49m\n\u001b[32m   1224\u001b[39m \u001b[43m    \u001b[49m\u001b[43mX\u001b[49m\u001b[43m,\u001b[49m\n\u001b[32m   1225\u001b[39m \u001b[43m    \u001b[49m\u001b[43my\u001b[49m\u001b[43m,\u001b[49m\n\u001b[32m   1226\u001b[39m \u001b[43m    \u001b[49m\u001b[43maccept_sparse\u001b[49m\u001b[43m=\u001b[49m\u001b[33;43m\"\u001b[39;49m\u001b[33;43mcsr\u001b[39;49m\u001b[33;43m\"\u001b[39;49m\u001b[43m,\u001b[49m\n\u001b[32m   1227\u001b[39m \u001b[43m    \u001b[49m\u001b[43mdtype\u001b[49m\u001b[43m=\u001b[49m\u001b[43m_dtype\u001b[49m\u001b[43m,\u001b[49m\n\u001b[32m   1228\u001b[39m \u001b[43m    \u001b[49m\u001b[43morder\u001b[49m\u001b[43m=\u001b[49m\u001b[33;43m\"\u001b[39;49m\u001b[33;43mC\u001b[39;49m\u001b[33;43m\"\u001b[39;49m\u001b[43m,\u001b[49m\n\u001b[32m   1229\u001b[39m \u001b[43m    \u001b[49m\u001b[43maccept_large_sparse\u001b[49m\u001b[43m=\u001b[49m\u001b[43msolver\u001b[49m\u001b[43m \u001b[49m\u001b[38;5;129;43;01mnot\u001b[39;49;00m\u001b[43m \u001b[49m\u001b[38;5;129;43;01min\u001b[39;49;00m\u001b[43m \u001b[49m\u001b[43m[\u001b[49m\u001b[33;43m\"\u001b[39;49m\u001b[33;43mliblinear\u001b[39;49m\u001b[33;43m\"\u001b[39;49m\u001b[43m,\u001b[49m\u001b[43m \u001b[49m\u001b[33;43m\"\u001b[39;49m\u001b[33;43msag\u001b[39;49m\u001b[33;43m\"\u001b[39;49m\u001b[43m,\u001b[49m\u001b[43m \u001b[49m\u001b[33;43m\"\u001b[39;49m\u001b[33;43msaga\u001b[39;49m\u001b[33;43m\"\u001b[39;49m\u001b[43m]\u001b[49m\u001b[43m,\u001b[49m\n\u001b[32m   1230\u001b[39m \u001b[43m\u001b[49m\u001b[43m)\u001b[49m\n\u001b[32m   1231\u001b[39m check_classification_targets(y)\n\u001b[32m   1232\u001b[39m \u001b[38;5;28mself\u001b[39m.classes_ = np.unique(y)\n",
      "\u001b[36mFile \u001b[39m\u001b[32m/Library/Frameworks/Python.framework/Versions/3.12/lib/python3.12/site-packages/sklearn/utils/validation.py:2961\u001b[39m, in \u001b[36mvalidate_data\u001b[39m\u001b[34m(_estimator, X, y, reset, validate_separately, skip_check_array, **check_params)\u001b[39m\n\u001b[32m   2959\u001b[39m         y = check_array(y, input_name=\u001b[33m\"\u001b[39m\u001b[33my\u001b[39m\u001b[33m\"\u001b[39m, **check_y_params)\n\u001b[32m   2960\u001b[39m     \u001b[38;5;28;01melse\u001b[39;00m:\n\u001b[32m-> \u001b[39m\u001b[32m2961\u001b[39m         X, y = \u001b[43mcheck_X_y\u001b[49m\u001b[43m(\u001b[49m\u001b[43mX\u001b[49m\u001b[43m,\u001b[49m\u001b[43m \u001b[49m\u001b[43my\u001b[49m\u001b[43m,\u001b[49m\u001b[43m \u001b[49m\u001b[43m*\u001b[49m\u001b[43m*\u001b[49m\u001b[43mcheck_params\u001b[49m\u001b[43m)\u001b[49m\n\u001b[32m   2962\u001b[39m     out = X, y\n\u001b[32m   2964\u001b[39m \u001b[38;5;28;01mif\u001b[39;00m \u001b[38;5;129;01mnot\u001b[39;00m no_val_X \u001b[38;5;129;01mand\u001b[39;00m check_params.get(\u001b[33m\"\u001b[39m\u001b[33mensure_2d\u001b[39m\u001b[33m\"\u001b[39m, \u001b[38;5;28;01mTrue\u001b[39;00m):\n",
      "\u001b[36mFile \u001b[39m\u001b[32m/Library/Frameworks/Python.framework/Versions/3.12/lib/python3.12/site-packages/sklearn/utils/validation.py:1387\u001b[39m, in \u001b[36mcheck_X_y\u001b[39m\u001b[34m(X, y, accept_sparse, accept_large_sparse, dtype, order, copy, force_writeable, force_all_finite, ensure_all_finite, ensure_2d, allow_nd, multi_output, ensure_min_samples, ensure_min_features, y_numeric, estimator)\u001b[39m\n\u001b[32m   1368\u001b[39m ensure_all_finite = _deprecate_force_all_finite(force_all_finite, ensure_all_finite)\n\u001b[32m   1370\u001b[39m X = check_array(\n\u001b[32m   1371\u001b[39m     X,\n\u001b[32m   1372\u001b[39m     accept_sparse=accept_sparse,\n\u001b[32m   (...)\u001b[39m\u001b[32m   1384\u001b[39m     input_name=\u001b[33m\"\u001b[39m\u001b[33mX\u001b[39m\u001b[33m\"\u001b[39m,\n\u001b[32m   1385\u001b[39m )\n\u001b[32m-> \u001b[39m\u001b[32m1387\u001b[39m y = \u001b[43m_check_y\u001b[49m\u001b[43m(\u001b[49m\u001b[43my\u001b[49m\u001b[43m,\u001b[49m\u001b[43m \u001b[49m\u001b[43mmulti_output\u001b[49m\u001b[43m=\u001b[49m\u001b[43mmulti_output\u001b[49m\u001b[43m,\u001b[49m\u001b[43m \u001b[49m\u001b[43my_numeric\u001b[49m\u001b[43m=\u001b[49m\u001b[43my_numeric\u001b[49m\u001b[43m,\u001b[49m\u001b[43m \u001b[49m\u001b[43mestimator\u001b[49m\u001b[43m=\u001b[49m\u001b[43mestimator\u001b[49m\u001b[43m)\u001b[49m\n\u001b[32m   1389\u001b[39m check_consistent_length(X, y)\n\u001b[32m   1391\u001b[39m \u001b[38;5;28;01mreturn\u001b[39;00m X, y\n",
      "\u001b[36mFile \u001b[39m\u001b[32m/Library/Frameworks/Python.framework/Versions/3.12/lib/python3.12/site-packages/sklearn/utils/validation.py:1409\u001b[39m, in \u001b[36m_check_y\u001b[39m\u001b[34m(y, multi_output, y_numeric, estimator)\u001b[39m\n\u001b[32m   1407\u001b[39m     estimator_name = _check_estimator_name(estimator)\n\u001b[32m   1408\u001b[39m     y = column_or_1d(y, warn=\u001b[38;5;28;01mTrue\u001b[39;00m)\n\u001b[32m-> \u001b[39m\u001b[32m1409\u001b[39m     \u001b[43m_assert_all_finite\u001b[49m\u001b[43m(\u001b[49m\u001b[43my\u001b[49m\u001b[43m,\u001b[49m\u001b[43m \u001b[49m\u001b[43minput_name\u001b[49m\u001b[43m=\u001b[49m\u001b[33;43m\"\u001b[39;49m\u001b[33;43my\u001b[39;49m\u001b[33;43m\"\u001b[39;49m\u001b[43m,\u001b[49m\u001b[43m \u001b[49m\u001b[43mestimator_name\u001b[49m\u001b[43m=\u001b[49m\u001b[43mestimator_name\u001b[49m\u001b[43m)\u001b[49m\n\u001b[32m   1410\u001b[39m     _ensure_no_complex_data(y)\n\u001b[32m   1411\u001b[39m \u001b[38;5;28;01mif\u001b[39;00m y_numeric \u001b[38;5;129;01mand\u001b[39;00m \u001b[38;5;28mhasattr\u001b[39m(y.dtype, \u001b[33m\"\u001b[39m\u001b[33mkind\u001b[39m\u001b[33m\"\u001b[39m) \u001b[38;5;129;01mand\u001b[39;00m y.dtype.kind == \u001b[33m\"\u001b[39m\u001b[33mO\u001b[39m\u001b[33m\"\u001b[39m:\n",
      "\u001b[36mFile \u001b[39m\u001b[32m/Library/Frameworks/Python.framework/Versions/3.12/lib/python3.12/site-packages/sklearn/utils/validation.py:120\u001b[39m, in \u001b[36m_assert_all_finite\u001b[39m\u001b[34m(X, allow_nan, msg_dtype, estimator_name, input_name)\u001b[39m\n\u001b[32m    117\u001b[39m \u001b[38;5;28;01mif\u001b[39;00m first_pass_isfinite:\n\u001b[32m    118\u001b[39m     \u001b[38;5;28;01mreturn\u001b[39;00m\n\u001b[32m--> \u001b[39m\u001b[32m120\u001b[39m \u001b[43m_assert_all_finite_element_wise\u001b[49m\u001b[43m(\u001b[49m\n\u001b[32m    121\u001b[39m \u001b[43m    \u001b[49m\u001b[43mX\u001b[49m\u001b[43m,\u001b[49m\n\u001b[32m    122\u001b[39m \u001b[43m    \u001b[49m\u001b[43mxp\u001b[49m\u001b[43m=\u001b[49m\u001b[43mxp\u001b[49m\u001b[43m,\u001b[49m\n\u001b[32m    123\u001b[39m \u001b[43m    \u001b[49m\u001b[43mallow_nan\u001b[49m\u001b[43m=\u001b[49m\u001b[43mallow_nan\u001b[49m\u001b[43m,\u001b[49m\n\u001b[32m    124\u001b[39m \u001b[43m    \u001b[49m\u001b[43mmsg_dtype\u001b[49m\u001b[43m=\u001b[49m\u001b[43mmsg_dtype\u001b[49m\u001b[43m,\u001b[49m\n\u001b[32m    125\u001b[39m \u001b[43m    \u001b[49m\u001b[43mestimator_name\u001b[49m\u001b[43m=\u001b[49m\u001b[43mestimator_name\u001b[49m\u001b[43m,\u001b[49m\n\u001b[32m    126\u001b[39m \u001b[43m    \u001b[49m\u001b[43minput_name\u001b[49m\u001b[43m=\u001b[49m\u001b[43minput_name\u001b[49m\u001b[43m,\u001b[49m\n\u001b[32m    127\u001b[39m \u001b[43m\u001b[49m\u001b[43m)\u001b[49m\n",
      "\u001b[36mFile \u001b[39m\u001b[32m/Library/Frameworks/Python.framework/Versions/3.12/lib/python3.12/site-packages/sklearn/utils/validation.py:169\u001b[39m, in \u001b[36m_assert_all_finite_element_wise\u001b[39m\u001b[34m(X, xp, allow_nan, msg_dtype, estimator_name, input_name)\u001b[39m\n\u001b[32m    152\u001b[39m \u001b[38;5;28;01mif\u001b[39;00m estimator_name \u001b[38;5;129;01mand\u001b[39;00m input_name == \u001b[33m\"\u001b[39m\u001b[33mX\u001b[39m\u001b[33m\"\u001b[39m \u001b[38;5;129;01mand\u001b[39;00m has_nan_error:\n\u001b[32m    153\u001b[39m     \u001b[38;5;66;03m# Improve the error message on how to handle missing values in\u001b[39;00m\n\u001b[32m    154\u001b[39m     \u001b[38;5;66;03m# scikit-learn.\u001b[39;00m\n\u001b[32m    155\u001b[39m     msg_err += (\n\u001b[32m    156\u001b[39m         \u001b[33mf\u001b[39m\u001b[33m\"\u001b[39m\u001b[38;5;130;01m\\n\u001b[39;00m\u001b[38;5;132;01m{\u001b[39;00mestimator_name\u001b[38;5;132;01m}\u001b[39;00m\u001b[33m does not accept missing values\u001b[39m\u001b[33m\"\u001b[39m\n\u001b[32m    157\u001b[39m         \u001b[33m\"\u001b[39m\u001b[33m encoded as NaN natively. For supervised learning, you might want\u001b[39m\u001b[33m\"\u001b[39m\n\u001b[32m   (...)\u001b[39m\u001b[32m    167\u001b[39m         \u001b[33m\"\u001b[39m\u001b[33m#estimators-that-handle-nan-values\u001b[39m\u001b[33m\"\u001b[39m\n\u001b[32m    168\u001b[39m     )\n\u001b[32m--> \u001b[39m\u001b[32m169\u001b[39m \u001b[38;5;28;01mraise\u001b[39;00m \u001b[38;5;167;01mValueError\u001b[39;00m(msg_err)\n",
      "\u001b[31mValueError\u001b[39m: Input y contains NaN."
     ]
    }
   ],
   "source": [
    "ADRIAN_relo=regresioncion_logistica(ADRIAN,\"ADRIAN\",\"NO ADRIAN\")"
   ]
  },
  {
   "cell_type": "code",
   "execution_count": 65,
   "id": "2b09bc6c",
   "metadata": {},
   "outputs": [
    {
     "data": {
      "text/plain": [
       "0    NO ALEIDA\n",
       "1    NO ALEIDA\n",
       "2    NO ALEIDA\n",
       "3    NO ALEIDA\n",
       "4    NO ALEIDA\n",
       "Name: Usuario, dtype: object"
      ]
     },
     "execution_count": 65,
     "metadata": {},
     "output_type": "execute_result"
    }
   ],
   "source": [
    "ALEIDA= data_sin_nulos['Usuario'].replace(['ADRIAN', 'ARLETT', 'ASHLEY ', 'AUSTIN', 'BENJAMIN','CARLOS ABEL', 'CARLOS ENRIQUE', 'CONCEPCION', 'DENISSE','ERICK OSVALDO', 'ESMERALDA', 'IKER BENJAMIN', 'INGRID', 'IRVING ','JESUS ALEJANDRO', 'JOSE IAN', 'JOSE IGNACIO TADEO','JOSE JAVIER ', 'JOSHUA', 'KYTZIA', 'LEONARDO', 'LEONARDO ','MA DEL ROSARIO ', 'NICOLAS |', 'RENE ', 'SERGIO ANGEL','VALENTIN', 'YAEL DAVID', 'YEREMI YAZMIN ', 'erick ','jesus eduardo', 'nicolas', 'ramiro isai'], \"NO ALEIDA\")\n",
    "ALEIDA.head()"
   ]
  },
  {
   "cell_type": "code",
   "execution_count": 66,
   "id": "53816431",
   "metadata": {},
   "outputs": [
    {
     "ename": "ValueError",
     "evalue": "Input y contains NaN.",
     "output_type": "error",
     "traceback": [
      "\u001b[31m---------------------------------------------------------------------------\u001b[39m",
      "\u001b[31mValueError\u001b[39m                                Traceback (most recent call last)",
      "\u001b[36mCell\u001b[39m\u001b[36m \u001b[39m\u001b[32mIn[66]\u001b[39m\u001b[32m, line 1\u001b[39m\n\u001b[32m----> \u001b[39m\u001b[32m1\u001b[39m ALEIDA_relo=\u001b[43mregresioncion_logistica\u001b[49m\u001b[43m(\u001b[49m\u001b[43mALEIDA\u001b[49m\u001b[43m,\u001b[49m\u001b[33;43m\"\u001b[39;49m\u001b[33;43mALEIDA\u001b[39;49m\u001b[33;43m\"\u001b[39;49m\u001b[43m,\u001b[49m\u001b[33;43m\"\u001b[39;49m\u001b[33;43mNO ALEIDA\u001b[39;49m\u001b[33;43m\"\u001b[39;49m\u001b[43m)\u001b[49m\n",
      "\u001b[36mCell\u001b[39m\u001b[36m \u001b[39m\u001b[32mIn[30]\u001b[39m\u001b[32m, line 21\u001b[39m, in \u001b[36mregresioncion_logistica\u001b[39m\u001b[34m(dicotomica, si, no)\u001b[39m\n\u001b[32m     19\u001b[39m X_test = escalar.transform(X_test)\n\u001b[32m     20\u001b[39m algoritmo = LogisticRegression()\n\u001b[32m---> \u001b[39m\u001b[32m21\u001b[39m \u001b[43malgoritmo\u001b[49m\u001b[43m.\u001b[49m\u001b[43mfit\u001b[49m\u001b[43m(\u001b[49m\u001b[43mX_train\u001b[49m\u001b[43m,\u001b[49m\u001b[43m \u001b[49m\u001b[43mY_train\u001b[49m\u001b[43m)\u001b[49m\n\u001b[32m     22\u001b[39m Y_pred = algoritmo.predict(X_test) \n\u001b[32m     23\u001b[39m matriz = confusion_matrix(Y_test, Y_pred)\n",
      "\u001b[36mFile \u001b[39m\u001b[32m/Library/Frameworks/Python.framework/Versions/3.12/lib/python3.12/site-packages/sklearn/base.py:1389\u001b[39m, in \u001b[36m_fit_context.<locals>.decorator.<locals>.wrapper\u001b[39m\u001b[34m(estimator, *args, **kwargs)\u001b[39m\n\u001b[32m   1382\u001b[39m     estimator._validate_params()\n\u001b[32m   1384\u001b[39m \u001b[38;5;28;01mwith\u001b[39;00m config_context(\n\u001b[32m   1385\u001b[39m     skip_parameter_validation=(\n\u001b[32m   1386\u001b[39m         prefer_skip_nested_validation \u001b[38;5;129;01mor\u001b[39;00m global_skip_validation\n\u001b[32m   1387\u001b[39m     )\n\u001b[32m   1388\u001b[39m ):\n\u001b[32m-> \u001b[39m\u001b[32m1389\u001b[39m     \u001b[38;5;28;01mreturn\u001b[39;00m \u001b[43mfit_method\u001b[49m\u001b[43m(\u001b[49m\u001b[43mestimator\u001b[49m\u001b[43m,\u001b[49m\u001b[43m \u001b[49m\u001b[43m*\u001b[49m\u001b[43margs\u001b[49m\u001b[43m,\u001b[49m\u001b[43m \u001b[49m\u001b[43m*\u001b[49m\u001b[43m*\u001b[49m\u001b[43mkwargs\u001b[49m\u001b[43m)\u001b[49m\n",
      "\u001b[36mFile \u001b[39m\u001b[32m/Library/Frameworks/Python.framework/Versions/3.12/lib/python3.12/site-packages/sklearn/linear_model/_logistic.py:1222\u001b[39m, in \u001b[36mLogisticRegression.fit\u001b[39m\u001b[34m(self, X, y, sample_weight)\u001b[39m\n\u001b[32m   1219\u001b[39m \u001b[38;5;28;01melse\u001b[39;00m:\n\u001b[32m   1220\u001b[39m     _dtype = [np.float64, np.float32]\n\u001b[32m-> \u001b[39m\u001b[32m1222\u001b[39m X, y = \u001b[43mvalidate_data\u001b[49m\u001b[43m(\u001b[49m\n\u001b[32m   1223\u001b[39m \u001b[43m    \u001b[49m\u001b[38;5;28;43mself\u001b[39;49m\u001b[43m,\u001b[49m\n\u001b[32m   1224\u001b[39m \u001b[43m    \u001b[49m\u001b[43mX\u001b[49m\u001b[43m,\u001b[49m\n\u001b[32m   1225\u001b[39m \u001b[43m    \u001b[49m\u001b[43my\u001b[49m\u001b[43m,\u001b[49m\n\u001b[32m   1226\u001b[39m \u001b[43m    \u001b[49m\u001b[43maccept_sparse\u001b[49m\u001b[43m=\u001b[49m\u001b[33;43m\"\u001b[39;49m\u001b[33;43mcsr\u001b[39;49m\u001b[33;43m\"\u001b[39;49m\u001b[43m,\u001b[49m\n\u001b[32m   1227\u001b[39m \u001b[43m    \u001b[49m\u001b[43mdtype\u001b[49m\u001b[43m=\u001b[49m\u001b[43m_dtype\u001b[49m\u001b[43m,\u001b[49m\n\u001b[32m   1228\u001b[39m \u001b[43m    \u001b[49m\u001b[43morder\u001b[49m\u001b[43m=\u001b[49m\u001b[33;43m\"\u001b[39;49m\u001b[33;43mC\u001b[39;49m\u001b[33;43m\"\u001b[39;49m\u001b[43m,\u001b[49m\n\u001b[32m   1229\u001b[39m \u001b[43m    \u001b[49m\u001b[43maccept_large_sparse\u001b[49m\u001b[43m=\u001b[49m\u001b[43msolver\u001b[49m\u001b[43m \u001b[49m\u001b[38;5;129;43;01mnot\u001b[39;49;00m\u001b[43m \u001b[49m\u001b[38;5;129;43;01min\u001b[39;49;00m\u001b[43m \u001b[49m\u001b[43m[\u001b[49m\u001b[33;43m\"\u001b[39;49m\u001b[33;43mliblinear\u001b[39;49m\u001b[33;43m\"\u001b[39;49m\u001b[43m,\u001b[49m\u001b[43m \u001b[49m\u001b[33;43m\"\u001b[39;49m\u001b[33;43msag\u001b[39;49m\u001b[33;43m\"\u001b[39;49m\u001b[43m,\u001b[49m\u001b[43m \u001b[49m\u001b[33;43m\"\u001b[39;49m\u001b[33;43msaga\u001b[39;49m\u001b[33;43m\"\u001b[39;49m\u001b[43m]\u001b[49m\u001b[43m,\u001b[49m\n\u001b[32m   1230\u001b[39m \u001b[43m\u001b[49m\u001b[43m)\u001b[49m\n\u001b[32m   1231\u001b[39m check_classification_targets(y)\n\u001b[32m   1232\u001b[39m \u001b[38;5;28mself\u001b[39m.classes_ = np.unique(y)\n",
      "\u001b[36mFile \u001b[39m\u001b[32m/Library/Frameworks/Python.framework/Versions/3.12/lib/python3.12/site-packages/sklearn/utils/validation.py:2961\u001b[39m, in \u001b[36mvalidate_data\u001b[39m\u001b[34m(_estimator, X, y, reset, validate_separately, skip_check_array, **check_params)\u001b[39m\n\u001b[32m   2959\u001b[39m         y = check_array(y, input_name=\u001b[33m\"\u001b[39m\u001b[33my\u001b[39m\u001b[33m\"\u001b[39m, **check_y_params)\n\u001b[32m   2960\u001b[39m     \u001b[38;5;28;01melse\u001b[39;00m:\n\u001b[32m-> \u001b[39m\u001b[32m2961\u001b[39m         X, y = \u001b[43mcheck_X_y\u001b[49m\u001b[43m(\u001b[49m\u001b[43mX\u001b[49m\u001b[43m,\u001b[49m\u001b[43m \u001b[49m\u001b[43my\u001b[49m\u001b[43m,\u001b[49m\u001b[43m \u001b[49m\u001b[43m*\u001b[49m\u001b[43m*\u001b[49m\u001b[43mcheck_params\u001b[49m\u001b[43m)\u001b[49m\n\u001b[32m   2962\u001b[39m     out = X, y\n\u001b[32m   2964\u001b[39m \u001b[38;5;28;01mif\u001b[39;00m \u001b[38;5;129;01mnot\u001b[39;00m no_val_X \u001b[38;5;129;01mand\u001b[39;00m check_params.get(\u001b[33m\"\u001b[39m\u001b[33mensure_2d\u001b[39m\u001b[33m\"\u001b[39m, \u001b[38;5;28;01mTrue\u001b[39;00m):\n",
      "\u001b[36mFile \u001b[39m\u001b[32m/Library/Frameworks/Python.framework/Versions/3.12/lib/python3.12/site-packages/sklearn/utils/validation.py:1387\u001b[39m, in \u001b[36mcheck_X_y\u001b[39m\u001b[34m(X, y, accept_sparse, accept_large_sparse, dtype, order, copy, force_writeable, force_all_finite, ensure_all_finite, ensure_2d, allow_nd, multi_output, ensure_min_samples, ensure_min_features, y_numeric, estimator)\u001b[39m\n\u001b[32m   1368\u001b[39m ensure_all_finite = _deprecate_force_all_finite(force_all_finite, ensure_all_finite)\n\u001b[32m   1370\u001b[39m X = check_array(\n\u001b[32m   1371\u001b[39m     X,\n\u001b[32m   1372\u001b[39m     accept_sparse=accept_sparse,\n\u001b[32m   (...)\u001b[39m\u001b[32m   1384\u001b[39m     input_name=\u001b[33m\"\u001b[39m\u001b[33mX\u001b[39m\u001b[33m\"\u001b[39m,\n\u001b[32m   1385\u001b[39m )\n\u001b[32m-> \u001b[39m\u001b[32m1387\u001b[39m y = \u001b[43m_check_y\u001b[49m\u001b[43m(\u001b[49m\u001b[43my\u001b[49m\u001b[43m,\u001b[49m\u001b[43m \u001b[49m\u001b[43mmulti_output\u001b[49m\u001b[43m=\u001b[49m\u001b[43mmulti_output\u001b[49m\u001b[43m,\u001b[49m\u001b[43m \u001b[49m\u001b[43my_numeric\u001b[49m\u001b[43m=\u001b[49m\u001b[43my_numeric\u001b[49m\u001b[43m,\u001b[49m\u001b[43m \u001b[49m\u001b[43mestimator\u001b[49m\u001b[43m=\u001b[49m\u001b[43mestimator\u001b[49m\u001b[43m)\u001b[49m\n\u001b[32m   1389\u001b[39m check_consistent_length(X, y)\n\u001b[32m   1391\u001b[39m \u001b[38;5;28;01mreturn\u001b[39;00m X, y\n",
      "\u001b[36mFile \u001b[39m\u001b[32m/Library/Frameworks/Python.framework/Versions/3.12/lib/python3.12/site-packages/sklearn/utils/validation.py:1409\u001b[39m, in \u001b[36m_check_y\u001b[39m\u001b[34m(y, multi_output, y_numeric, estimator)\u001b[39m\n\u001b[32m   1407\u001b[39m     estimator_name = _check_estimator_name(estimator)\n\u001b[32m   1408\u001b[39m     y = column_or_1d(y, warn=\u001b[38;5;28;01mTrue\u001b[39;00m)\n\u001b[32m-> \u001b[39m\u001b[32m1409\u001b[39m     \u001b[43m_assert_all_finite\u001b[49m\u001b[43m(\u001b[49m\u001b[43my\u001b[49m\u001b[43m,\u001b[49m\u001b[43m \u001b[49m\u001b[43minput_name\u001b[49m\u001b[43m=\u001b[49m\u001b[33;43m\"\u001b[39;49m\u001b[33;43my\u001b[39;49m\u001b[33;43m\"\u001b[39;49m\u001b[43m,\u001b[49m\u001b[43m \u001b[49m\u001b[43mestimator_name\u001b[49m\u001b[43m=\u001b[49m\u001b[43mestimator_name\u001b[49m\u001b[43m)\u001b[49m\n\u001b[32m   1410\u001b[39m     _ensure_no_complex_data(y)\n\u001b[32m   1411\u001b[39m \u001b[38;5;28;01mif\u001b[39;00m y_numeric \u001b[38;5;129;01mand\u001b[39;00m \u001b[38;5;28mhasattr\u001b[39m(y.dtype, \u001b[33m\"\u001b[39m\u001b[33mkind\u001b[39m\u001b[33m\"\u001b[39m) \u001b[38;5;129;01mand\u001b[39;00m y.dtype.kind == \u001b[33m\"\u001b[39m\u001b[33mO\u001b[39m\u001b[33m\"\u001b[39m:\n",
      "\u001b[36mFile \u001b[39m\u001b[32m/Library/Frameworks/Python.framework/Versions/3.12/lib/python3.12/site-packages/sklearn/utils/validation.py:120\u001b[39m, in \u001b[36m_assert_all_finite\u001b[39m\u001b[34m(X, allow_nan, msg_dtype, estimator_name, input_name)\u001b[39m\n\u001b[32m    117\u001b[39m \u001b[38;5;28;01mif\u001b[39;00m first_pass_isfinite:\n\u001b[32m    118\u001b[39m     \u001b[38;5;28;01mreturn\u001b[39;00m\n\u001b[32m--> \u001b[39m\u001b[32m120\u001b[39m \u001b[43m_assert_all_finite_element_wise\u001b[49m\u001b[43m(\u001b[49m\n\u001b[32m    121\u001b[39m \u001b[43m    \u001b[49m\u001b[43mX\u001b[49m\u001b[43m,\u001b[49m\n\u001b[32m    122\u001b[39m \u001b[43m    \u001b[49m\u001b[43mxp\u001b[49m\u001b[43m=\u001b[49m\u001b[43mxp\u001b[49m\u001b[43m,\u001b[49m\n\u001b[32m    123\u001b[39m \u001b[43m    \u001b[49m\u001b[43mallow_nan\u001b[49m\u001b[43m=\u001b[49m\u001b[43mallow_nan\u001b[49m\u001b[43m,\u001b[49m\n\u001b[32m    124\u001b[39m \u001b[43m    \u001b[49m\u001b[43mmsg_dtype\u001b[49m\u001b[43m=\u001b[49m\u001b[43mmsg_dtype\u001b[49m\u001b[43m,\u001b[49m\n\u001b[32m    125\u001b[39m \u001b[43m    \u001b[49m\u001b[43mestimator_name\u001b[49m\u001b[43m=\u001b[49m\u001b[43mestimator_name\u001b[49m\u001b[43m,\u001b[49m\n\u001b[32m    126\u001b[39m \u001b[43m    \u001b[49m\u001b[43minput_name\u001b[49m\u001b[43m=\u001b[49m\u001b[43minput_name\u001b[49m\u001b[43m,\u001b[49m\n\u001b[32m    127\u001b[39m \u001b[43m\u001b[49m\u001b[43m)\u001b[49m\n",
      "\u001b[36mFile \u001b[39m\u001b[32m/Library/Frameworks/Python.framework/Versions/3.12/lib/python3.12/site-packages/sklearn/utils/validation.py:169\u001b[39m, in \u001b[36m_assert_all_finite_element_wise\u001b[39m\u001b[34m(X, xp, allow_nan, msg_dtype, estimator_name, input_name)\u001b[39m\n\u001b[32m    152\u001b[39m \u001b[38;5;28;01mif\u001b[39;00m estimator_name \u001b[38;5;129;01mand\u001b[39;00m input_name == \u001b[33m\"\u001b[39m\u001b[33mX\u001b[39m\u001b[33m\"\u001b[39m \u001b[38;5;129;01mand\u001b[39;00m has_nan_error:\n\u001b[32m    153\u001b[39m     \u001b[38;5;66;03m# Improve the error message on how to handle missing values in\u001b[39;00m\n\u001b[32m    154\u001b[39m     \u001b[38;5;66;03m# scikit-learn.\u001b[39;00m\n\u001b[32m    155\u001b[39m     msg_err += (\n\u001b[32m    156\u001b[39m         \u001b[33mf\u001b[39m\u001b[33m\"\u001b[39m\u001b[38;5;130;01m\\n\u001b[39;00m\u001b[38;5;132;01m{\u001b[39;00mestimator_name\u001b[38;5;132;01m}\u001b[39;00m\u001b[33m does not accept missing values\u001b[39m\u001b[33m\"\u001b[39m\n\u001b[32m    157\u001b[39m         \u001b[33m\"\u001b[39m\u001b[33m encoded as NaN natively. For supervised learning, you might want\u001b[39m\u001b[33m\"\u001b[39m\n\u001b[32m   (...)\u001b[39m\u001b[32m    167\u001b[39m         \u001b[33m\"\u001b[39m\u001b[33m#estimators-that-handle-nan-values\u001b[39m\u001b[33m\"\u001b[39m\n\u001b[32m    168\u001b[39m     )\n\u001b[32m--> \u001b[39m\u001b[32m169\u001b[39m \u001b[38;5;28;01mraise\u001b[39;00m \u001b[38;5;167;01mValueError\u001b[39;00m(msg_err)\n",
      "\u001b[31mValueError\u001b[39m: Input y contains NaN."
     ]
    }
   ],
   "source": [
    "ALEIDA_relo=regresioncion_logistica(ALEIDA,\"ALEIDA\",\"NO ALEIDA\")"
   ]
  },
  {
   "cell_type": "code",
   "execution_count": 67,
   "id": "fb15adbf",
   "metadata": {},
   "outputs": [
    {
     "data": {
      "text/plain": [
       "0    NO ARLETT\n",
       "1    NO ARLETT\n",
       "2    NO ARLETT\n",
       "3    NO ARLETT\n",
       "4    NO ARLETT\n",
       "Name: Usuario, dtype: object"
      ]
     },
     "execution_count": 67,
     "metadata": {},
     "output_type": "execute_result"
    }
   ],
   "source": [
    "ARLETT= data_sin_nulos['Usuario'].replace(['ADRIAN', 'ALEIDA', 'ASHLEY ', 'AUSTIN', 'BENJAMIN','CARLOS ABEL', 'CARLOS ENRIQUE', 'CONCEPCION', 'DENISSE','ERICK OSVALDO', 'ESMERALDA', 'IKER BENJAMIN', 'INGRID', 'IRVING ','JESUS ALEJANDRO', 'JOSE IAN', 'JOSE IGNACIO TADEO','JOSE JAVIER ', 'JOSHUA', 'KYTZIA', 'LEONARDO', 'LEONARDO ','MA DEL ROSARIO ', 'NICOLAS |', 'RENE ', 'SERGIO ANGEL','VALENTIN', 'YAEL DAVID', 'YEREMI YAZMIN ', 'erick ','jesus eduardo', 'nicolas', 'ramiro isai'], \"NO ARLETT\")\n",
    "ARLETT.head()"
   ]
  },
  {
   "cell_type": "code",
   "execution_count": 68,
   "id": "80673906",
   "metadata": {},
   "outputs": [
    {
     "ename": "ValueError",
     "evalue": "Input y contains NaN.",
     "output_type": "error",
     "traceback": [
      "\u001b[31m---------------------------------------------------------------------------\u001b[39m",
      "\u001b[31mValueError\u001b[39m                                Traceback (most recent call last)",
      "\u001b[36mCell\u001b[39m\u001b[36m \u001b[39m\u001b[32mIn[68]\u001b[39m\u001b[32m, line 1\u001b[39m\n\u001b[32m----> \u001b[39m\u001b[32m1\u001b[39m ARLETT_relo=\u001b[43mregresioncion_logistica\u001b[49m\u001b[43m(\u001b[49m\u001b[43mARLETT\u001b[49m\u001b[43m,\u001b[49m\u001b[33;43m\"\u001b[39;49m\u001b[33;43mARLETT\u001b[39;49m\u001b[33;43m\"\u001b[39;49m\u001b[43m,\u001b[49m\u001b[33;43m\"\u001b[39;49m\u001b[33;43mNO ARLETT\u001b[39;49m\u001b[33;43m\"\u001b[39;49m\u001b[43m)\u001b[49m\n",
      "\u001b[36mCell\u001b[39m\u001b[36m \u001b[39m\u001b[32mIn[30]\u001b[39m\u001b[32m, line 21\u001b[39m, in \u001b[36mregresioncion_logistica\u001b[39m\u001b[34m(dicotomica, si, no)\u001b[39m\n\u001b[32m     19\u001b[39m X_test = escalar.transform(X_test)\n\u001b[32m     20\u001b[39m algoritmo = LogisticRegression()\n\u001b[32m---> \u001b[39m\u001b[32m21\u001b[39m \u001b[43malgoritmo\u001b[49m\u001b[43m.\u001b[49m\u001b[43mfit\u001b[49m\u001b[43m(\u001b[49m\u001b[43mX_train\u001b[49m\u001b[43m,\u001b[49m\u001b[43m \u001b[49m\u001b[43mY_train\u001b[49m\u001b[43m)\u001b[49m\n\u001b[32m     22\u001b[39m Y_pred = algoritmo.predict(X_test) \n\u001b[32m     23\u001b[39m matriz = confusion_matrix(Y_test, Y_pred)\n",
      "\u001b[36mFile \u001b[39m\u001b[32m/Library/Frameworks/Python.framework/Versions/3.12/lib/python3.12/site-packages/sklearn/base.py:1389\u001b[39m, in \u001b[36m_fit_context.<locals>.decorator.<locals>.wrapper\u001b[39m\u001b[34m(estimator, *args, **kwargs)\u001b[39m\n\u001b[32m   1382\u001b[39m     estimator._validate_params()\n\u001b[32m   1384\u001b[39m \u001b[38;5;28;01mwith\u001b[39;00m config_context(\n\u001b[32m   1385\u001b[39m     skip_parameter_validation=(\n\u001b[32m   1386\u001b[39m         prefer_skip_nested_validation \u001b[38;5;129;01mor\u001b[39;00m global_skip_validation\n\u001b[32m   1387\u001b[39m     )\n\u001b[32m   1388\u001b[39m ):\n\u001b[32m-> \u001b[39m\u001b[32m1389\u001b[39m     \u001b[38;5;28;01mreturn\u001b[39;00m \u001b[43mfit_method\u001b[49m\u001b[43m(\u001b[49m\u001b[43mestimator\u001b[49m\u001b[43m,\u001b[49m\u001b[43m \u001b[49m\u001b[43m*\u001b[49m\u001b[43margs\u001b[49m\u001b[43m,\u001b[49m\u001b[43m \u001b[49m\u001b[43m*\u001b[49m\u001b[43m*\u001b[49m\u001b[43mkwargs\u001b[49m\u001b[43m)\u001b[49m\n",
      "\u001b[36mFile \u001b[39m\u001b[32m/Library/Frameworks/Python.framework/Versions/3.12/lib/python3.12/site-packages/sklearn/linear_model/_logistic.py:1222\u001b[39m, in \u001b[36mLogisticRegression.fit\u001b[39m\u001b[34m(self, X, y, sample_weight)\u001b[39m\n\u001b[32m   1219\u001b[39m \u001b[38;5;28;01melse\u001b[39;00m:\n\u001b[32m   1220\u001b[39m     _dtype = [np.float64, np.float32]\n\u001b[32m-> \u001b[39m\u001b[32m1222\u001b[39m X, y = \u001b[43mvalidate_data\u001b[49m\u001b[43m(\u001b[49m\n\u001b[32m   1223\u001b[39m \u001b[43m    \u001b[49m\u001b[38;5;28;43mself\u001b[39;49m\u001b[43m,\u001b[49m\n\u001b[32m   1224\u001b[39m \u001b[43m    \u001b[49m\u001b[43mX\u001b[49m\u001b[43m,\u001b[49m\n\u001b[32m   1225\u001b[39m \u001b[43m    \u001b[49m\u001b[43my\u001b[49m\u001b[43m,\u001b[49m\n\u001b[32m   1226\u001b[39m \u001b[43m    \u001b[49m\u001b[43maccept_sparse\u001b[49m\u001b[43m=\u001b[49m\u001b[33;43m\"\u001b[39;49m\u001b[33;43mcsr\u001b[39;49m\u001b[33;43m\"\u001b[39;49m\u001b[43m,\u001b[49m\n\u001b[32m   1227\u001b[39m \u001b[43m    \u001b[49m\u001b[43mdtype\u001b[49m\u001b[43m=\u001b[49m\u001b[43m_dtype\u001b[49m\u001b[43m,\u001b[49m\n\u001b[32m   1228\u001b[39m \u001b[43m    \u001b[49m\u001b[43morder\u001b[49m\u001b[43m=\u001b[49m\u001b[33;43m\"\u001b[39;49m\u001b[33;43mC\u001b[39;49m\u001b[33;43m\"\u001b[39;49m\u001b[43m,\u001b[49m\n\u001b[32m   1229\u001b[39m \u001b[43m    \u001b[49m\u001b[43maccept_large_sparse\u001b[49m\u001b[43m=\u001b[49m\u001b[43msolver\u001b[49m\u001b[43m \u001b[49m\u001b[38;5;129;43;01mnot\u001b[39;49;00m\u001b[43m \u001b[49m\u001b[38;5;129;43;01min\u001b[39;49;00m\u001b[43m \u001b[49m\u001b[43m[\u001b[49m\u001b[33;43m\"\u001b[39;49m\u001b[33;43mliblinear\u001b[39;49m\u001b[33;43m\"\u001b[39;49m\u001b[43m,\u001b[49m\u001b[43m \u001b[49m\u001b[33;43m\"\u001b[39;49m\u001b[33;43msag\u001b[39;49m\u001b[33;43m\"\u001b[39;49m\u001b[43m,\u001b[49m\u001b[43m \u001b[49m\u001b[33;43m\"\u001b[39;49m\u001b[33;43msaga\u001b[39;49m\u001b[33;43m\"\u001b[39;49m\u001b[43m]\u001b[49m\u001b[43m,\u001b[49m\n\u001b[32m   1230\u001b[39m \u001b[43m\u001b[49m\u001b[43m)\u001b[49m\n\u001b[32m   1231\u001b[39m check_classification_targets(y)\n\u001b[32m   1232\u001b[39m \u001b[38;5;28mself\u001b[39m.classes_ = np.unique(y)\n",
      "\u001b[36mFile \u001b[39m\u001b[32m/Library/Frameworks/Python.framework/Versions/3.12/lib/python3.12/site-packages/sklearn/utils/validation.py:2961\u001b[39m, in \u001b[36mvalidate_data\u001b[39m\u001b[34m(_estimator, X, y, reset, validate_separately, skip_check_array, **check_params)\u001b[39m\n\u001b[32m   2959\u001b[39m         y = check_array(y, input_name=\u001b[33m\"\u001b[39m\u001b[33my\u001b[39m\u001b[33m\"\u001b[39m, **check_y_params)\n\u001b[32m   2960\u001b[39m     \u001b[38;5;28;01melse\u001b[39;00m:\n\u001b[32m-> \u001b[39m\u001b[32m2961\u001b[39m         X, y = \u001b[43mcheck_X_y\u001b[49m\u001b[43m(\u001b[49m\u001b[43mX\u001b[49m\u001b[43m,\u001b[49m\u001b[43m \u001b[49m\u001b[43my\u001b[49m\u001b[43m,\u001b[49m\u001b[43m \u001b[49m\u001b[43m*\u001b[49m\u001b[43m*\u001b[49m\u001b[43mcheck_params\u001b[49m\u001b[43m)\u001b[49m\n\u001b[32m   2962\u001b[39m     out = X, y\n\u001b[32m   2964\u001b[39m \u001b[38;5;28;01mif\u001b[39;00m \u001b[38;5;129;01mnot\u001b[39;00m no_val_X \u001b[38;5;129;01mand\u001b[39;00m check_params.get(\u001b[33m\"\u001b[39m\u001b[33mensure_2d\u001b[39m\u001b[33m\"\u001b[39m, \u001b[38;5;28;01mTrue\u001b[39;00m):\n",
      "\u001b[36mFile \u001b[39m\u001b[32m/Library/Frameworks/Python.framework/Versions/3.12/lib/python3.12/site-packages/sklearn/utils/validation.py:1387\u001b[39m, in \u001b[36mcheck_X_y\u001b[39m\u001b[34m(X, y, accept_sparse, accept_large_sparse, dtype, order, copy, force_writeable, force_all_finite, ensure_all_finite, ensure_2d, allow_nd, multi_output, ensure_min_samples, ensure_min_features, y_numeric, estimator)\u001b[39m\n\u001b[32m   1368\u001b[39m ensure_all_finite = _deprecate_force_all_finite(force_all_finite, ensure_all_finite)\n\u001b[32m   1370\u001b[39m X = check_array(\n\u001b[32m   1371\u001b[39m     X,\n\u001b[32m   1372\u001b[39m     accept_sparse=accept_sparse,\n\u001b[32m   (...)\u001b[39m\u001b[32m   1384\u001b[39m     input_name=\u001b[33m\"\u001b[39m\u001b[33mX\u001b[39m\u001b[33m\"\u001b[39m,\n\u001b[32m   1385\u001b[39m )\n\u001b[32m-> \u001b[39m\u001b[32m1387\u001b[39m y = \u001b[43m_check_y\u001b[49m\u001b[43m(\u001b[49m\u001b[43my\u001b[49m\u001b[43m,\u001b[49m\u001b[43m \u001b[49m\u001b[43mmulti_output\u001b[49m\u001b[43m=\u001b[49m\u001b[43mmulti_output\u001b[49m\u001b[43m,\u001b[49m\u001b[43m \u001b[49m\u001b[43my_numeric\u001b[49m\u001b[43m=\u001b[49m\u001b[43my_numeric\u001b[49m\u001b[43m,\u001b[49m\u001b[43m \u001b[49m\u001b[43mestimator\u001b[49m\u001b[43m=\u001b[49m\u001b[43mestimator\u001b[49m\u001b[43m)\u001b[49m\n\u001b[32m   1389\u001b[39m check_consistent_length(X, y)\n\u001b[32m   1391\u001b[39m \u001b[38;5;28;01mreturn\u001b[39;00m X, y\n",
      "\u001b[36mFile \u001b[39m\u001b[32m/Library/Frameworks/Python.framework/Versions/3.12/lib/python3.12/site-packages/sklearn/utils/validation.py:1409\u001b[39m, in \u001b[36m_check_y\u001b[39m\u001b[34m(y, multi_output, y_numeric, estimator)\u001b[39m\n\u001b[32m   1407\u001b[39m     estimator_name = _check_estimator_name(estimator)\n\u001b[32m   1408\u001b[39m     y = column_or_1d(y, warn=\u001b[38;5;28;01mTrue\u001b[39;00m)\n\u001b[32m-> \u001b[39m\u001b[32m1409\u001b[39m     \u001b[43m_assert_all_finite\u001b[49m\u001b[43m(\u001b[49m\u001b[43my\u001b[49m\u001b[43m,\u001b[49m\u001b[43m \u001b[49m\u001b[43minput_name\u001b[49m\u001b[43m=\u001b[49m\u001b[33;43m\"\u001b[39;49m\u001b[33;43my\u001b[39;49m\u001b[33;43m\"\u001b[39;49m\u001b[43m,\u001b[49m\u001b[43m \u001b[49m\u001b[43mestimator_name\u001b[49m\u001b[43m=\u001b[49m\u001b[43mestimator_name\u001b[49m\u001b[43m)\u001b[49m\n\u001b[32m   1410\u001b[39m     _ensure_no_complex_data(y)\n\u001b[32m   1411\u001b[39m \u001b[38;5;28;01mif\u001b[39;00m y_numeric \u001b[38;5;129;01mand\u001b[39;00m \u001b[38;5;28mhasattr\u001b[39m(y.dtype, \u001b[33m\"\u001b[39m\u001b[33mkind\u001b[39m\u001b[33m\"\u001b[39m) \u001b[38;5;129;01mand\u001b[39;00m y.dtype.kind == \u001b[33m\"\u001b[39m\u001b[33mO\u001b[39m\u001b[33m\"\u001b[39m:\n",
      "\u001b[36mFile \u001b[39m\u001b[32m/Library/Frameworks/Python.framework/Versions/3.12/lib/python3.12/site-packages/sklearn/utils/validation.py:120\u001b[39m, in \u001b[36m_assert_all_finite\u001b[39m\u001b[34m(X, allow_nan, msg_dtype, estimator_name, input_name)\u001b[39m\n\u001b[32m    117\u001b[39m \u001b[38;5;28;01mif\u001b[39;00m first_pass_isfinite:\n\u001b[32m    118\u001b[39m     \u001b[38;5;28;01mreturn\u001b[39;00m\n\u001b[32m--> \u001b[39m\u001b[32m120\u001b[39m \u001b[43m_assert_all_finite_element_wise\u001b[49m\u001b[43m(\u001b[49m\n\u001b[32m    121\u001b[39m \u001b[43m    \u001b[49m\u001b[43mX\u001b[49m\u001b[43m,\u001b[49m\n\u001b[32m    122\u001b[39m \u001b[43m    \u001b[49m\u001b[43mxp\u001b[49m\u001b[43m=\u001b[49m\u001b[43mxp\u001b[49m\u001b[43m,\u001b[49m\n\u001b[32m    123\u001b[39m \u001b[43m    \u001b[49m\u001b[43mallow_nan\u001b[49m\u001b[43m=\u001b[49m\u001b[43mallow_nan\u001b[49m\u001b[43m,\u001b[49m\n\u001b[32m    124\u001b[39m \u001b[43m    \u001b[49m\u001b[43mmsg_dtype\u001b[49m\u001b[43m=\u001b[49m\u001b[43mmsg_dtype\u001b[49m\u001b[43m,\u001b[49m\n\u001b[32m    125\u001b[39m \u001b[43m    \u001b[49m\u001b[43mestimator_name\u001b[49m\u001b[43m=\u001b[49m\u001b[43mestimator_name\u001b[49m\u001b[43m,\u001b[49m\n\u001b[32m    126\u001b[39m \u001b[43m    \u001b[49m\u001b[43minput_name\u001b[49m\u001b[43m=\u001b[49m\u001b[43minput_name\u001b[49m\u001b[43m,\u001b[49m\n\u001b[32m    127\u001b[39m \u001b[43m\u001b[49m\u001b[43m)\u001b[49m\n",
      "\u001b[36mFile \u001b[39m\u001b[32m/Library/Frameworks/Python.framework/Versions/3.12/lib/python3.12/site-packages/sklearn/utils/validation.py:169\u001b[39m, in \u001b[36m_assert_all_finite_element_wise\u001b[39m\u001b[34m(X, xp, allow_nan, msg_dtype, estimator_name, input_name)\u001b[39m\n\u001b[32m    152\u001b[39m \u001b[38;5;28;01mif\u001b[39;00m estimator_name \u001b[38;5;129;01mand\u001b[39;00m input_name == \u001b[33m\"\u001b[39m\u001b[33mX\u001b[39m\u001b[33m\"\u001b[39m \u001b[38;5;129;01mand\u001b[39;00m has_nan_error:\n\u001b[32m    153\u001b[39m     \u001b[38;5;66;03m# Improve the error message on how to handle missing values in\u001b[39;00m\n\u001b[32m    154\u001b[39m     \u001b[38;5;66;03m# scikit-learn.\u001b[39;00m\n\u001b[32m    155\u001b[39m     msg_err += (\n\u001b[32m    156\u001b[39m         \u001b[33mf\u001b[39m\u001b[33m\"\u001b[39m\u001b[38;5;130;01m\\n\u001b[39;00m\u001b[38;5;132;01m{\u001b[39;00mestimator_name\u001b[38;5;132;01m}\u001b[39;00m\u001b[33m does not accept missing values\u001b[39m\u001b[33m\"\u001b[39m\n\u001b[32m    157\u001b[39m         \u001b[33m\"\u001b[39m\u001b[33m encoded as NaN natively. For supervised learning, you might want\u001b[39m\u001b[33m\"\u001b[39m\n\u001b[32m   (...)\u001b[39m\u001b[32m    167\u001b[39m         \u001b[33m\"\u001b[39m\u001b[33m#estimators-that-handle-nan-values\u001b[39m\u001b[33m\"\u001b[39m\n\u001b[32m    168\u001b[39m     )\n\u001b[32m--> \u001b[39m\u001b[32m169\u001b[39m \u001b[38;5;28;01mraise\u001b[39;00m \u001b[38;5;167;01mValueError\u001b[39;00m(msg_err)\n",
      "\u001b[31mValueError\u001b[39m: Input y contains NaN."
     ]
    }
   ],
   "source": [
    "ARLETT_relo=regresioncion_logistica(ARLETT,\"ARLETT\",\"NO ARLETT\")"
   ]
  },
  {
   "cell_type": "code",
   "execution_count": 69,
   "id": "a39e0a24",
   "metadata": {},
   "outputs": [
    {
     "data": {
      "text/plain": [
       "0    NO ASHLEY\n",
       "1    NO ASHLEY\n",
       "2    NO ASHLEY\n",
       "3    NO ASHLEY\n",
       "4    NO ASHLEY\n",
       "Name: Usuario, dtype: object"
      ]
     },
     "execution_count": 69,
     "metadata": {},
     "output_type": "execute_result"
    }
   ],
   "source": [
    "ASHLEY= data_sin_nulos['Usuario'].replace(['ADRIAN', 'ALEIDA', 'ARLETT', 'AUSTIN', 'BENJAMIN','CARLOS ABEL', 'CARLOS ENRIQUE', 'CONCEPCION', 'DENISSE','ERICK OSVALDO', 'ESMERALDA', 'IKER BENJAMIN', 'INGRID', 'IRVING ','JESUS ALEJANDRO', 'JOSE IAN', 'JOSE IGNACIO TADEO','JOSE JAVIER ', 'JOSHUA', 'KYTZIA', 'LEONARDO', 'LEONARDO ','MA DEL ROSARIO ', 'NICOLAS |', 'RENE ', 'SERGIO ANGEL','VALENTIN', 'YAEL DAVID', 'YEREMI YAZMIN ', 'erick ','jesus eduardo', 'nicolas', 'ramiro isai'], \"NO ASHLEY\")\n",
    "ASHLEY.head()"
   ]
  },
  {
   "cell_type": "code",
   "execution_count": 70,
   "id": "7402a9d5",
   "metadata": {},
   "outputs": [
    {
     "ename": "ValueError",
     "evalue": "Input y contains NaN.",
     "output_type": "error",
     "traceback": [
      "\u001b[31m---------------------------------------------------------------------------\u001b[39m",
      "\u001b[31mValueError\u001b[39m                                Traceback (most recent call last)",
      "\u001b[36mCell\u001b[39m\u001b[36m \u001b[39m\u001b[32mIn[70]\u001b[39m\u001b[32m, line 1\u001b[39m\n\u001b[32m----> \u001b[39m\u001b[32m1\u001b[39m ASHLEY_relo=\u001b[43mregresioncion_logistica\u001b[49m\u001b[43m(\u001b[49m\u001b[43mASHLEY\u001b[49m\u001b[43m,\u001b[49m\u001b[33;43m\"\u001b[39;49m\u001b[33;43mASHLEY\u001b[39;49m\u001b[33;43m\"\u001b[39;49m\u001b[43m,\u001b[49m\u001b[33;43m\"\u001b[39;49m\u001b[33;43mNO ASHLEY\u001b[39;49m\u001b[33;43m\"\u001b[39;49m\u001b[43m)\u001b[49m\n",
      "\u001b[36mCell\u001b[39m\u001b[36m \u001b[39m\u001b[32mIn[30]\u001b[39m\u001b[32m, line 21\u001b[39m, in \u001b[36mregresioncion_logistica\u001b[39m\u001b[34m(dicotomica, si, no)\u001b[39m\n\u001b[32m     19\u001b[39m X_test = escalar.transform(X_test)\n\u001b[32m     20\u001b[39m algoritmo = LogisticRegression()\n\u001b[32m---> \u001b[39m\u001b[32m21\u001b[39m \u001b[43malgoritmo\u001b[49m\u001b[43m.\u001b[49m\u001b[43mfit\u001b[49m\u001b[43m(\u001b[49m\u001b[43mX_train\u001b[49m\u001b[43m,\u001b[49m\u001b[43m \u001b[49m\u001b[43mY_train\u001b[49m\u001b[43m)\u001b[49m\n\u001b[32m     22\u001b[39m Y_pred = algoritmo.predict(X_test) \n\u001b[32m     23\u001b[39m matriz = confusion_matrix(Y_test, Y_pred)\n",
      "\u001b[36mFile \u001b[39m\u001b[32m/Library/Frameworks/Python.framework/Versions/3.12/lib/python3.12/site-packages/sklearn/base.py:1389\u001b[39m, in \u001b[36m_fit_context.<locals>.decorator.<locals>.wrapper\u001b[39m\u001b[34m(estimator, *args, **kwargs)\u001b[39m\n\u001b[32m   1382\u001b[39m     estimator._validate_params()\n\u001b[32m   1384\u001b[39m \u001b[38;5;28;01mwith\u001b[39;00m config_context(\n\u001b[32m   1385\u001b[39m     skip_parameter_validation=(\n\u001b[32m   1386\u001b[39m         prefer_skip_nested_validation \u001b[38;5;129;01mor\u001b[39;00m global_skip_validation\n\u001b[32m   1387\u001b[39m     )\n\u001b[32m   1388\u001b[39m ):\n\u001b[32m-> \u001b[39m\u001b[32m1389\u001b[39m     \u001b[38;5;28;01mreturn\u001b[39;00m \u001b[43mfit_method\u001b[49m\u001b[43m(\u001b[49m\u001b[43mestimator\u001b[49m\u001b[43m,\u001b[49m\u001b[43m \u001b[49m\u001b[43m*\u001b[49m\u001b[43margs\u001b[49m\u001b[43m,\u001b[49m\u001b[43m \u001b[49m\u001b[43m*\u001b[49m\u001b[43m*\u001b[49m\u001b[43mkwargs\u001b[49m\u001b[43m)\u001b[49m\n",
      "\u001b[36mFile \u001b[39m\u001b[32m/Library/Frameworks/Python.framework/Versions/3.12/lib/python3.12/site-packages/sklearn/linear_model/_logistic.py:1222\u001b[39m, in \u001b[36mLogisticRegression.fit\u001b[39m\u001b[34m(self, X, y, sample_weight)\u001b[39m\n\u001b[32m   1219\u001b[39m \u001b[38;5;28;01melse\u001b[39;00m:\n\u001b[32m   1220\u001b[39m     _dtype = [np.float64, np.float32]\n\u001b[32m-> \u001b[39m\u001b[32m1222\u001b[39m X, y = \u001b[43mvalidate_data\u001b[49m\u001b[43m(\u001b[49m\n\u001b[32m   1223\u001b[39m \u001b[43m    \u001b[49m\u001b[38;5;28;43mself\u001b[39;49m\u001b[43m,\u001b[49m\n\u001b[32m   1224\u001b[39m \u001b[43m    \u001b[49m\u001b[43mX\u001b[49m\u001b[43m,\u001b[49m\n\u001b[32m   1225\u001b[39m \u001b[43m    \u001b[49m\u001b[43my\u001b[49m\u001b[43m,\u001b[49m\n\u001b[32m   1226\u001b[39m \u001b[43m    \u001b[49m\u001b[43maccept_sparse\u001b[49m\u001b[43m=\u001b[49m\u001b[33;43m\"\u001b[39;49m\u001b[33;43mcsr\u001b[39;49m\u001b[33;43m\"\u001b[39;49m\u001b[43m,\u001b[49m\n\u001b[32m   1227\u001b[39m \u001b[43m    \u001b[49m\u001b[43mdtype\u001b[49m\u001b[43m=\u001b[49m\u001b[43m_dtype\u001b[49m\u001b[43m,\u001b[49m\n\u001b[32m   1228\u001b[39m \u001b[43m    \u001b[49m\u001b[43morder\u001b[49m\u001b[43m=\u001b[49m\u001b[33;43m\"\u001b[39;49m\u001b[33;43mC\u001b[39;49m\u001b[33;43m\"\u001b[39;49m\u001b[43m,\u001b[49m\n\u001b[32m   1229\u001b[39m \u001b[43m    \u001b[49m\u001b[43maccept_large_sparse\u001b[49m\u001b[43m=\u001b[49m\u001b[43msolver\u001b[49m\u001b[43m \u001b[49m\u001b[38;5;129;43;01mnot\u001b[39;49;00m\u001b[43m \u001b[49m\u001b[38;5;129;43;01min\u001b[39;49;00m\u001b[43m \u001b[49m\u001b[43m[\u001b[49m\u001b[33;43m\"\u001b[39;49m\u001b[33;43mliblinear\u001b[39;49m\u001b[33;43m\"\u001b[39;49m\u001b[43m,\u001b[49m\u001b[43m \u001b[49m\u001b[33;43m\"\u001b[39;49m\u001b[33;43msag\u001b[39;49m\u001b[33;43m\"\u001b[39;49m\u001b[43m,\u001b[49m\u001b[43m \u001b[49m\u001b[33;43m\"\u001b[39;49m\u001b[33;43msaga\u001b[39;49m\u001b[33;43m\"\u001b[39;49m\u001b[43m]\u001b[49m\u001b[43m,\u001b[49m\n\u001b[32m   1230\u001b[39m \u001b[43m\u001b[49m\u001b[43m)\u001b[49m\n\u001b[32m   1231\u001b[39m check_classification_targets(y)\n\u001b[32m   1232\u001b[39m \u001b[38;5;28mself\u001b[39m.classes_ = np.unique(y)\n",
      "\u001b[36mFile \u001b[39m\u001b[32m/Library/Frameworks/Python.framework/Versions/3.12/lib/python3.12/site-packages/sklearn/utils/validation.py:2961\u001b[39m, in \u001b[36mvalidate_data\u001b[39m\u001b[34m(_estimator, X, y, reset, validate_separately, skip_check_array, **check_params)\u001b[39m\n\u001b[32m   2959\u001b[39m         y = check_array(y, input_name=\u001b[33m\"\u001b[39m\u001b[33my\u001b[39m\u001b[33m\"\u001b[39m, **check_y_params)\n\u001b[32m   2960\u001b[39m     \u001b[38;5;28;01melse\u001b[39;00m:\n\u001b[32m-> \u001b[39m\u001b[32m2961\u001b[39m         X, y = \u001b[43mcheck_X_y\u001b[49m\u001b[43m(\u001b[49m\u001b[43mX\u001b[49m\u001b[43m,\u001b[49m\u001b[43m \u001b[49m\u001b[43my\u001b[49m\u001b[43m,\u001b[49m\u001b[43m \u001b[49m\u001b[43m*\u001b[49m\u001b[43m*\u001b[49m\u001b[43mcheck_params\u001b[49m\u001b[43m)\u001b[49m\n\u001b[32m   2962\u001b[39m     out = X, y\n\u001b[32m   2964\u001b[39m \u001b[38;5;28;01mif\u001b[39;00m \u001b[38;5;129;01mnot\u001b[39;00m no_val_X \u001b[38;5;129;01mand\u001b[39;00m check_params.get(\u001b[33m\"\u001b[39m\u001b[33mensure_2d\u001b[39m\u001b[33m\"\u001b[39m, \u001b[38;5;28;01mTrue\u001b[39;00m):\n",
      "\u001b[36mFile \u001b[39m\u001b[32m/Library/Frameworks/Python.framework/Versions/3.12/lib/python3.12/site-packages/sklearn/utils/validation.py:1387\u001b[39m, in \u001b[36mcheck_X_y\u001b[39m\u001b[34m(X, y, accept_sparse, accept_large_sparse, dtype, order, copy, force_writeable, force_all_finite, ensure_all_finite, ensure_2d, allow_nd, multi_output, ensure_min_samples, ensure_min_features, y_numeric, estimator)\u001b[39m\n\u001b[32m   1368\u001b[39m ensure_all_finite = _deprecate_force_all_finite(force_all_finite, ensure_all_finite)\n\u001b[32m   1370\u001b[39m X = check_array(\n\u001b[32m   1371\u001b[39m     X,\n\u001b[32m   1372\u001b[39m     accept_sparse=accept_sparse,\n\u001b[32m   (...)\u001b[39m\u001b[32m   1384\u001b[39m     input_name=\u001b[33m\"\u001b[39m\u001b[33mX\u001b[39m\u001b[33m\"\u001b[39m,\n\u001b[32m   1385\u001b[39m )\n\u001b[32m-> \u001b[39m\u001b[32m1387\u001b[39m y = \u001b[43m_check_y\u001b[49m\u001b[43m(\u001b[49m\u001b[43my\u001b[49m\u001b[43m,\u001b[49m\u001b[43m \u001b[49m\u001b[43mmulti_output\u001b[49m\u001b[43m=\u001b[49m\u001b[43mmulti_output\u001b[49m\u001b[43m,\u001b[49m\u001b[43m \u001b[49m\u001b[43my_numeric\u001b[49m\u001b[43m=\u001b[49m\u001b[43my_numeric\u001b[49m\u001b[43m,\u001b[49m\u001b[43m \u001b[49m\u001b[43mestimator\u001b[49m\u001b[43m=\u001b[49m\u001b[43mestimator\u001b[49m\u001b[43m)\u001b[49m\n\u001b[32m   1389\u001b[39m check_consistent_length(X, y)\n\u001b[32m   1391\u001b[39m \u001b[38;5;28;01mreturn\u001b[39;00m X, y\n",
      "\u001b[36mFile \u001b[39m\u001b[32m/Library/Frameworks/Python.framework/Versions/3.12/lib/python3.12/site-packages/sklearn/utils/validation.py:1409\u001b[39m, in \u001b[36m_check_y\u001b[39m\u001b[34m(y, multi_output, y_numeric, estimator)\u001b[39m\n\u001b[32m   1407\u001b[39m     estimator_name = _check_estimator_name(estimator)\n\u001b[32m   1408\u001b[39m     y = column_or_1d(y, warn=\u001b[38;5;28;01mTrue\u001b[39;00m)\n\u001b[32m-> \u001b[39m\u001b[32m1409\u001b[39m     \u001b[43m_assert_all_finite\u001b[49m\u001b[43m(\u001b[49m\u001b[43my\u001b[49m\u001b[43m,\u001b[49m\u001b[43m \u001b[49m\u001b[43minput_name\u001b[49m\u001b[43m=\u001b[49m\u001b[33;43m\"\u001b[39;49m\u001b[33;43my\u001b[39;49m\u001b[33;43m\"\u001b[39;49m\u001b[43m,\u001b[49m\u001b[43m \u001b[49m\u001b[43mestimator_name\u001b[49m\u001b[43m=\u001b[49m\u001b[43mestimator_name\u001b[49m\u001b[43m)\u001b[49m\n\u001b[32m   1410\u001b[39m     _ensure_no_complex_data(y)\n\u001b[32m   1411\u001b[39m \u001b[38;5;28;01mif\u001b[39;00m y_numeric \u001b[38;5;129;01mand\u001b[39;00m \u001b[38;5;28mhasattr\u001b[39m(y.dtype, \u001b[33m\"\u001b[39m\u001b[33mkind\u001b[39m\u001b[33m\"\u001b[39m) \u001b[38;5;129;01mand\u001b[39;00m y.dtype.kind == \u001b[33m\"\u001b[39m\u001b[33mO\u001b[39m\u001b[33m\"\u001b[39m:\n",
      "\u001b[36mFile \u001b[39m\u001b[32m/Library/Frameworks/Python.framework/Versions/3.12/lib/python3.12/site-packages/sklearn/utils/validation.py:120\u001b[39m, in \u001b[36m_assert_all_finite\u001b[39m\u001b[34m(X, allow_nan, msg_dtype, estimator_name, input_name)\u001b[39m\n\u001b[32m    117\u001b[39m \u001b[38;5;28;01mif\u001b[39;00m first_pass_isfinite:\n\u001b[32m    118\u001b[39m     \u001b[38;5;28;01mreturn\u001b[39;00m\n\u001b[32m--> \u001b[39m\u001b[32m120\u001b[39m \u001b[43m_assert_all_finite_element_wise\u001b[49m\u001b[43m(\u001b[49m\n\u001b[32m    121\u001b[39m \u001b[43m    \u001b[49m\u001b[43mX\u001b[49m\u001b[43m,\u001b[49m\n\u001b[32m    122\u001b[39m \u001b[43m    \u001b[49m\u001b[43mxp\u001b[49m\u001b[43m=\u001b[49m\u001b[43mxp\u001b[49m\u001b[43m,\u001b[49m\n\u001b[32m    123\u001b[39m \u001b[43m    \u001b[49m\u001b[43mallow_nan\u001b[49m\u001b[43m=\u001b[49m\u001b[43mallow_nan\u001b[49m\u001b[43m,\u001b[49m\n\u001b[32m    124\u001b[39m \u001b[43m    \u001b[49m\u001b[43mmsg_dtype\u001b[49m\u001b[43m=\u001b[49m\u001b[43mmsg_dtype\u001b[49m\u001b[43m,\u001b[49m\n\u001b[32m    125\u001b[39m \u001b[43m    \u001b[49m\u001b[43mestimator_name\u001b[49m\u001b[43m=\u001b[49m\u001b[43mestimator_name\u001b[49m\u001b[43m,\u001b[49m\n\u001b[32m    126\u001b[39m \u001b[43m    \u001b[49m\u001b[43minput_name\u001b[49m\u001b[43m=\u001b[49m\u001b[43minput_name\u001b[49m\u001b[43m,\u001b[49m\n\u001b[32m    127\u001b[39m \u001b[43m\u001b[49m\u001b[43m)\u001b[49m\n",
      "\u001b[36mFile \u001b[39m\u001b[32m/Library/Frameworks/Python.framework/Versions/3.12/lib/python3.12/site-packages/sklearn/utils/validation.py:169\u001b[39m, in \u001b[36m_assert_all_finite_element_wise\u001b[39m\u001b[34m(X, xp, allow_nan, msg_dtype, estimator_name, input_name)\u001b[39m\n\u001b[32m    152\u001b[39m \u001b[38;5;28;01mif\u001b[39;00m estimator_name \u001b[38;5;129;01mand\u001b[39;00m input_name == \u001b[33m\"\u001b[39m\u001b[33mX\u001b[39m\u001b[33m\"\u001b[39m \u001b[38;5;129;01mand\u001b[39;00m has_nan_error:\n\u001b[32m    153\u001b[39m     \u001b[38;5;66;03m# Improve the error message on how to handle missing values in\u001b[39;00m\n\u001b[32m    154\u001b[39m     \u001b[38;5;66;03m# scikit-learn.\u001b[39;00m\n\u001b[32m    155\u001b[39m     msg_err += (\n\u001b[32m    156\u001b[39m         \u001b[33mf\u001b[39m\u001b[33m\"\u001b[39m\u001b[38;5;130;01m\\n\u001b[39;00m\u001b[38;5;132;01m{\u001b[39;00mestimator_name\u001b[38;5;132;01m}\u001b[39;00m\u001b[33m does not accept missing values\u001b[39m\u001b[33m\"\u001b[39m\n\u001b[32m    157\u001b[39m         \u001b[33m\"\u001b[39m\u001b[33m encoded as NaN natively. For supervised learning, you might want\u001b[39m\u001b[33m\"\u001b[39m\n\u001b[32m   (...)\u001b[39m\u001b[32m    167\u001b[39m         \u001b[33m\"\u001b[39m\u001b[33m#estimators-that-handle-nan-values\u001b[39m\u001b[33m\"\u001b[39m\n\u001b[32m    168\u001b[39m     )\n\u001b[32m--> \u001b[39m\u001b[32m169\u001b[39m \u001b[38;5;28;01mraise\u001b[39;00m \u001b[38;5;167;01mValueError\u001b[39;00m(msg_err)\n",
      "\u001b[31mValueError\u001b[39m: Input y contains NaN."
     ]
    }
   ],
   "source": [
    "ASHLEY_relo=regresioncion_logistica(ASHLEY,\"ASHLEY\",\"NO ASHLEY\")"
   ]
  },
  {
   "cell_type": "code",
   "execution_count": 71,
   "id": "401d4e64",
   "metadata": {},
   "outputs": [
    {
     "data": {
      "text/plain": [
       "0    NO AUSTIN\n",
       "1    NO AUSTIN\n",
       "2    NO AUSTIN\n",
       "3    NO AUSTIN\n",
       "4    NO AUSTIN\n",
       "Name: Usuario, dtype: object"
      ]
     },
     "execution_count": 71,
     "metadata": {},
     "output_type": "execute_result"
    }
   ],
   "source": [
    "AUSTIN= data_sin_nulos['Usuario'].replace(['ADRIAN', 'ALEIDA', 'ARLETT', 'ASHLEY ', 'BENJAMIN','CARLOS ABEL', 'CARLOS ENRIQUE', 'CONCEPCION', 'DENISSE','ERICK OSVALDO', 'ESMERALDA', 'IKER BENJAMIN', 'INGRID', 'IRVING ','JESUS ALEJANDRO', 'JOSE IAN', 'JOSE IGNACIO TADEO','JOSE JAVIER ', 'JOSHUA', 'KYTZIA', 'LEONARDO', 'LEONARDO ','MA DEL ROSARIO ', 'NICOLAS |', 'RENE ', 'SERGIO ANGEL','VALENTIN', 'YAEL DAVID', 'YEREMI YAZMIN ', 'erick ','jesus eduardo', 'nicolas', 'ramiro isai'], \"NO AUSTIN\")\n",
    "AUSTIN.head()"
   ]
  },
  {
   "cell_type": "code",
   "execution_count": 72,
   "id": "339ae1b3",
   "metadata": {},
   "outputs": [
    {
     "ename": "ValueError",
     "evalue": "Input y contains NaN.",
     "output_type": "error",
     "traceback": [
      "\u001b[31m---------------------------------------------------------------------------\u001b[39m",
      "\u001b[31mValueError\u001b[39m                                Traceback (most recent call last)",
      "\u001b[36mCell\u001b[39m\u001b[36m \u001b[39m\u001b[32mIn[72]\u001b[39m\u001b[32m, line 1\u001b[39m\n\u001b[32m----> \u001b[39m\u001b[32m1\u001b[39m AUSTIN_relo=\u001b[43mregresioncion_logistica\u001b[49m\u001b[43m(\u001b[49m\u001b[43mAUSTIN\u001b[49m\u001b[43m,\u001b[49m\u001b[33;43m\"\u001b[39;49m\u001b[33;43mAUSTIN\u001b[39;49m\u001b[33;43m\"\u001b[39;49m\u001b[43m,\u001b[49m\u001b[33;43m\"\u001b[39;49m\u001b[33;43mNO AUSTIN\u001b[39;49m\u001b[33;43m\"\u001b[39;49m\u001b[43m)\u001b[49m\n",
      "\u001b[36mCell\u001b[39m\u001b[36m \u001b[39m\u001b[32mIn[30]\u001b[39m\u001b[32m, line 21\u001b[39m, in \u001b[36mregresioncion_logistica\u001b[39m\u001b[34m(dicotomica, si, no)\u001b[39m\n\u001b[32m     19\u001b[39m X_test = escalar.transform(X_test)\n\u001b[32m     20\u001b[39m algoritmo = LogisticRegression()\n\u001b[32m---> \u001b[39m\u001b[32m21\u001b[39m \u001b[43malgoritmo\u001b[49m\u001b[43m.\u001b[49m\u001b[43mfit\u001b[49m\u001b[43m(\u001b[49m\u001b[43mX_train\u001b[49m\u001b[43m,\u001b[49m\u001b[43m \u001b[49m\u001b[43mY_train\u001b[49m\u001b[43m)\u001b[49m\n\u001b[32m     22\u001b[39m Y_pred = algoritmo.predict(X_test) \n\u001b[32m     23\u001b[39m matriz = confusion_matrix(Y_test, Y_pred)\n",
      "\u001b[36mFile \u001b[39m\u001b[32m/Library/Frameworks/Python.framework/Versions/3.12/lib/python3.12/site-packages/sklearn/base.py:1389\u001b[39m, in \u001b[36m_fit_context.<locals>.decorator.<locals>.wrapper\u001b[39m\u001b[34m(estimator, *args, **kwargs)\u001b[39m\n\u001b[32m   1382\u001b[39m     estimator._validate_params()\n\u001b[32m   1384\u001b[39m \u001b[38;5;28;01mwith\u001b[39;00m config_context(\n\u001b[32m   1385\u001b[39m     skip_parameter_validation=(\n\u001b[32m   1386\u001b[39m         prefer_skip_nested_validation \u001b[38;5;129;01mor\u001b[39;00m global_skip_validation\n\u001b[32m   1387\u001b[39m     )\n\u001b[32m   1388\u001b[39m ):\n\u001b[32m-> \u001b[39m\u001b[32m1389\u001b[39m     \u001b[38;5;28;01mreturn\u001b[39;00m \u001b[43mfit_method\u001b[49m\u001b[43m(\u001b[49m\u001b[43mestimator\u001b[49m\u001b[43m,\u001b[49m\u001b[43m \u001b[49m\u001b[43m*\u001b[49m\u001b[43margs\u001b[49m\u001b[43m,\u001b[49m\u001b[43m \u001b[49m\u001b[43m*\u001b[49m\u001b[43m*\u001b[49m\u001b[43mkwargs\u001b[49m\u001b[43m)\u001b[49m\n",
      "\u001b[36mFile \u001b[39m\u001b[32m/Library/Frameworks/Python.framework/Versions/3.12/lib/python3.12/site-packages/sklearn/linear_model/_logistic.py:1222\u001b[39m, in \u001b[36mLogisticRegression.fit\u001b[39m\u001b[34m(self, X, y, sample_weight)\u001b[39m\n\u001b[32m   1219\u001b[39m \u001b[38;5;28;01melse\u001b[39;00m:\n\u001b[32m   1220\u001b[39m     _dtype = [np.float64, np.float32]\n\u001b[32m-> \u001b[39m\u001b[32m1222\u001b[39m X, y = \u001b[43mvalidate_data\u001b[49m\u001b[43m(\u001b[49m\n\u001b[32m   1223\u001b[39m \u001b[43m    \u001b[49m\u001b[38;5;28;43mself\u001b[39;49m\u001b[43m,\u001b[49m\n\u001b[32m   1224\u001b[39m \u001b[43m    \u001b[49m\u001b[43mX\u001b[49m\u001b[43m,\u001b[49m\n\u001b[32m   1225\u001b[39m \u001b[43m    \u001b[49m\u001b[43my\u001b[49m\u001b[43m,\u001b[49m\n\u001b[32m   1226\u001b[39m \u001b[43m    \u001b[49m\u001b[43maccept_sparse\u001b[49m\u001b[43m=\u001b[49m\u001b[33;43m\"\u001b[39;49m\u001b[33;43mcsr\u001b[39;49m\u001b[33;43m\"\u001b[39;49m\u001b[43m,\u001b[49m\n\u001b[32m   1227\u001b[39m \u001b[43m    \u001b[49m\u001b[43mdtype\u001b[49m\u001b[43m=\u001b[49m\u001b[43m_dtype\u001b[49m\u001b[43m,\u001b[49m\n\u001b[32m   1228\u001b[39m \u001b[43m    \u001b[49m\u001b[43morder\u001b[49m\u001b[43m=\u001b[49m\u001b[33;43m\"\u001b[39;49m\u001b[33;43mC\u001b[39;49m\u001b[33;43m\"\u001b[39;49m\u001b[43m,\u001b[49m\n\u001b[32m   1229\u001b[39m \u001b[43m    \u001b[49m\u001b[43maccept_large_sparse\u001b[49m\u001b[43m=\u001b[49m\u001b[43msolver\u001b[49m\u001b[43m \u001b[49m\u001b[38;5;129;43;01mnot\u001b[39;49;00m\u001b[43m \u001b[49m\u001b[38;5;129;43;01min\u001b[39;49;00m\u001b[43m \u001b[49m\u001b[43m[\u001b[49m\u001b[33;43m\"\u001b[39;49m\u001b[33;43mliblinear\u001b[39;49m\u001b[33;43m\"\u001b[39;49m\u001b[43m,\u001b[49m\u001b[43m \u001b[49m\u001b[33;43m\"\u001b[39;49m\u001b[33;43msag\u001b[39;49m\u001b[33;43m\"\u001b[39;49m\u001b[43m,\u001b[49m\u001b[43m \u001b[49m\u001b[33;43m\"\u001b[39;49m\u001b[33;43msaga\u001b[39;49m\u001b[33;43m\"\u001b[39;49m\u001b[43m]\u001b[49m\u001b[43m,\u001b[49m\n\u001b[32m   1230\u001b[39m \u001b[43m\u001b[49m\u001b[43m)\u001b[49m\n\u001b[32m   1231\u001b[39m check_classification_targets(y)\n\u001b[32m   1232\u001b[39m \u001b[38;5;28mself\u001b[39m.classes_ = np.unique(y)\n",
      "\u001b[36mFile \u001b[39m\u001b[32m/Library/Frameworks/Python.framework/Versions/3.12/lib/python3.12/site-packages/sklearn/utils/validation.py:2961\u001b[39m, in \u001b[36mvalidate_data\u001b[39m\u001b[34m(_estimator, X, y, reset, validate_separately, skip_check_array, **check_params)\u001b[39m\n\u001b[32m   2959\u001b[39m         y = check_array(y, input_name=\u001b[33m\"\u001b[39m\u001b[33my\u001b[39m\u001b[33m\"\u001b[39m, **check_y_params)\n\u001b[32m   2960\u001b[39m     \u001b[38;5;28;01melse\u001b[39;00m:\n\u001b[32m-> \u001b[39m\u001b[32m2961\u001b[39m         X, y = \u001b[43mcheck_X_y\u001b[49m\u001b[43m(\u001b[49m\u001b[43mX\u001b[49m\u001b[43m,\u001b[49m\u001b[43m \u001b[49m\u001b[43my\u001b[49m\u001b[43m,\u001b[49m\u001b[43m \u001b[49m\u001b[43m*\u001b[49m\u001b[43m*\u001b[49m\u001b[43mcheck_params\u001b[49m\u001b[43m)\u001b[49m\n\u001b[32m   2962\u001b[39m     out = X, y\n\u001b[32m   2964\u001b[39m \u001b[38;5;28;01mif\u001b[39;00m \u001b[38;5;129;01mnot\u001b[39;00m no_val_X \u001b[38;5;129;01mand\u001b[39;00m check_params.get(\u001b[33m\"\u001b[39m\u001b[33mensure_2d\u001b[39m\u001b[33m\"\u001b[39m, \u001b[38;5;28;01mTrue\u001b[39;00m):\n",
      "\u001b[36mFile \u001b[39m\u001b[32m/Library/Frameworks/Python.framework/Versions/3.12/lib/python3.12/site-packages/sklearn/utils/validation.py:1387\u001b[39m, in \u001b[36mcheck_X_y\u001b[39m\u001b[34m(X, y, accept_sparse, accept_large_sparse, dtype, order, copy, force_writeable, force_all_finite, ensure_all_finite, ensure_2d, allow_nd, multi_output, ensure_min_samples, ensure_min_features, y_numeric, estimator)\u001b[39m\n\u001b[32m   1368\u001b[39m ensure_all_finite = _deprecate_force_all_finite(force_all_finite, ensure_all_finite)\n\u001b[32m   1370\u001b[39m X = check_array(\n\u001b[32m   1371\u001b[39m     X,\n\u001b[32m   1372\u001b[39m     accept_sparse=accept_sparse,\n\u001b[32m   (...)\u001b[39m\u001b[32m   1384\u001b[39m     input_name=\u001b[33m\"\u001b[39m\u001b[33mX\u001b[39m\u001b[33m\"\u001b[39m,\n\u001b[32m   1385\u001b[39m )\n\u001b[32m-> \u001b[39m\u001b[32m1387\u001b[39m y = \u001b[43m_check_y\u001b[49m\u001b[43m(\u001b[49m\u001b[43my\u001b[49m\u001b[43m,\u001b[49m\u001b[43m \u001b[49m\u001b[43mmulti_output\u001b[49m\u001b[43m=\u001b[49m\u001b[43mmulti_output\u001b[49m\u001b[43m,\u001b[49m\u001b[43m \u001b[49m\u001b[43my_numeric\u001b[49m\u001b[43m=\u001b[49m\u001b[43my_numeric\u001b[49m\u001b[43m,\u001b[49m\u001b[43m \u001b[49m\u001b[43mestimator\u001b[49m\u001b[43m=\u001b[49m\u001b[43mestimator\u001b[49m\u001b[43m)\u001b[49m\n\u001b[32m   1389\u001b[39m check_consistent_length(X, y)\n\u001b[32m   1391\u001b[39m \u001b[38;5;28;01mreturn\u001b[39;00m X, y\n",
      "\u001b[36mFile \u001b[39m\u001b[32m/Library/Frameworks/Python.framework/Versions/3.12/lib/python3.12/site-packages/sklearn/utils/validation.py:1409\u001b[39m, in \u001b[36m_check_y\u001b[39m\u001b[34m(y, multi_output, y_numeric, estimator)\u001b[39m\n\u001b[32m   1407\u001b[39m     estimator_name = _check_estimator_name(estimator)\n\u001b[32m   1408\u001b[39m     y = column_or_1d(y, warn=\u001b[38;5;28;01mTrue\u001b[39;00m)\n\u001b[32m-> \u001b[39m\u001b[32m1409\u001b[39m     \u001b[43m_assert_all_finite\u001b[49m\u001b[43m(\u001b[49m\u001b[43my\u001b[49m\u001b[43m,\u001b[49m\u001b[43m \u001b[49m\u001b[43minput_name\u001b[49m\u001b[43m=\u001b[49m\u001b[33;43m\"\u001b[39;49m\u001b[33;43my\u001b[39;49m\u001b[33;43m\"\u001b[39;49m\u001b[43m,\u001b[49m\u001b[43m \u001b[49m\u001b[43mestimator_name\u001b[49m\u001b[43m=\u001b[49m\u001b[43mestimator_name\u001b[49m\u001b[43m)\u001b[49m\n\u001b[32m   1410\u001b[39m     _ensure_no_complex_data(y)\n\u001b[32m   1411\u001b[39m \u001b[38;5;28;01mif\u001b[39;00m y_numeric \u001b[38;5;129;01mand\u001b[39;00m \u001b[38;5;28mhasattr\u001b[39m(y.dtype, \u001b[33m\"\u001b[39m\u001b[33mkind\u001b[39m\u001b[33m\"\u001b[39m) \u001b[38;5;129;01mand\u001b[39;00m y.dtype.kind == \u001b[33m\"\u001b[39m\u001b[33mO\u001b[39m\u001b[33m\"\u001b[39m:\n",
      "\u001b[36mFile \u001b[39m\u001b[32m/Library/Frameworks/Python.framework/Versions/3.12/lib/python3.12/site-packages/sklearn/utils/validation.py:120\u001b[39m, in \u001b[36m_assert_all_finite\u001b[39m\u001b[34m(X, allow_nan, msg_dtype, estimator_name, input_name)\u001b[39m\n\u001b[32m    117\u001b[39m \u001b[38;5;28;01mif\u001b[39;00m first_pass_isfinite:\n\u001b[32m    118\u001b[39m     \u001b[38;5;28;01mreturn\u001b[39;00m\n\u001b[32m--> \u001b[39m\u001b[32m120\u001b[39m \u001b[43m_assert_all_finite_element_wise\u001b[49m\u001b[43m(\u001b[49m\n\u001b[32m    121\u001b[39m \u001b[43m    \u001b[49m\u001b[43mX\u001b[49m\u001b[43m,\u001b[49m\n\u001b[32m    122\u001b[39m \u001b[43m    \u001b[49m\u001b[43mxp\u001b[49m\u001b[43m=\u001b[49m\u001b[43mxp\u001b[49m\u001b[43m,\u001b[49m\n\u001b[32m    123\u001b[39m \u001b[43m    \u001b[49m\u001b[43mallow_nan\u001b[49m\u001b[43m=\u001b[49m\u001b[43mallow_nan\u001b[49m\u001b[43m,\u001b[49m\n\u001b[32m    124\u001b[39m \u001b[43m    \u001b[49m\u001b[43mmsg_dtype\u001b[49m\u001b[43m=\u001b[49m\u001b[43mmsg_dtype\u001b[49m\u001b[43m,\u001b[49m\n\u001b[32m    125\u001b[39m \u001b[43m    \u001b[49m\u001b[43mestimator_name\u001b[49m\u001b[43m=\u001b[49m\u001b[43mestimator_name\u001b[49m\u001b[43m,\u001b[49m\n\u001b[32m    126\u001b[39m \u001b[43m    \u001b[49m\u001b[43minput_name\u001b[49m\u001b[43m=\u001b[49m\u001b[43minput_name\u001b[49m\u001b[43m,\u001b[49m\n\u001b[32m    127\u001b[39m \u001b[43m\u001b[49m\u001b[43m)\u001b[49m\n",
      "\u001b[36mFile \u001b[39m\u001b[32m/Library/Frameworks/Python.framework/Versions/3.12/lib/python3.12/site-packages/sklearn/utils/validation.py:169\u001b[39m, in \u001b[36m_assert_all_finite_element_wise\u001b[39m\u001b[34m(X, xp, allow_nan, msg_dtype, estimator_name, input_name)\u001b[39m\n\u001b[32m    152\u001b[39m \u001b[38;5;28;01mif\u001b[39;00m estimator_name \u001b[38;5;129;01mand\u001b[39;00m input_name == \u001b[33m\"\u001b[39m\u001b[33mX\u001b[39m\u001b[33m\"\u001b[39m \u001b[38;5;129;01mand\u001b[39;00m has_nan_error:\n\u001b[32m    153\u001b[39m     \u001b[38;5;66;03m# Improve the error message on how to handle missing values in\u001b[39;00m\n\u001b[32m    154\u001b[39m     \u001b[38;5;66;03m# scikit-learn.\u001b[39;00m\n\u001b[32m    155\u001b[39m     msg_err += (\n\u001b[32m    156\u001b[39m         \u001b[33mf\u001b[39m\u001b[33m\"\u001b[39m\u001b[38;5;130;01m\\n\u001b[39;00m\u001b[38;5;132;01m{\u001b[39;00mestimator_name\u001b[38;5;132;01m}\u001b[39;00m\u001b[33m does not accept missing values\u001b[39m\u001b[33m\"\u001b[39m\n\u001b[32m    157\u001b[39m         \u001b[33m\"\u001b[39m\u001b[33m encoded as NaN natively. For supervised learning, you might want\u001b[39m\u001b[33m\"\u001b[39m\n\u001b[32m   (...)\u001b[39m\u001b[32m    167\u001b[39m         \u001b[33m\"\u001b[39m\u001b[33m#estimators-that-handle-nan-values\u001b[39m\u001b[33m\"\u001b[39m\n\u001b[32m    168\u001b[39m     )\n\u001b[32m--> \u001b[39m\u001b[32m169\u001b[39m \u001b[38;5;28;01mraise\u001b[39;00m \u001b[38;5;167;01mValueError\u001b[39;00m(msg_err)\n",
      "\u001b[31mValueError\u001b[39m: Input y contains NaN."
     ]
    }
   ],
   "source": [
    "AUSTIN_relo=regresioncion_logistica(AUSTIN,\"AUSTIN\",\"NO AUSTIN\")"
   ]
  },
  {
   "cell_type": "markdown",
   "id": "25f028a7",
   "metadata": {},
   "source": [
    "## Realizar una tabla de todos los coeficientes de precisión, exactitud y sensibilidad "
   ]
  },
  {
   "cell_type": "markdown",
   "id": "bbb49618",
   "metadata": {},
   "source": [
    "Botón correcto"
   ]
  },
  {
   "cell_type": "code",
   "execution_count": 73,
   "id": "ff9adbee",
   "metadata": {},
   "outputs": [
    {
     "name": "stdout",
     "output_type": "stream",
     "text": [
      "Métricas de Botón Correcto: \n",
      "                 Clase  Precisión  Exactitud  Sensibilidad (Recall)  Puntaje F1\n",
      "0  Botón correcto 0.0   0.760479   0.653821               0.481669    0.589783\n",
      "1  Botón correcto 1.0   0.601942   0.653821               0.837838    0.700565\n"
     ]
    }
   ],
   "source": [
    "tabla_metricas = pd.DataFrame({\n",
    "    'Clase': ['Botón correcto 0.0', 'Botón correcto 1.0'],\n",
    "    'Precisión': [precision1_0, precision1],\n",
    "    'Exactitud': [exactitud1_0, exactitud1],\n",
    "    'Sensibilidad (Recall)': [sensibilidad1_0, sensibilidad1],\n",
    "    'Puntaje F1': [puntajef1_1_0, puntajef1_1]\n",
    "})\n",
    "\n",
    "# Mostrar tabla\n",
    "print(\"Métricas de Botón Correcto: \\n\", tabla_metricas)"
   ]
  },
  {
   "cell_type": "markdown",
   "id": "675a473c",
   "metadata": {},
   "source": [
    "Juego"
   ]
  },
  {
   "cell_type": "code",
   "execution_count": 74,
   "id": "5e28ffca",
   "metadata": {},
   "outputs": [
    {
     "name": "stdout",
     "output_type": "stream",
     "text": [
      "Métricas de Juego: \n",
      "                 Clase  Precisión  Exactitud  Sensibilidad (Recall)  Puntaje F1\n",
      "0  Botón correcto 0.0   0.765748    0.67015               0.501935    0.606391\n",
      "1  Botón correcto 1.0   0.622678    0.67015               0.842593    0.716133\n"
     ]
    }
   ],
   "source": [
    "tabla_metricas = pd.DataFrame({\n",
    "    'Clase': ['Botón correcto 0.0', 'Botón correcto 1.0'],\n",
    "    'Precisión': [precision2_0, precision2],\n",
    "    'Exactitud': [exactitud2_0, exactitud2],\n",
    "    'Sensibilidad (Recall)': [sensibilidad2_0, sensibilidad2],\n",
    "    'Puntaje F1': [puntajef1_2_0, puntajef1_2]\n",
    "})\n",
    "\n",
    "# Mostrar tabla\n",
    "print(\"Métricas de Juego: \\n\",tabla_metricas)"
   ]
  },
  {
   "cell_type": "markdown",
   "id": "1ae2b6a7",
   "metadata": {},
   "source": [
    "Auto push"
   ]
  },
  {
   "cell_type": "code",
   "execution_count": 75,
   "id": "d60f8835",
   "metadata": {},
   "outputs": [
    {
     "name": "stdout",
     "output_type": "stream",
     "text": [
      "Métricas de Auto Push: \n",
      "                 Clase  Precisión  Exactitud  Sensibilidad (Recall)  Puntaje F1\n",
      "0  Botón correcto 0.0   0.781705   0.659046               0.474149    0.589783\n",
      "1  Botón correcto 1.0   0.602857   0.659046               0.857724    0.700565\n"
     ]
    }
   ],
   "source": [
    "tabla_metricas = pd.DataFrame({\n",
    "    'Clase': ['Botón correcto 0.0', 'Botón correcto 1.0'],\n",
    "    'Precisión': [precision3_0, precision3],\n",
    "    'Exactitud': [exactitud3_0, exactitud3],\n",
    "    'Sensibilidad (Recall)': [sensibilidad3_0, sensibilidad3],\n",
    "    'Puntaje F1': [puntajef1_3_0, puntajef1_3]\n",
    "})\n",
    "\n",
    "# Mostrar tabla\n",
    "print(\"Métricas de Auto Push: \\n\",tabla_metricas)"
   ]
  }
 ],
 "metadata": {
  "kernelspec": {
   "display_name": "Python 3",
   "language": "python",
   "name": "python3"
  },
  "language_info": {
   "codemirror_mode": {
    "name": "ipython",
    "version": 3
   },
   "file_extension": ".py",
   "mimetype": "text/x-python",
   "name": "python",
   "nbconvert_exporter": "python",
   "pygments_lexer": "ipython3",
   "version": "3.12.4"
  }
 },
 "nbformat": 4,
 "nbformat_minor": 5
}
